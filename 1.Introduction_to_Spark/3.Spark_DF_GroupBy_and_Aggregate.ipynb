{
  "nbformat": 4,
  "nbformat_minor": 0,
  "metadata": {
    "colab": {
      "name": "3.Spark DF GroupBy and Aggregate.ipynb",
      "provenance": [],
      "collapsed_sections": [],
      "authorship_tag": "ABX9TyOkbVansOd8FAGj3cCOf3Em",
      "include_colab_link": true
    },
    "kernelspec": {
      "name": "python3",
      "display_name": "Python 3"
    },
    "language_info": {
      "name": "python"
    }
  },
  "cells": [
    {
      "cell_type": "markdown",
      "metadata": {
        "id": "view-in-github",
        "colab_type": "text"
      },
      "source": [
        "<a href=\"https://colab.research.google.com/github/muhammetsnts/SPARK/blob/main/3.Spark_DF_GroupBy_and_Aggregate.ipynb\" target=\"_parent\"><img src=\"https://colab.research.google.com/assets/colab-badge.svg\" alt=\"Open In Colab\"/></a>"
      ]
    },
    {
      "cell_type": "code",
      "metadata": {
        "colab": {
          "base_uri": "https://localhost:8080/"
        },
        "id": "NZZ4nklL2ja4",
        "outputId": "764b36fc-4f11-472a-cdad-d4211dfddc90"
      },
      "source": [
        "# install Java8\n",
        "!apt-get install openjdk-8-jdk-headless -qq > /dev/null\n",
        "\n",
        "# download spark3.1.1\n",
        "!wget https://archive.apache.org/dist/spark/spark-3.1.1/spark-3.1.1-bin-hadoop2.7.tgz\n",
        "\n",
        "# unzip it\n",
        "!tar xf spark-3.1.1-bin-hadoop2.7.tgz\n",
        "\n",
        "# install findspark \n",
        "!pip install -q findspark"
      ],
      "execution_count": null,
      "outputs": [
        {
          "output_type": "stream",
          "text": [
            "--2021-08-04 07:03:20--  https://archive.apache.org/dist/spark/spark-3.1.1/spark-3.1.1-bin-hadoop2.7.tgz\n",
            "Resolving archive.apache.org (archive.apache.org)... 138.201.131.134, 2a01:4f8:172:2ec5::2\n",
            "Connecting to archive.apache.org (archive.apache.org)|138.201.131.134|:443... connected.\n",
            "HTTP request sent, awaiting response... 200 OK\n",
            "Length: 224374704 (214M) [application/x-gzip]\n",
            "Saving to: ‘spark-3.1.1-bin-hadoop2.7.tgz’\n",
            "\n",
            "spark-3.1.1-bin-had 100%[===================>] 213.98M  25.3MB/s    in 14s     \n",
            "\n",
            "2021-08-04 07:03:34 (15.8 MB/s) - ‘spark-3.1.1-bin-hadoop2.7.tgz’ saved [224374704/224374704]\n",
            "\n",
            "tar: spark-3.1.1-bin-hadoop3.2.tgz: Cannot open: No such file or directory\n",
            "tar: Error is not recoverable: exiting now\n"
          ],
          "name": "stdout"
        }
      ]
    },
    {
      "cell_type": "code",
      "metadata": {
        "id": "QHxvhMry2rIC"
      },
      "source": [
        "import os\n",
        "os.environ[\"JAVA_HOME\"] = \"/usr/lib/jvm/java-8-openjdk-amd64\"\n",
        "os.environ[\"PATH\"] = os.environ[\"JAVA_HOME\"] + \"/bin:\" + os.environ[\"PATH\"]\n",
        "os.environ[\"SPARK_HOME\"] = \"/content/spark-3.1.1-bin-hadoop2.7\""
      ],
      "execution_count": null,
      "outputs": []
    },
    {
      "cell_type": "code",
      "metadata": {
        "id": "97zqK1Kh2zfG"
      },
      "source": [
        "import findspark\n",
        "findspark.init()\n",
        "from pyspark.sql import SparkSession\n",
        "spark = SparkSession.builder.master(\"local[*]\").getOrCreate()\n",
        "#spark = SparkSession.builder.appName('ops').getOrCreate()"
      ],
      "execution_count": null,
      "outputs": []
    },
    {
      "cell_type": "markdown",
      "metadata": {
        "id": "rpW8aos6aYID"
      },
      "source": [
        "# GroupBy and Aggregate Functions"
      ]
    },
    {
      "cell_type": "code",
      "metadata": {
        "id": "dD1GqYAZaMlR"
      },
      "source": [
        "df = spark.read.csv(\"sales_info.csv\", inferSchema=True, header=True)"
      ],
      "execution_count": null,
      "outputs": []
    },
    {
      "cell_type": "code",
      "metadata": {
        "colab": {
          "base_uri": "https://localhost:8080/"
        },
        "id": "-vR-ag8dbHPo",
        "outputId": "8f2e59b3-1623-466d-8313-8e9220aa64b2"
      },
      "source": [
        "df.show()"
      ],
      "execution_count": null,
      "outputs": [
        {
          "output_type": "stream",
          "text": [
            "+-------+-------+-----+\n",
            "|Company| Person|Sales|\n",
            "+-------+-------+-----+\n",
            "|   GOOG|    Sam|200.0|\n",
            "|   GOOG|Charlie|120.0|\n",
            "|   GOOG|  Frank|340.0|\n",
            "|   MSFT|   Tina|600.0|\n",
            "|   MSFT|    Amy|124.0|\n",
            "|   MSFT|Vanessa|243.0|\n",
            "|     FB|   Carl|870.0|\n",
            "|     FB|  Sarah|350.0|\n",
            "|   APPL|   John|250.0|\n",
            "|   APPL|  Linda|130.0|\n",
            "|   APPL|   Mike|750.0|\n",
            "|   APPL|  Chris|350.0|\n",
            "+-------+-------+-----+\n",
            "\n"
          ],
          "name": "stdout"
        }
      ]
    },
    {
      "cell_type": "code",
      "metadata": {
        "colab": {
          "base_uri": "https://localhost:8080/"
        },
        "id": "2ZEOu_r8bI7b",
        "outputId": "2051f041-45e0-42ba-cecf-8cc5062438a7"
      },
      "source": [
        "df.printSchema()"
      ],
      "execution_count": null,
      "outputs": [
        {
          "output_type": "stream",
          "text": [
            "root\n",
            " |-- Company: string (nullable = true)\n",
            " |-- Person: string (nullable = true)\n",
            " |-- Sales: double (nullable = true)\n",
            "\n"
          ],
          "name": "stdout"
        }
      ]
    },
    {
      "cell_type": "markdown",
      "metadata": {
        "id": "aSh-ehYtbSQG"
      },
      "source": [
        "## GroupBy"
      ]
    },
    {
      "cell_type": "code",
      "metadata": {
        "colab": {
          "base_uri": "https://localhost:8080/"
        },
        "id": "I_grpbdabLtj",
        "outputId": "b8d512fb-dae6-4f06-9cbd-cd7b4de35c09"
      },
      "source": [
        "df.groupBy(\"Company\")"
      ],
      "execution_count": null,
      "outputs": [
        {
          "output_type": "execute_result",
          "data": {
            "text/plain": [
              "<pyspark.sql.group.GroupedData at 0x7f9eedc85b90>"
            ]
          },
          "metadata": {
            "tags": []
          },
          "execution_count": 33
        }
      ]
    },
    {
      "cell_type": "code",
      "metadata": {
        "colab": {
          "base_uri": "https://localhost:8080/"
        },
        "id": "rHuSb5fnbPS6",
        "outputId": "a7bb5b0e-e406-425f-96ea-a4f93baca0d6"
      },
      "source": [
        "df.groupBy(\"Company\").mean().show()"
      ],
      "execution_count": null,
      "outputs": [
        {
          "output_type": "stream",
          "text": [
            "+-------+-----------------+\n",
            "|Company|       avg(Sales)|\n",
            "+-------+-----------------+\n",
            "|   APPL|            370.0|\n",
            "|   GOOG|            220.0|\n",
            "|     FB|            610.0|\n",
            "|   MSFT|322.3333333333333|\n",
            "+-------+-----------------+\n",
            "\n"
          ],
          "name": "stdout"
        }
      ]
    },
    {
      "cell_type": "code",
      "metadata": {
        "colab": {
          "base_uri": "https://localhost:8080/"
        },
        "id": "NtIYEUKAbmOC",
        "outputId": "6bef6763-e89f-4ca2-a12f-6e13fbca9c60"
      },
      "source": [
        "df.groupBy(\"Company\").max().show()"
      ],
      "execution_count": null,
      "outputs": [
        {
          "output_type": "stream",
          "text": [
            "+-------+----------+\n",
            "|Company|max(Sales)|\n",
            "+-------+----------+\n",
            "|   APPL|     750.0|\n",
            "|   GOOG|     340.0|\n",
            "|     FB|     870.0|\n",
            "|   MSFT|     600.0|\n",
            "+-------+----------+\n",
            "\n"
          ],
          "name": "stdout"
        }
      ]
    },
    {
      "cell_type": "code",
      "metadata": {
        "colab": {
          "base_uri": "https://localhost:8080/"
        },
        "id": "ZNDK-edCbqUS",
        "outputId": "f463cb49-db9f-4381-e83c-af867508bf68"
      },
      "source": [
        "df.groupBy(\"Company\").min().show()"
      ],
      "execution_count": null,
      "outputs": [
        {
          "output_type": "stream",
          "text": [
            "+-------+----------+\n",
            "|Company|min(Sales)|\n",
            "+-------+----------+\n",
            "|   APPL|     130.0|\n",
            "|   GOOG|     120.0|\n",
            "|     FB|     350.0|\n",
            "|   MSFT|     124.0|\n",
            "+-------+----------+\n",
            "\n"
          ],
          "name": "stdout"
        }
      ]
    },
    {
      "cell_type": "code",
      "metadata": {
        "colab": {
          "base_uri": "https://localhost:8080/"
        },
        "id": "yFy9_spWbr3C",
        "outputId": "27b1a481-e952-4e7f-ffaf-a21a530342e0"
      },
      "source": [
        "df.groupBy(\"Company\").count().show()"
      ],
      "execution_count": null,
      "outputs": [
        {
          "output_type": "stream",
          "text": [
            "+-------+-----+\n",
            "|Company|count|\n",
            "+-------+-----+\n",
            "|   APPL|    4|\n",
            "|   GOOG|    3|\n",
            "|     FB|    2|\n",
            "|   MSFT|    3|\n",
            "+-------+-----+\n",
            "\n"
          ],
          "name": "stdout"
        }
      ]
    },
    {
      "cell_type": "markdown",
      "metadata": {
        "id": "ENkPNTyjbzw3"
      },
      "source": [
        "## Aggregate"
      ]
    },
    {
      "cell_type": "code",
      "metadata": {
        "colab": {
          "base_uri": "https://localhost:8080/"
        },
        "id": "t-AbOIczbuV5",
        "outputId": "2f01ba80-09f9-42b3-d43c-6f79befbc2e6"
      },
      "source": [
        "# will aggregate all the col by sum\n",
        "\n",
        "df.agg({'Sales':'sum'}).show()"
      ],
      "execution_count": null,
      "outputs": [
        {
          "output_type": "stream",
          "text": [
            "+----------+\n",
            "|sum(Sales)|\n",
            "+----------+\n",
            "|    4327.0|\n",
            "+----------+\n",
            "\n"
          ],
          "name": "stdout"
        }
      ]
    },
    {
      "cell_type": "code",
      "metadata": {
        "colab": {
          "base_uri": "https://localhost:8080/"
        },
        "id": "bEPMRXHcb8yx",
        "outputId": "8a991095-de8c-4360-a595-2c31c8073da7"
      },
      "source": [
        "df.agg({'Sales':'max'}).show()"
      ],
      "execution_count": null,
      "outputs": [
        {
          "output_type": "stream",
          "text": [
            "+----------+\n",
            "|max(Sales)|\n",
            "+----------+\n",
            "|     870.0|\n",
            "+----------+\n",
            "\n"
          ],
          "name": "stdout"
        }
      ]
    },
    {
      "cell_type": "code",
      "metadata": {
        "id": "BGhF3mazcH6w"
      },
      "source": [
        "# we can also use gropyby \n",
        "\n",
        "group_data = df.groupby(\"Company\")"
      ],
      "execution_count": null,
      "outputs": []
    },
    {
      "cell_type": "code",
      "metadata": {
        "colab": {
          "base_uri": "https://localhost:8080/"
        },
        "id": "1j--N_edcWto",
        "outputId": "0a940863-409c-4d63-e39e-eee380c7a97e"
      },
      "source": [
        "group_data.agg({'Sales':'max'}).show()"
      ],
      "execution_count": null,
      "outputs": [
        {
          "output_type": "stream",
          "text": [
            "+-------+----------+\n",
            "|Company|max(Sales)|\n",
            "+-------+----------+\n",
            "|   APPL|     750.0|\n",
            "|   GOOG|     340.0|\n",
            "|     FB|     870.0|\n",
            "|   MSFT|     600.0|\n",
            "+-------+----------+\n",
            "\n"
          ],
          "name": "stdout"
        }
      ]
    },
    {
      "cell_type": "code",
      "metadata": {
        "id": "T2IW7SSWce6A"
      },
      "source": [
        "from pyspark.sql.functions import countDistinct, avg, stddev"
      ],
      "execution_count": null,
      "outputs": []
    },
    {
      "cell_type": "code",
      "metadata": {
        "colab": {
          "base_uri": "https://localhost:8080/"
        },
        "id": "SJ2KMPH0dCf5",
        "outputId": "8fead60d-b8fd-48c9-8020-df9397684d83"
      },
      "source": [
        "# count of distinct sales value\n",
        "\n",
        "df.select(countDistinct('Sales')).show()"
      ],
      "execution_count": null,
      "outputs": [
        {
          "output_type": "stream",
          "text": [
            "+---------------------+\n",
            "|count(DISTINCT Sales)|\n",
            "+---------------------+\n",
            "|                   11|\n",
            "+---------------------+\n",
            "\n"
          ],
          "name": "stdout"
        }
      ]
    },
    {
      "cell_type": "code",
      "metadata": {
        "colab": {
          "base_uri": "https://localhost:8080/"
        },
        "id": "BUIuuuUgdHtm",
        "outputId": "2d6e20e3-aa68-4df1-94d5-b8e30f521e7c"
      },
      "source": [
        "df.select(avg('Sales')).show()"
      ],
      "execution_count": null,
      "outputs": [
        {
          "output_type": "stream",
          "text": [
            "+-----------------+\n",
            "|       avg(Sales)|\n",
            "+-----------------+\n",
            "|360.5833333333333|\n",
            "+-----------------+\n",
            "\n"
          ],
          "name": "stdout"
        }
      ]
    },
    {
      "cell_type": "code",
      "metadata": {
        "colab": {
          "base_uri": "https://localhost:8080/"
        },
        "id": "sSh7NGrxdUg9",
        "outputId": "c0b36320-c39f-476e-fd5b-ffef2b7c2d18"
      },
      "source": [
        "df.select(countDistinct('Sales').alias('Average Sales')).show()"
      ],
      "execution_count": null,
      "outputs": [
        {
          "output_type": "stream",
          "text": [
            "+-------------+\n",
            "|Average Sales|\n",
            "+-------------+\n",
            "|           11|\n",
            "+-------------+\n",
            "\n"
          ],
          "name": "stdout"
        }
      ]
    },
    {
      "cell_type": "code",
      "metadata": {
        "colab": {
          "base_uri": "https://localhost:8080/"
        },
        "id": "OMN_0IDudfEE",
        "outputId": "079d18e2-0c00-4f6b-a301-9511df0bf789"
      },
      "source": [
        "df.select(stddev(\"Sales\")).show()"
      ],
      "execution_count": null,
      "outputs": [
        {
          "output_type": "stream",
          "text": [
            "+------------------+\n",
            "|stddev_samp(Sales)|\n",
            "+------------------+\n",
            "|250.08742410799007|\n",
            "+------------------+\n",
            "\n"
          ],
          "name": "stdout"
        }
      ]
    },
    {
      "cell_type": "code",
      "metadata": {
        "id": "zoo_Y6OKdnXE"
      },
      "source": [
        "from pyspark.sql.functions import format_number"
      ],
      "execution_count": null,
      "outputs": []
    },
    {
      "cell_type": "code",
      "metadata": {
        "id": "s_1eoUBOdsYc"
      },
      "source": [
        "sales_std = df.select(stddev(\"Sales\").alias(\"sales std\"))"
      ],
      "execution_count": null,
      "outputs": []
    },
    {
      "cell_type": "code",
      "metadata": {
        "colab": {
          "base_uri": "https://localhost:8080/"
        },
        "id": "_JG3v0z_d_nY",
        "outputId": "7f749fa3-1cd1-42c2-9b8f-ec30fdd376fc"
      },
      "source": [
        "sales_std.show()"
      ],
      "execution_count": null,
      "outputs": [
        {
          "output_type": "stream",
          "text": [
            "+------------------+\n",
            "|         Sales std|\n",
            "+------------------+\n",
            "|250.08742410799007|\n",
            "+------------------+\n",
            "\n"
          ],
          "name": "stdout"
        }
      ]
    },
    {
      "cell_type": "code",
      "metadata": {
        "colab": {
          "base_uri": "https://localhost:8080/"
        },
        "id": "78wPrcsgd45z",
        "outputId": "b3f2fa07-c805-429a-f9a8-357f7f8cef1f"
      },
      "source": [
        "sales_std.select(format_number('sales std',2)).show()"
      ],
      "execution_count": null,
      "outputs": [
        {
          "output_type": "stream",
          "text": [
            "+---------------------------+\n",
            "|format_number(sales std, 2)|\n",
            "+---------------------------+\n",
            "|                     250.09|\n",
            "+---------------------------+\n",
            "\n"
          ],
          "name": "stdout"
        }
      ]
    },
    {
      "cell_type": "markdown",
      "metadata": {
        "id": "qo0Lm-S4eWyD"
      },
      "source": [
        "## OrderBy"
      ]
    },
    {
      "cell_type": "code",
      "metadata": {
        "colab": {
          "base_uri": "https://localhost:8080/"
        },
        "id": "Hgjjwv4DeCPz",
        "outputId": "3e48c4dc-200c-4c9c-8aaf-0a221bdb4362"
      },
      "source": [
        "df.show()"
      ],
      "execution_count": null,
      "outputs": [
        {
          "output_type": "stream",
          "text": [
            "+-------+-------+-----+\n",
            "|Company| Person|Sales|\n",
            "+-------+-------+-----+\n",
            "|   GOOG|    Sam|200.0|\n",
            "|   GOOG|Charlie|120.0|\n",
            "|   GOOG|  Frank|340.0|\n",
            "|   MSFT|   Tina|600.0|\n",
            "|   MSFT|    Amy|124.0|\n",
            "|   MSFT|Vanessa|243.0|\n",
            "|     FB|   Carl|870.0|\n",
            "|     FB|  Sarah|350.0|\n",
            "|   APPL|   John|250.0|\n",
            "|   APPL|  Linda|130.0|\n",
            "|   APPL|   Mike|750.0|\n",
            "|   APPL|  Chris|350.0|\n",
            "+-------+-------+-----+\n",
            "\n"
          ],
          "name": "stdout"
        }
      ]
    },
    {
      "cell_type": "code",
      "metadata": {
        "colab": {
          "base_uri": "https://localhost:8080/"
        },
        "id": "IAi89fPAeZQS",
        "outputId": "cecb4074-54d7-4e41-86ef-834209fea21d"
      },
      "source": [
        "# ascending order is default\n",
        "\n",
        "df.orderBy('Sales').show()"
      ],
      "execution_count": null,
      "outputs": [
        {
          "output_type": "stream",
          "text": [
            "+-------+-------+-----+\n",
            "|Company| Person|Sales|\n",
            "+-------+-------+-----+\n",
            "|   GOOG|Charlie|120.0|\n",
            "|   MSFT|    Amy|124.0|\n",
            "|   APPL|  Linda|130.0|\n",
            "|   GOOG|    Sam|200.0|\n",
            "|   MSFT|Vanessa|243.0|\n",
            "|   APPL|   John|250.0|\n",
            "|   GOOG|  Frank|340.0|\n",
            "|     FB|  Sarah|350.0|\n",
            "|   APPL|  Chris|350.0|\n",
            "|   MSFT|   Tina|600.0|\n",
            "|   APPL|   Mike|750.0|\n",
            "|     FB|   Carl|870.0|\n",
            "+-------+-------+-----+\n",
            "\n"
          ],
          "name": "stdout"
        }
      ]
    },
    {
      "cell_type": "code",
      "metadata": {
        "colab": {
          "base_uri": "https://localhost:8080/"
        },
        "id": "RSfC_xDYefXx",
        "outputId": "31e66c86-57f0-44fe-a6b1-0bf331756619"
      },
      "source": [
        "# descending order use python df \n",
        "\n",
        "df.orderBy(df['Sales'].desc()).show()"
      ],
      "execution_count": null,
      "outputs": [
        {
          "output_type": "stream",
          "text": [
            "+-------+-------+-----+\n",
            "|Company| Person|Sales|\n",
            "+-------+-------+-----+\n",
            "|     FB|   Carl|870.0|\n",
            "|   APPL|   Mike|750.0|\n",
            "|   MSFT|   Tina|600.0|\n",
            "|     FB|  Sarah|350.0|\n",
            "|   APPL|  Chris|350.0|\n",
            "|   GOOG|  Frank|340.0|\n",
            "|   APPL|   John|250.0|\n",
            "|   MSFT|Vanessa|243.0|\n",
            "|   GOOG|    Sam|200.0|\n",
            "|   APPL|  Linda|130.0|\n",
            "|   MSFT|    Amy|124.0|\n",
            "|   GOOG|Charlie|120.0|\n",
            "+-------+-------+-----+\n",
            "\n"
          ],
          "name": "stdout"
        }
      ]
    }
  ]
}