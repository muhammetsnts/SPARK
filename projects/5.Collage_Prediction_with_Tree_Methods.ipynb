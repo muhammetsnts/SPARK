{
  "nbformat": 4,
  "nbformat_minor": 0,
  "metadata": {
    "colab": {
      "name": "5.Collage_Prediction_with_Tree_Methods.ipynb",
      "provenance": [],
      "collapsed_sections": [],
      "authorship_tag": "ABX9TyMMthdSt7Sh4nDUV3e+iXos",
      "include_colab_link": true
    },
    "kernelspec": {
      "name": "python3",
      "display_name": "Python 3"
    },
    "language_info": {
      "name": "python"
    }
  },
  "cells": [
    {
      "cell_type": "markdown",
      "metadata": {
        "id": "view-in-github",
        "colab_type": "text"
      },
      "source": [
        "<a href=\"https://colab.research.google.com/github/muhammetsnts/SPARK/blob/main/projects/5.Collage_Prediction_with_Tree_Methods.ipynb\" target=\"_parent\"><img src=\"https://colab.research.google.com/assets/colab-badge.svg\" alt=\"Open In Colab\"/></a>"
      ]
    },
    {
      "cell_type": "markdown",
      "metadata": {
        "id": "MyzGhEQrsa2G"
      },
      "source": [
        "# Project Info\n",
        "We have a collage features dataset and will try to predict they are public or private.\n",
        "\n",
        "We will create 3 different tree methos and to compare their results.\n",
        "* A single decision tree\n",
        "* A random forest\n",
        "* A gradient boosted tree classifier\n",
        "    \n",
        "We will be using a college dataset to try to classify colleges as Private or Public based off these features:\n",
        "\n",
        "    Private A factor with levels No and Yes indicating private or public university\n",
        "    Apps Number of applications received\n",
        "    Accept Number of applications accepted\n",
        "    Enroll Number of new students enrolled\n",
        "    Top10perc Pct. new students from top 10% of H.S. class\n",
        "    Top25perc Pct. new students from top 25% of H.S. class\n",
        "    F.Undergrad Number of fulltime undergraduates\n",
        "    P.Undergrad Number of parttime undergraduates\n",
        "    Outstate Out-of-state tuition\n",
        "    Room.Board Room and board costs\n",
        "    Books Estimated book costs\n",
        "    Personal Estimated personal spending\n",
        "    PhD Pct. of faculty with Ph.D.’s\n",
        "    Terminal Pct. of faculty with terminal degree\n",
        "    S.F.Ratio Student/faculty ratio\n",
        "    perc.alumni Pct. alumni who donate\n",
        "    Expend Instructional expenditure per student\n",
        "    Grad.Rate Graduation rate"
      ]
    },
    {
      "cell_type": "markdown",
      "metadata": {
        "id": "Aetw2ehwnEOw"
      },
      "source": [
        "# Setup Environment"
      ]
    },
    {
      "cell_type": "code",
      "metadata": {
        "id": "NZZ4nklL2ja4"
      },
      "source": [
        "# install Java8\n",
        "!apt-get -q install openjdk-8-jdk-headless -qq > /dev/null\n",
        "\n",
        "# download spark3.1.1\n",
        "!wget -q https://archive.apache.org/dist/spark/spark-3.1.1/spark-3.1.1-bin-hadoop2.7.tgz\n",
        "\n",
        "# unzip it\n",
        "!tar xf spark-3.1.1-bin-hadoop2.7.tgz\n",
        "\n",
        "# install findspark \n",
        "!pip install -q findspark\n",
        "\n",
        "\n",
        "import os\n",
        "os.environ[\"JAVA_HOME\"] = \"/usr/lib/jvm/java-8-openjdk-amd64\"\n",
        "os.environ[\"PATH\"] = os.environ[\"JAVA_HOME\"] + \"/bin:\" + os.environ[\"PATH\"]\n",
        "os.environ[\"SPARK_HOME\"] = \"/content/spark-3.1.1-bin-hadoop2.7\"\n",
        "\n",
        "\n",
        "import findspark\n",
        "findspark.init()\n",
        "from pyspark.sql import SparkSession\n",
        "spark = SparkSession.builder.master(\"local[*]\").getOrCreate()\n",
        "#spark = SparkSession.builder.appName('ops').getOrCreate()"
      ],
      "execution_count": 2,
      "outputs": []
    },
    {
      "cell_type": "markdown",
      "metadata": {
        "id": "TTWbCzzdm5xh"
      },
      "source": [
        "# Download and Read the Data"
      ]
    },
    {
      "cell_type": "code",
      "metadata": {
        "id": "_pseR3Juhctq"
      },
      "source": [
        "!wget -q https://raw.githubusercontent.com/muhammetsnts/SPARK/main/data/College.csv"
      ],
      "execution_count": 3,
      "outputs": []
    },
    {
      "cell_type": "code",
      "metadata": {
        "id": "DJbrKT8Eh8kP"
      },
      "source": [
        "data = spark.read.csv(\"College.csv\", header=True, inferSchema=True)"
      ],
      "execution_count": 4,
      "outputs": []
    },
    {
      "cell_type": "code",
      "metadata": {
        "colab": {
          "base_uri": "https://localhost:8080/"
        },
        "id": "mUT91u5Vtetb",
        "outputId": "6532c020-191c-40f9-db26-025e935a227d"
      },
      "source": [
        "data.printSchema()"
      ],
      "execution_count": 6,
      "outputs": [
        {
          "output_type": "stream",
          "name": "stdout",
          "text": [
            "root\n",
            " |-- School: string (nullable = true)\n",
            " |-- Private: string (nullable = true)\n",
            " |-- Apps: integer (nullable = true)\n",
            " |-- Accept: integer (nullable = true)\n",
            " |-- Enroll: integer (nullable = true)\n",
            " |-- Top10perc: integer (nullable = true)\n",
            " |-- Top25perc: integer (nullable = true)\n",
            " |-- F_Undergrad: integer (nullable = true)\n",
            " |-- P_Undergrad: integer (nullable = true)\n",
            " |-- Outstate: integer (nullable = true)\n",
            " |-- Room_Board: integer (nullable = true)\n",
            " |-- Books: integer (nullable = true)\n",
            " |-- Personal: integer (nullable = true)\n",
            " |-- PhD: integer (nullable = true)\n",
            " |-- Terminal: integer (nullable = true)\n",
            " |-- S_F_Ratio: double (nullable = true)\n",
            " |-- perc_alumni: integer (nullable = true)\n",
            " |-- Expend: integer (nullable = true)\n",
            " |-- Grad_Rate: integer (nullable = true)\n",
            "\n"
          ]
        }
      ]
    },
    {
      "cell_type": "code",
      "metadata": {
        "colab": {
          "base_uri": "https://localhost:8080/"
        },
        "id": "-64Rv9jpiERA",
        "outputId": "0d84ce96-d35a-4a85-8ddd-d956ea38e4b2"
      },
      "source": [
        "data.show()"
      ],
      "execution_count": 5,
      "outputs": [
        {
          "output_type": "stream",
          "name": "stdout",
          "text": [
            "+--------------------+-------+----+------+------+---------+---------+-----------+-----------+--------+----------+-----+--------+---+--------+---------+-----------+------+---------+\n",
            "|              School|Private|Apps|Accept|Enroll|Top10perc|Top25perc|F_Undergrad|P_Undergrad|Outstate|Room_Board|Books|Personal|PhD|Terminal|S_F_Ratio|perc_alumni|Expend|Grad_Rate|\n",
            "+--------------------+-------+----+------+------+---------+---------+-----------+-----------+--------+----------+-----+--------+---+--------+---------+-----------+------+---------+\n",
            "|Abilene Christian...|    Yes|1660|  1232|   721|       23|       52|       2885|        537|    7440|      3300|  450|    2200| 70|      78|     18.1|         12|  7041|       60|\n",
            "|  Adelphi University|    Yes|2186|  1924|   512|       16|       29|       2683|       1227|   12280|      6450|  750|    1500| 29|      30|     12.2|         16| 10527|       56|\n",
            "|      Adrian College|    Yes|1428|  1097|   336|       22|       50|       1036|         99|   11250|      3750|  400|    1165| 53|      66|     12.9|         30|  8735|       54|\n",
            "| Agnes Scott College|    Yes| 417|   349|   137|       60|       89|        510|         63|   12960|      5450|  450|     875| 92|      97|      7.7|         37| 19016|       59|\n",
            "|Alaska Pacific Un...|    Yes| 193|   146|    55|       16|       44|        249|        869|    7560|      4120|  800|    1500| 76|      72|     11.9|          2| 10922|       15|\n",
            "|   Albertson College|    Yes| 587|   479|   158|       38|       62|        678|         41|   13500|      3335|  500|     675| 67|      73|      9.4|         11|  9727|       55|\n",
            "|Albertus Magnus C...|    Yes| 353|   340|   103|       17|       45|        416|        230|   13290|      5720|  500|    1500| 90|      93|     11.5|         26|  8861|       63|\n",
            "|      Albion College|    Yes|1899|  1720|   489|       37|       68|       1594|         32|   13868|      4826|  450|     850| 89|     100|     13.7|         37| 11487|       73|\n",
            "|    Albright College|    Yes|1038|   839|   227|       30|       63|        973|        306|   15595|      4400|  300|     500| 79|      84|     11.3|         23| 11644|       80|\n",
            "|Alderson-Broaddus...|    Yes| 582|   498|   172|       21|       44|        799|         78|   10468|      3380|  660|    1800| 40|      41|     11.5|         15|  8991|       52|\n",
            "|   Alfred University|    Yes|1732|  1425|   472|       37|       75|       1830|        110|   16548|      5406|  500|     600| 82|      88|     11.3|         31| 10932|       73|\n",
            "|   Allegheny College|    Yes|2652|  1900|   484|       44|       77|       1707|         44|   17080|      4440|  400|     600| 73|      91|      9.9|         41| 11711|       76|\n",
            "|Allentown Coll. o...|    Yes|1179|   780|   290|       38|       64|       1130|        638|    9690|      4785|  600|    1000| 60|      84|     13.3|         21|  7940|       74|\n",
            "|        Alma College|    Yes|1267|  1080|   385|       44|       73|       1306|         28|   12572|      4552|  400|     400| 79|      87|     15.3|         32|  9305|       68|\n",
            "|     Alverno College|    Yes| 494|   313|   157|       23|       46|       1317|       1235|    8352|      3640|  650|    2449| 36|      69|     11.1|         26|  8127|       55|\n",
            "|American Internat...|    Yes|1420|  1093|   220|        9|       22|       1018|        287|    8700|      4780|  450|    1400| 78|      84|     14.7|         19|  7355|       69|\n",
            "|     Amherst College|    Yes|4302|   992|   418|       83|       96|       1593|          5|   19760|      5300|  660|    1598| 93|      98|      8.4|         63| 21424|      100|\n",
            "| Anderson University|    Yes|1216|   908|   423|       19|       40|       1819|        281|   10100|      3520|  550|    1100| 48|      61|     12.1|         14|  7994|       59|\n",
            "|  Andrews University|    Yes|1130|   704|   322|       14|       23|       1586|        326|    9996|      3090|  900|    1320| 62|      66|     11.5|         18| 10908|       46|\n",
            "|Angelo State Univ...|     No|3540|  2001|  1016|       24|       54|       4190|       1512|    5130|      3592|  500|    2000| 60|      62|     23.1|          5|  4010|       34|\n",
            "+--------------------+-------+----+------+------+---------+---------+-----------+-----------+--------+----------+-----+--------+---+--------+---------+-----------+------+---------+\n",
            "only showing top 20 rows\n",
            "\n"
          ]
        }
      ]
    },
    {
      "cell_type": "code",
      "metadata": {
        "colab": {
          "base_uri": "https://localhost:8080/"
        },
        "id": "Zb9xiPJ3tnuJ",
        "outputId": "0ab7f29f-d4ee-4b92-fa4d-894b457c1c14"
      },
      "source": [
        "data.head(1)"
      ],
      "execution_count": 7,
      "outputs": [
        {
          "output_type": "execute_result",
          "data": {
            "text/plain": [
              "[Row(School='Abilene Christian University', Private='Yes', Apps=1660, Accept=1232, Enroll=721, Top10perc=23, Top25perc=52, F_Undergrad=2885, P_Undergrad=537, Outstate=7440, Room_Board=3300, Books=450, Personal=2200, PhD=70, Terminal=78, S_F_Ratio=18.1, perc_alumni=12, Expend=7041, Grad_Rate=60)]"
            ]
          },
          "metadata": {},
          "execution_count": 7
        }
      ]
    },
    {
      "cell_type": "code",
      "metadata": {
        "id": "rrL23T5Wtvcg"
      },
      "source": [
        "# Import VectorAssembler and Vectors\n",
        "from pyspark.ml.linalg import Vectors\n",
        "from pyspark.ml.feature import VectorAssembler"
      ],
      "execution_count": 8,
      "outputs": []
    },
    {
      "cell_type": "code",
      "metadata": {
        "colab": {
          "base_uri": "https://localhost:8080/"
        },
        "id": "j90FZD_qt2mZ",
        "outputId": "c7dcbdab-9a07-40ed-8459-2be0bf492a38"
      },
      "source": [
        "data.columns"
      ],
      "execution_count": 9,
      "outputs": [
        {
          "output_type": "execute_result",
          "data": {
            "text/plain": [
              "['School',\n",
              " 'Private',\n",
              " 'Apps',\n",
              " 'Accept',\n",
              " 'Enroll',\n",
              " 'Top10perc',\n",
              " 'Top25perc',\n",
              " 'F_Undergrad',\n",
              " 'P_Undergrad',\n",
              " 'Outstate',\n",
              " 'Room_Board',\n",
              " 'Books',\n",
              " 'Personal',\n",
              " 'PhD',\n",
              " 'Terminal',\n",
              " 'S_F_Ratio',\n",
              " 'perc_alumni',\n",
              " 'Expend',\n",
              " 'Grad_Rate']"
            ]
          },
          "metadata": {},
          "execution_count": 9
        }
      ]
    },
    {
      "cell_type": "code",
      "metadata": {
        "id": "PL3b2wgvt4RW"
      },
      "source": [
        "assembler = VectorAssembler(inputCols=[ 'Apps',\n",
        "                                        'Accept',\n",
        "                                        'Enroll',\n",
        "                                        'Top10perc',\n",
        "                                        'Top25perc',\n",
        "                                        'F_Undergrad',\n",
        "                                        'P_Undergrad',\n",
        "                                        'Outstate',\n",
        "                                        'Room_Board',\n",
        "                                        'Books',\n",
        "                                        'Personal',\n",
        "                                        'PhD',\n",
        "                                        'Terminal',\n",
        "                                        'S_F_Ratio',\n",
        "                                        'perc_alumni',\n",
        "                                        'Expend',\n",
        "                                        'Grad_Rate'], \n",
        "                            outputCol='features')"
      ],
      "execution_count": 10,
      "outputs": []
    },
    {
      "cell_type": "code",
      "metadata": {
        "id": "DIQ1GOBXuL8t"
      },
      "source": [
        "output = assembler.transform(data)"
      ],
      "execution_count": 11,
      "outputs": []
    },
    {
      "cell_type": "code",
      "metadata": {
        "id": "6ummsk69uUjV"
      },
      "source": [
        "from pyspark.ml.feature import StringIndexer"
      ],
      "execution_count": 12,
      "outputs": []
    },
    {
      "cell_type": "code",
      "metadata": {
        "id": "2xTqAd3buYaE"
      },
      "source": [
        "indexer = StringIndexer(inputCol='Private', outputCol='PrivateIndex')"
      ],
      "execution_count": 13,
      "outputs": []
    },
    {
      "cell_type": "code",
      "metadata": {
        "id": "QXOSNgcfuYW-"
      },
      "source": [
        "output_fixed = indexer.fit(output).transform(output)"
      ],
      "execution_count": 14,
      "outputs": []
    },
    {
      "cell_type": "code",
      "metadata": {
        "colab": {
          "base_uri": "https://localhost:8080/"
        },
        "id": "nKCZzRPvuYUV",
        "outputId": "70be1692-8bda-4610-b66d-bd6f7808ec97"
      },
      "source": [
        "output_fixed.printSchema()"
      ],
      "execution_count": 15,
      "outputs": [
        {
          "output_type": "stream",
          "name": "stdout",
          "text": [
            "root\n",
            " |-- School: string (nullable = true)\n",
            " |-- Private: string (nullable = true)\n",
            " |-- Apps: integer (nullable = true)\n",
            " |-- Accept: integer (nullable = true)\n",
            " |-- Enroll: integer (nullable = true)\n",
            " |-- Top10perc: integer (nullable = true)\n",
            " |-- Top25perc: integer (nullable = true)\n",
            " |-- F_Undergrad: integer (nullable = true)\n",
            " |-- P_Undergrad: integer (nullable = true)\n",
            " |-- Outstate: integer (nullable = true)\n",
            " |-- Room_Board: integer (nullable = true)\n",
            " |-- Books: integer (nullable = true)\n",
            " |-- Personal: integer (nullable = true)\n",
            " |-- PhD: integer (nullable = true)\n",
            " |-- Terminal: integer (nullable = true)\n",
            " |-- S_F_Ratio: double (nullable = true)\n",
            " |-- perc_alumni: integer (nullable = true)\n",
            " |-- Expend: integer (nullable = true)\n",
            " |-- Grad_Rate: integer (nullable = true)\n",
            " |-- features: vector (nullable = true)\n",
            " |-- PrivateIndex: double (nullable = false)\n",
            "\n"
          ]
        }
      ]
    },
    {
      "cell_type": "code",
      "metadata": {
        "id": "OGz2mmxEu2y4"
      },
      "source": [
        "final_data = output_fixed.select(['features', 'PrivateIndex'])"
      ],
      "execution_count": 16,
      "outputs": []
    },
    {
      "cell_type": "markdown",
      "metadata": {
        "id": "JC98pDK_myG0"
      },
      "source": [
        "# Train-Test Split"
      ]
    },
    {
      "cell_type": "code",
      "metadata": {
        "id": "pNKBb1A9iHIa"
      },
      "source": [
        "train_data, test_data = final_data.randomSplit([0.7,0.3])"
      ],
      "execution_count": 17,
      "outputs": []
    },
    {
      "cell_type": "markdown",
      "metadata": {
        "id": "3jubCF0Im01l"
      },
      "source": [
        "# The Classifiers"
      ]
    },
    {
      "cell_type": "code",
      "metadata": {
        "id": "JuOCuw6ZVAUh"
      },
      "source": [
        "from pyspark.ml import Pipeline\n",
        "from pyspark.ml.classification import RandomForestClassifier, GBTClassifier, DecisionTreeClassifier"
      ],
      "execution_count": 18,
      "outputs": []
    },
    {
      "cell_type": "code",
      "metadata": {
        "id": "CQ_OB0i2iN3A"
      },
      "source": [
        "# We can play with the parameters\n",
        "\n",
        "dtc = DecisionTreeClassifier(labelCol='PrivateIndex', featuresCol='features') \n",
        "rfc = RandomForestClassifier(labelCol='PrivateIndex', featuresCol='features')\n",
        "gbt = GBTClassifier(labelCol='PrivateIndex', featuresCol='features')"
      ],
      "execution_count": 19,
      "outputs": []
    },
    {
      "cell_type": "code",
      "metadata": {
        "id": "o7sLTgbbi6VK"
      },
      "source": [
        "dtc_model = dtc.fit(train_data)\n",
        "rfc_model = rfc.fit(train_data)\n",
        "gbt_model = gbt.fit(train_data)"
      ],
      "execution_count": 20,
      "outputs": []
    },
    {
      "cell_type": "markdown",
      "metadata": {
        "id": "ycyqgI6x5sMd"
      },
      "source": [
        "# Model Comparison"
      ]
    },
    {
      "cell_type": "code",
      "metadata": {
        "id": "_NXhObRljFD2"
      },
      "source": [
        "dtc_preds = dtc_model.transform(test_data)\n",
        "rfc_preds = rfc_model.transform(test_data)\n",
        "gbt_preds = gbt_model.transform(test_data)"
      ],
      "execution_count": 21,
      "outputs": []
    },
    {
      "cell_type": "markdown",
      "metadata": {
        "id": "Ya3J1ie0msux"
      },
      "source": [
        "Lets show the predictions."
      ]
    },
    {
      "cell_type": "code",
      "metadata": {
        "colab": {
          "base_uri": "https://localhost:8080/"
        },
        "id": "Gn9tnyfAjXdk",
        "outputId": "46fadb4c-0e6e-4ac9-f831-8dd710501844"
      },
      "source": [
        "dtc_preds.show()"
      ],
      "execution_count": 22,
      "outputs": [
        {
          "output_type": "stream",
          "name": "stdout",
          "text": [
            "+--------------------+------------+-------------+--------------------+----------+\n",
            "|            features|PrivateIndex|rawPrediction|         probability|prediction|\n",
            "+--------------------+------------+-------------+--------------------+----------+\n",
            "|[150.0,130.0,88.0...|         0.0|  [278.0,1.0]|[0.99641577060931...|       0.0|\n",
            "|[167.0,130.0,46.0...|         0.0|  [278.0,1.0]|[0.99641577060931...|       0.0|\n",
            "|[174.0,146.0,88.0...|         0.0|   [14.0,0.0]|           [1.0,0.0]|       0.0|\n",
            "|[191.0,165.0,63.0...|         0.0|  [278.0,1.0]|[0.99641577060931...|       0.0|\n",
            "|[202.0,184.0,122....|         0.0|  [278.0,1.0]|[0.99641577060931...|       0.0|\n",
            "|[222.0,185.0,91.0...|         0.0|  [278.0,1.0]|[0.99641577060931...|       0.0|\n",
            "|[232.0,216.0,106....|         0.0|   [16.0,0.0]|           [1.0,0.0]|       0.0|\n",
            "|[233.0,233.0,153....|         1.0|   [16.0,0.0]|           [1.0,0.0]|       0.0|\n",
            "|[313.0,228.0,137....|         0.0|  [278.0,1.0]|[0.99641577060931...|       0.0|\n",
            "|[321.0,318.0,172....|         0.0|   [20.0,0.0]|           [1.0,0.0]|       0.0|\n",
            "|[344.0,264.0,97.0...|         0.0|  [278.0,1.0]|[0.99641577060931...|       0.0|\n",
            "|[353.0,340.0,103....|         0.0|  [278.0,1.0]|[0.99641577060931...|       0.0|\n",
            "|[361.0,321.0,185....|         0.0|  [278.0,1.0]|[0.99641577060931...|       0.0|\n",
            "|[367.0,274.0,158....|         0.0|  [278.0,1.0]|[0.99641577060931...|       0.0|\n",
            "|[379.0,324.0,107....|         0.0|  [278.0,1.0]|[0.99641577060931...|       0.0|\n",
            "|[379.0,341.0,265....|         0.0|   [16.0,0.0]|           [1.0,0.0]|       0.0|\n",
            "|[385.0,340.0,193....|         0.0|  [278.0,1.0]|[0.99641577060931...|       0.0|\n",
            "|[404.0,400.0,169....|         0.0|   [16.0,0.0]|           [1.0,0.0]|       0.0|\n",
            "|[420.0,293.0,93.0...|         0.0|   [20.0,0.0]|           [1.0,0.0]|       0.0|\n",
            "|[440.0,311.0,112....|         0.0|   [14.0,0.0]|           [1.0,0.0]|       0.0|\n",
            "+--------------------+------------+-------------+--------------------+----------+\n",
            "only showing top 20 rows\n",
            "\n"
          ]
        }
      ]
    },
    {
      "cell_type": "code",
      "metadata": {
        "colab": {
          "base_uri": "https://localhost:8080/"
        },
        "id": "0fmU5vC3jaF8",
        "outputId": "978252e2-4cbf-4cb6-bd14-9769be3d9691"
      },
      "source": [
        "rfc_preds.show()"
      ],
      "execution_count": 23,
      "outputs": [
        {
          "output_type": "stream",
          "name": "stdout",
          "text": [
            "+--------------------+------------+--------------------+--------------------+----------+\n",
            "|            features|PrivateIndex|       rawPrediction|         probability|prediction|\n",
            "+--------------------+------------+--------------------+--------------------+----------+\n",
            "|[150.0,130.0,88.0...|         0.0|[19.8608961603520...|[0.99304480801760...|       0.0|\n",
            "|[167.0,130.0,46.0...|         0.0|[19.8608961603520...|[0.99304480801760...|       0.0|\n",
            "|[174.0,146.0,88.0...|         0.0|[18.4376683537422...|[0.92188341768711...|       0.0|\n",
            "|[191.0,165.0,63.0...|         0.0|[18.3727517561357...|[0.91863758780678...|       0.0|\n",
            "|[202.0,184.0,122....|         0.0|[19.7827711603520...|[0.98913855801760...|       0.0|\n",
            "|[222.0,185.0,91.0...|         0.0|[19.8608961603520...|[0.99304480801760...|       0.0|\n",
            "|[232.0,216.0,106....|         0.0|[17.2104056840445...|[0.86052028420222...|       0.0|\n",
            "|[233.0,233.0,153....|         1.0|[15.2854998521147...|[0.76427499260573...|       0.0|\n",
            "|[313.0,228.0,137....|         0.0|[19.8608961603520...|[0.99304480801760...|       0.0|\n",
            "|[321.0,318.0,172....|         0.0|[17.4853389979040...|[0.87426694989520...|       0.0|\n",
            "|[344.0,264.0,97.0...|         0.0|[18.6890719224559...|[0.93445359612279...|       0.0|\n",
            "|[353.0,340.0,103....|         0.0|[19.8608961603520...|[0.99304480801760...|       0.0|\n",
            "|[361.0,321.0,185....|         0.0|[19.7296761424644...|[0.98648380712322...|       0.0|\n",
            "|[367.0,274.0,158....|         0.0|[18.0743627459831...|[0.90371813729915...|       0.0|\n",
            "|[379.0,324.0,107....|         0.0|[19.1147565336652...|[0.95573782668326...|       0.0|\n",
            "|[379.0,341.0,265....|         0.0|[11.3671953318687...|[0.56835976659343...|       0.0|\n",
            "|[385.0,340.0,193....|         0.0|[18.6363992199397...|[0.93181996099698...|       0.0|\n",
            "|[404.0,400.0,169....|         0.0|[18.8674037165371...|[0.94337018582685...|       0.0|\n",
            "|[420.0,293.0,93.0...|         0.0|[19.7404918831527...|[0.98702459415763...|       0.0|\n",
            "|[440.0,311.0,112....|         0.0|[19.8608961603520...|[0.99304480801760...|       0.0|\n",
            "+--------------------+------------+--------------------+--------------------+----------+\n",
            "only showing top 20 rows\n",
            "\n"
          ]
        }
      ]
    },
    {
      "cell_type": "code",
      "metadata": {
        "colab": {
          "base_uri": "https://localhost:8080/"
        },
        "id": "zzuczu0EjhFc",
        "outputId": "e91a5ca5-c712-471d-9eba-8f814f3eb633"
      },
      "source": [
        "gbt_preds.show()"
      ],
      "execution_count": 24,
      "outputs": [
        {
          "output_type": "stream",
          "name": "stdout",
          "text": [
            "+--------------------+------------+--------------------+--------------------+----------+\n",
            "|            features|PrivateIndex|       rawPrediction|         probability|prediction|\n",
            "+--------------------+------------+--------------------+--------------------+----------+\n",
            "|[150.0,130.0,88.0...|         0.0|[1.53750860011155...|[0.95585038530407...|       0.0|\n",
            "|[167.0,130.0,46.0...|         0.0|[1.53957909345878...|[0.95602480720723...|       0.0|\n",
            "|[174.0,146.0,88.0...|         0.0|[1.46520215450664...|[0.94932912721439...|       0.0|\n",
            "|[191.0,165.0,63.0...|         0.0|[1.50399412639891...|[0.95293370750518...|       0.0|\n",
            "|[202.0,184.0,122....|         0.0|[1.53750860011155...|[0.95585038530407...|       0.0|\n",
            "|[222.0,185.0,91.0...|         0.0|[1.53957909345878...|[0.95602480720723...|       0.0|\n",
            "|[232.0,216.0,106....|         0.0|[1.36278594159611...|[0.93851882495134...|       0.0|\n",
            "|[233.0,233.0,153....|         1.0|[0.60127513976984...|[0.76897815333182...|       0.0|\n",
            "|[313.0,228.0,137....|         0.0|[1.53750860011155...|[0.95585038530407...|       0.0|\n",
            "|[321.0,318.0,172....|         0.0|[1.53945132025855...|[0.95601406243304...|       0.0|\n",
            "|[344.0,264.0,97.0...|         0.0|[1.53474167626704...|[0.95561626457594...|       0.0|\n",
            "|[353.0,340.0,103....|         0.0|[1.53750860011155...|[0.95585038530407...|       0.0|\n",
            "|[361.0,321.0,185....|         0.0|[1.53616373587844...|[0.95573673834079...|       0.0|\n",
            "|[367.0,274.0,158....|         0.0|[1.40668067331039...|[0.94339359000249...|       0.0|\n",
            "|[379.0,324.0,107....|         0.0|[1.76928384404123...|[0.97176543970158...|       0.0|\n",
            "|[379.0,341.0,265....|         0.0|[1.18398600942036...|[0.91435217814706...|       0.0|\n",
            "|[385.0,340.0,193....|         0.0|[1.42980531564305...|[0.94581334765704...|       0.0|\n",
            "|[404.0,400.0,169....|         0.0|[1.75674658535790...|[0.97106926208134...|       0.0|\n",
            "|[420.0,293.0,93.0...|         0.0|[1.53732933403881...|[0.95583525262164...|       0.0|\n",
            "|[440.0,311.0,112....|         0.0|[1.62129291356143...|[0.96240577898102...|       0.0|\n",
            "+--------------------+------------+--------------------+--------------------+----------+\n",
            "only showing top 20 rows\n",
            "\n"
          ]
        }
      ]
    },
    {
      "cell_type": "markdown",
      "metadata": {
        "id": "q4f-nHmBlIC4"
      },
      "source": [
        "# Evaluation\n",
        "\n",
        "This is a binary classification task so we can use ROC or precision, recall etc. But Multiclassclassificationevaluator works even though this is a binary classification task."
      ]
    },
    {
      "cell_type": "markdown",
      "metadata": {
        "id": "tkX24n0b5-qW"
      },
      "source": [
        "## BinaryClassificationEvaluator"
      ]
    },
    {
      "cell_type": "code",
      "metadata": {
        "id": "DfD0CVY6jjZs"
      },
      "source": [
        "from pyspark.ml.evaluation import BinaryClassificationEvaluator"
      ],
      "execution_count": 25,
      "outputs": []
    },
    {
      "cell_type": "code",
      "metadata": {
        "id": "ELBqS9KllssM"
      },
      "source": [
        "my_binary_eval = BinaryClassificationEvaluator(labelCol='PrivateIndex')"
      ],
      "execution_count": 26,
      "outputs": []
    },
    {
      "cell_type": "markdown",
      "metadata": {
        "id": "1Tb7ah0Sx1Zv"
      },
      "source": [
        "### ROC Results (AUC)"
      ]
    },
    {
      "cell_type": "code",
      "metadata": {
        "colab": {
          "base_uri": "https://localhost:8080/"
        },
        "id": "83CNRgPAl2PG",
        "outputId": "e243c3d1-bc96-481d-e761-2b4ef6038b08"
      },
      "source": [
        "print('DTC: ', my_binary_eval.evaluate(dtc_preds))  "
      ],
      "execution_count": 29,
      "outputs": [
        {
          "output_type": "stream",
          "name": "stdout",
          "text": [
            "DTC:  0.9003429878048781\n"
          ]
        }
      ]
    },
    {
      "cell_type": "code",
      "metadata": {
        "colab": {
          "base_uri": "https://localhost:8080/"
        },
        "id": "HbH8qR3jl8v2",
        "outputId": "0bf92ea6-0dfc-4bc6-ce61-3b58fe0b8b6a"
      },
      "source": [
        "print('RFC :', my_binary_eval.evaluate(rfc_preds))"
      ],
      "execution_count": 30,
      "outputs": [
        {
          "output_type": "stream",
          "name": "stdout",
          "text": [
            "RFC : 0.9950457317073171\n"
          ]
        }
      ]
    },
    {
      "cell_type": "code",
      "metadata": {
        "id": "hXn7wbuVytWk"
      },
      "source": [
        "my_binary_eval2 = BinaryClassificationEvaluator(labelCol='PrivateIndex', rawPredictionCol='prediction',)"
      ],
      "execution_count": 32,
      "outputs": []
    },
    {
      "cell_type": "code",
      "metadata": {
        "colab": {
          "base_uri": "https://localhost:8080/"
        },
        "id": "po0thMkRyzge",
        "outputId": "ea0722e6-59d9-4742-c922-3ccfb5a9d310"
      },
      "source": [
        "print('GBT :', my_binary_eval2.evaluate(gbt_preds))"
      ],
      "execution_count": 33,
      "outputs": [
        {
          "output_type": "stream",
          "name": "stdout",
          "text": [
            "GBT : 0.9300685975609756\n"
          ]
        }
      ]
    },
    {
      "cell_type": "markdown",
      "metadata": {
        "id": "jpIRJqwu8amS"
      },
      "source": [
        "## MulticlassClassificationEvaluator"
      ]
    },
    {
      "cell_type": "code",
      "metadata": {
        "id": "7Zr66vWV59Nk"
      },
      "source": [
        "from pyspark.ml.evaluation import MulticlassClassificationEvaluator"
      ],
      "execution_count": 34,
      "outputs": []
    },
    {
      "cell_type": "code",
      "metadata": {
        "id": "RuLscIyM8eB3"
      },
      "source": [
        "acc_evaluator = MulticlassClassificationEvaluator(labelCol=\"PrivateIndex\", predictionCol=\"prediction\", metricName=\"accuracy\")"
      ],
      "execution_count": 35,
      "outputs": []
    },
    {
      "cell_type": "code",
      "metadata": {
        "id": "Lwo1Mg6j9AkA"
      },
      "source": [
        "dtc_acc = acc_evaluator.evaluate(dtc_preds)\n",
        "rfc_acc = acc_evaluator.evaluate(rfc_preds)\n",
        "gbt_acc = acc_evaluator.evaluate(gbt_preds)"
      ],
      "execution_count": 37,
      "outputs": []
    },
    {
      "cell_type": "code",
      "metadata": {
        "colab": {
          "base_uri": "https://localhost:8080/"
        },
        "id": "plptZDWV9KGd",
        "outputId": "bd77a661-8e9a-4344-9b46-46ff06afb9d9"
      },
      "source": [
        "print(\"Here are the results!\")\n",
        "print('-'*80)\n",
        "print('A single decision tree had an accuracy of: {0:2.2f}%'.format(dtc_acc*100))\n",
        "print('-'*80)\n",
        "print('A random forest ensemble had an accuracy of: {0:2.2f}%'.format(rfc_acc*100))\n",
        "print('-'*80)\n",
        "print('A ensemble using GBT had an accuracy of: {0:2.2f}%'.format(gbt_acc*100))"
      ],
      "execution_count": 38,
      "outputs": [
        {
          "output_type": "stream",
          "name": "stdout",
          "text": [
            "Here are the results!\n",
            "--------------------------------------------------------------------------------\n",
            "A single decision tree had an accuracy of: 95.18%\n",
            "--------------------------------------------------------------------------------\n",
            "A random forest ensemble had an accuracy of: 96.05%\n",
            "--------------------------------------------------------------------------------\n",
            "A ensemble using GBT had an accuracy of: 94.74%\n"
          ]
        }
      ]
    },
    {
      "cell_type": "markdown",
      "metadata": {
        "id": "QYHLhJXm9Y3z"
      },
      "source": [
        "### Feature Importances"
      ]
    },
    {
      "cell_type": "code",
      "metadata": {
        "colab": {
          "base_uri": "https://localhost:8080/"
        },
        "id": "uwcJQtarmOgc",
        "outputId": "0c8c1395-1497-4501-dac6-a495bde8be5e"
      },
      "source": [
        "rfc_model.featureImportances"
      ],
      "execution_count": 39,
      "outputs": [
        {
          "output_type": "execute_result",
          "data": {
            "text/plain": [
              "SparseVector(17, {0: 0.0209, 1: 0.049, 2: 0.1378, 3: 0.016, 4: 0.0051, 5: 0.1606, 6: 0.144, 7: 0.1932, 8: 0.0562, 9: 0.0106, 10: 0.0258, 11: 0.0182, 12: 0.0165, 13: 0.0487, 14: 0.0388, 15: 0.0407, 16: 0.0179})"
            ]
          },
          "metadata": {},
          "execution_count": 39
        }
      ]
    },
    {
      "cell_type": "code",
      "metadata": {
        "colab": {
          "base_uri": "https://localhost:8080/"
        },
        "id": "ayyIhbK4mRcW",
        "outputId": "7ff8adef-7d24-4105-eeac-5ac2d0232342"
      },
      "source": [
        "dtc_model.featureImportances"
      ],
      "execution_count": 40,
      "outputs": [
        {
          "output_type": "execute_result",
          "data": {
            "text/plain": [
              "SparseVector(17, {0: 0.0187, 1: 0.0076, 2: 0.0077, 3: 0.0173, 4: 0.0121, 5: 0.4675, 6: 0.0422, 7: 0.3286, 8: 0.0293, 10: 0.0025, 11: 0.0422, 14: 0.0147, 15: 0.0096})"
            ]
          },
          "metadata": {},
          "execution_count": 40
        }
      ]
    },
    {
      "cell_type": "code",
      "metadata": {
        "colab": {
          "base_uri": "https://localhost:8080/"
        },
        "id": "5JoASgV2ma18",
        "outputId": "a2219e13-0902-464b-a93a-51564ee124c0"
      },
      "source": [
        "gbt_model.featureImportances"
      ],
      "execution_count": 41,
      "outputs": [
        {
          "output_type": "execute_result",
          "data": {
            "text/plain": [
              "SparseVector(17, {0: 0.0566, 1: 0.0093, 2: 0.0175, 3: 0.0549, 4: 0.0107, 5: 0.2921, 6: 0.0743, 7: 0.227, 8: 0.0416, 9: 0.005, 10: 0.022, 11: 0.056, 12: 0.0093, 13: 0.0796, 14: 0.0191, 15: 0.0189, 16: 0.006})"
            ]
          },
          "metadata": {},
          "execution_count": 41
        }
      ]
    }
  ]
}