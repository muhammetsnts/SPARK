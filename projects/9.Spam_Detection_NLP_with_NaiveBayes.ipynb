{
  "nbformat": 4,
  "nbformat_minor": 0,
  "metadata": {
    "colab": {
      "name": "9.Spam_Classification_NLP_with_NaiveBayes.ipynb",
      "provenance": [],
      "collapsed_sections": [],
      "authorship_tag": "ABX9TyNdIlLFkACbTKsBZEaWD+I1",
      "include_colab_link": true
    },
    "kernelspec": {
      "name": "python3",
      "display_name": "Python 3"
    },
    "language_info": {
      "name": "python"
    }
  },
  "cells": [
    {
      "cell_type": "markdown",
      "metadata": {
        "id": "view-in-github",
        "colab_type": "text"
      },
      "source": [
        "<a href=\"https://colab.research.google.com/github/muhammetsnts/SPARK/blob/main/projects/9.Spam_Detection_NLP_with_NaiveBayes.ipynb\" target=\"_parent\"><img src=\"https://colab.research.google.com/assets/colab-badge.svg\" alt=\"Open In Colab\"/></a>"
      ]
    },
    {
      "cell_type": "markdown",
      "metadata": {
        "id": "O_GrA1gh48br"
      },
      "source": [
        "# Setup Environment"
      ]
    },
    {
      "cell_type": "code",
      "metadata": {
        "id": "NZZ4nklL2ja4"
      },
      "source": [
        "# install Java8\n",
        "!apt-get -q install openjdk-8-jdk-headless -qq > /dev/null\n",
        "\n",
        "# download spark3.1.1\n",
        "!wget -q https://archive.apache.org/dist/spark/spark-3.1.1/spark-3.1.1-bin-hadoop2.7.tgz\n",
        "\n",
        "# unzip it\n",
        "!tar xf spark-3.1.1-bin-hadoop2.7.tgz\n",
        "\n",
        "# install findspark \n",
        "!pip install -q findspark\n",
        "\n",
        "\n",
        "import os\n",
        "os.environ[\"JAVA_HOME\"] = \"/usr/lib/jvm/java-8-openjdk-amd64\"\n",
        "os.environ[\"PATH\"] = os.environ[\"JAVA_HOME\"] + \"/bin:\" + os.environ[\"PATH\"]\n",
        "os.environ[\"SPARK_HOME\"] = \"/content/spark-3.1.1-bin-hadoop2.7\"\n",
        "\n",
        "\n",
        "import findspark\n",
        "findspark.init()\n",
        "from pyspark.sql import SparkSession\n",
        "spark = SparkSession.builder.master(\"local[*]\").getOrCreate()\n",
        "#spark = SparkSession.builder.appName('ops').getOrCreate()"
      ],
      "execution_count": 1,
      "outputs": []
    },
    {
      "cell_type": "markdown",
      "metadata": {
        "id": "GNRL6wQu42NE"
      },
      "source": [
        "# Download And Read Dataset"
      ]
    },
    {
      "cell_type": "code",
      "metadata": {
        "id": "kB_xHfoh3mY3"
      },
      "source": [
        "!wget -q https://raw.githubusercontent.com/muhammetsnts/SPARK/main/data/SMSSpamCollection"
      ],
      "execution_count": 2,
      "outputs": []
    },
    {
      "cell_type": "code",
      "metadata": {
        "colab": {
          "base_uri": "https://localhost:8080/"
        },
        "id": "1j3Mq5p647em",
        "outputId": "9f06b411-6c36-4cf2-ed6a-7bc0a6303ded"
      },
      "source": [
        "data = spark.read.csv(\"SMSSpamCollection\", inferSchema=True, sep=\"\\t\")\n",
        "data = data.withColumnRenamed('_c0', 'class').withColumnRenamed('_c1', 'text')\n",
        "\n",
        "data.show()"
      ],
      "execution_count": 5,
      "outputs": [
        {
          "output_type": "stream",
          "name": "stdout",
          "text": [
            "+-----+--------------------+\n",
            "|class|                text|\n",
            "+-----+--------------------+\n",
            "|  ham|Go until jurong p...|\n",
            "|  ham|Ok lar... Joking ...|\n",
            "| spam|Free entry in 2 a...|\n",
            "|  ham|U dun say so earl...|\n",
            "|  ham|Nah I don't think...|\n",
            "| spam|FreeMsg Hey there...|\n",
            "|  ham|Even my brother i...|\n",
            "|  ham|As per your reque...|\n",
            "| spam|WINNER!! As a val...|\n",
            "| spam|Had your mobile 1...|\n",
            "|  ham|I'm gonna be home...|\n",
            "| spam|SIX chances to wi...|\n",
            "| spam|URGENT! You have ...|\n",
            "|  ham|I've been searchi...|\n",
            "|  ham|I HAVE A DATE ON ...|\n",
            "| spam|XXXMobileMovieClu...|\n",
            "|  ham|Oh k...i'm watchi...|\n",
            "|  ham|Eh u remember how...|\n",
            "|  ham|Fine if thats th...|\n",
            "| spam|England v Macedon...|\n",
            "+-----+--------------------+\n",
            "only showing top 20 rows\n",
            "\n"
          ]
        }
      ]
    },
    {
      "cell_type": "code",
      "metadata": {
        "id": "n2e7yJAS5TZS"
      },
      "source": [
        "from pyspark.sql.functions import length"
      ],
      "execution_count": 7,
      "outputs": []
    },
    {
      "cell_type": "code",
      "metadata": {
        "colab": {
          "base_uri": "https://localhost:8080/"
        },
        "id": "ikUAQlEb5yME",
        "outputId": "c8b0eff1-b59b-49af-d1fa-6f0ea7aed2a9"
      },
      "source": [
        "data = data.withColumn('length', length(data['text']))\n",
        "\n",
        "data.show()"
      ],
      "execution_count": 8,
      "outputs": [
        {
          "output_type": "stream",
          "name": "stdout",
          "text": [
            "+-----+--------------------+------+\n",
            "|class|                text|length|\n",
            "+-----+--------------------+------+\n",
            "|  ham|Go until jurong p...|   111|\n",
            "|  ham|Ok lar... Joking ...|    29|\n",
            "| spam|Free entry in 2 a...|   155|\n",
            "|  ham|U dun say so earl...|    49|\n",
            "|  ham|Nah I don't think...|    61|\n",
            "| spam|FreeMsg Hey there...|   147|\n",
            "|  ham|Even my brother i...|    77|\n",
            "|  ham|As per your reque...|   160|\n",
            "| spam|WINNER!! As a val...|   157|\n",
            "| spam|Had your mobile 1...|   154|\n",
            "|  ham|I'm gonna be home...|   109|\n",
            "| spam|SIX chances to wi...|   136|\n",
            "| spam|URGENT! You have ...|   155|\n",
            "|  ham|I've been searchi...|   196|\n",
            "|  ham|I HAVE A DATE ON ...|    35|\n",
            "| spam|XXXMobileMovieClu...|   149|\n",
            "|  ham|Oh k...i'm watchi...|    26|\n",
            "|  ham|Eh u remember how...|    81|\n",
            "|  ham|Fine if thats th...|    56|\n",
            "| spam|England v Macedon...|   155|\n",
            "+-----+--------------------+------+\n",
            "only showing top 20 rows\n",
            "\n"
          ]
        }
      ]
    },
    {
      "cell_type": "code",
      "metadata": {
        "colab": {
          "base_uri": "https://localhost:8080/"
        },
        "id": "OyfxU9j35_Pi",
        "outputId": "87eb0fd2-50c4-47c3-f5e5-124fe40e3c01"
      },
      "source": [
        "data.groupBy('class').mean().show()"
      ],
      "execution_count": 9,
      "outputs": [
        {
          "output_type": "stream",
          "name": "stdout",
          "text": [
            "+-----+-----------------+\n",
            "|class|      avg(length)|\n",
            "+-----+-----------------+\n",
            "|  ham|71.45431945307645|\n",
            "| spam|138.6706827309237|\n",
            "+-----+-----------------+\n",
            "\n"
          ]
        }
      ]
    },
    {
      "cell_type": "markdown",
      "metadata": {
        "id": "A9t5X4wn6WY0"
      },
      "source": [
        "We can see that there is a clear difference between the length of ham and spam messages."
      ]
    },
    {
      "cell_type": "markdown",
      "metadata": {
        "id": "PuecBYhdC2IV"
      },
      "source": [
        "# Create NLP Pipeline"
      ]
    },
    {
      "cell_type": "code",
      "metadata": {
        "id": "XXuS9lzf6IWi"
      },
      "source": [
        "from pyspark.ml.feature import Tokenizer, StopWordsRemover, CountVectorizer, IDF, StringIndexer"
      ],
      "execution_count": 10,
      "outputs": []
    },
    {
      "cell_type": "code",
      "metadata": {
        "id": "3SEMDSvf6yHl"
      },
      "source": [
        "tokenizer = Tokenizer(inputCol='text', outputCol='token')\n",
        "stop_remove = StopWordsRemover(inputCol='token', outputCol='stop_token')\n",
        "count_vec = CountVectorizer(inputCol='stop_token', outputCol='c_vec')\n",
        "idf = IDF(inputCol='c_vec', outputCol='tf_idf')\n",
        "ham_spam_to_numeric = StringIndexer(inputCol='class', outputCol='label')"
      ],
      "execution_count": 12,
      "outputs": []
    },
    {
      "cell_type": "code",
      "metadata": {
        "id": "q9o6eNEx7hTv"
      },
      "source": [
        "from pyspark.ml.feature import VectorAssembler"
      ],
      "execution_count": 13,
      "outputs": []
    },
    {
      "cell_type": "code",
      "metadata": {
        "id": "aTg8XB2o73KR"
      },
      "source": [
        "clean_up = VectorAssembler(inputCols=['tf_idf', 'length'], outputCol='features')"
      ],
      "execution_count": 14,
      "outputs": []
    },
    {
      "cell_type": "code",
      "metadata": {
        "id": "K2MMY7s78ZrY"
      },
      "source": [
        "from pyspark.ml import Pipeline"
      ],
      "execution_count": 17,
      "outputs": []
    },
    {
      "cell_type": "code",
      "metadata": {
        "id": "p_EVh7cx8dfI"
      },
      "source": [
        "pipeline = Pipeline(stages=[\n",
        "                           ham_spam_to_numeric,\n",
        "                           tokenizer,\n",
        "                           stop_remove,\n",
        "                           count_vec,\n",
        "                           idf,\n",
        "                           clean_up    \n",
        "])"
      ],
      "execution_count": 19,
      "outputs": []
    },
    {
      "cell_type": "code",
      "metadata": {
        "id": "4pBvOkvm8wO3"
      },
      "source": [
        "cleaner = pipeline.fit(data).transform(data)"
      ],
      "execution_count": 21,
      "outputs": []
    },
    {
      "cell_type": "code",
      "metadata": {
        "colab": {
          "base_uri": "https://localhost:8080/"
        },
        "id": "G9k6Lgde8-7y",
        "outputId": "e6165087-3e22-40ca-c01a-7d91b284530d"
      },
      "source": [
        "cleaner.columns"
      ],
      "execution_count": 23,
      "outputs": [
        {
          "output_type": "execute_result",
          "data": {
            "text/plain": [
              "['class',\n",
              " 'text',\n",
              " 'length',\n",
              " 'label',\n",
              " 'token',\n",
              " 'stop_token',\n",
              " 'c_vec',\n",
              " 'tf_idf',\n",
              " 'features']"
            ]
          },
          "metadata": {},
          "execution_count": 23
        }
      ]
    },
    {
      "cell_type": "code",
      "metadata": {
        "colab": {
          "base_uri": "https://localhost:8080/"
        },
        "id": "MfDl-q429JKI",
        "outputId": "b144dce8-d993-4889-8699-7ba016df1285"
      },
      "source": [
        "cleaner = cleaner.select('label', 'features')\n",
        "\n",
        "cleaner.show()"
      ],
      "execution_count": 24,
      "outputs": [
        {
          "output_type": "stream",
          "name": "stdout",
          "text": [
            "+-----+--------------------+\n",
            "|label|            features|\n",
            "+-----+--------------------+\n",
            "|  0.0|(13424,[7,11,31,6...|\n",
            "|  0.0|(13424,[0,24,297,...|\n",
            "|  1.0|(13424,[2,13,19,3...|\n",
            "|  0.0|(13424,[0,70,80,1...|\n",
            "|  0.0|(13424,[36,134,31...|\n",
            "|  1.0|(13424,[10,60,139...|\n",
            "|  0.0|(13424,[10,53,103...|\n",
            "|  0.0|(13424,[125,184,4...|\n",
            "|  1.0|(13424,[1,47,118,...|\n",
            "|  1.0|(13424,[0,1,13,27...|\n",
            "|  0.0|(13424,[18,43,120...|\n",
            "|  1.0|(13424,[8,17,37,8...|\n",
            "|  1.0|(13424,[13,30,47,...|\n",
            "|  0.0|(13424,[39,96,217...|\n",
            "|  0.0|(13424,[552,1697,...|\n",
            "|  1.0|(13424,[30,109,11...|\n",
            "|  0.0|(13424,[82,214,47...|\n",
            "|  0.0|(13424,[0,2,49,13...|\n",
            "|  0.0|(13424,[0,74,105,...|\n",
            "|  1.0|(13424,[4,30,33,5...|\n",
            "+-----+--------------------+\n",
            "only showing top 20 rows\n",
            "\n"
          ]
        }
      ]
    },
    {
      "cell_type": "markdown",
      "metadata": {
        "id": "Plt6GFuIARfT"
      },
      "source": [
        "# Train-Test Split"
      ]
    },
    {
      "cell_type": "code",
      "metadata": {
        "id": "1opNzF559aCI"
      },
      "source": [
        "training, test = cleaner.randomSplit([0.7, 0.3])"
      ],
      "execution_count": 25,
      "outputs": []
    },
    {
      "cell_type": "markdown",
      "metadata": {
        "id": "QY5T52rzB5x7"
      },
      "source": [
        "# Create Model\n",
        "We will create a NaiveBayes model for classification."
      ]
    },
    {
      "cell_type": "code",
      "metadata": {
        "id": "Ee7JQXqv8IEB"
      },
      "source": [
        "from pyspark.ml.classification import NaiveBayes"
      ],
      "execution_count": null,
      "outputs": []
    },
    {
      "cell_type": "code",
      "metadata": {
        "id": "zC0-579L8X0g"
      },
      "source": [
        "nb = NaiveBayes()"
      ],
      "execution_count": null,
      "outputs": []
    },
    {
      "cell_type": "code",
      "metadata": {
        "id": "gW-bliSj-fKY"
      },
      "source": [
        "spam_detector = nb.fit(training)"
      ],
      "execution_count": 26,
      "outputs": []
    },
    {
      "cell_type": "code",
      "metadata": {
        "colab": {
          "base_uri": "https://localhost:8080/"
        },
        "id": "c2QX_7Xu-k8L",
        "outputId": "57e8976d-4575-419b-f8d6-b7d6f6f3cb97"
      },
      "source": [
        "data.printSchema()"
      ],
      "execution_count": 27,
      "outputs": [
        {
          "output_type": "stream",
          "name": "stdout",
          "text": [
            "root\n",
            " |-- class: string (nullable = true)\n",
            " |-- text: string (nullable = true)\n",
            " |-- length: integer (nullable = true)\n",
            "\n"
          ]
        }
      ]
    },
    {
      "cell_type": "code",
      "metadata": {
        "id": "ueq57ULV-n8f"
      },
      "source": [
        "result = spam_detector.transform(test)"
      ],
      "execution_count": 28,
      "outputs": []
    },
    {
      "cell_type": "code",
      "metadata": {
        "colab": {
          "base_uri": "https://localhost:8080/"
        },
        "id": "C376pzd8_kZ1",
        "outputId": "535432b0-7ba8-4122-db14-d01af3d4237d"
      },
      "source": [
        "result.show()"
      ],
      "execution_count": 29,
      "outputs": [
        {
          "output_type": "stream",
          "name": "stdout",
          "text": [
            "+-----+--------------------+--------------------+--------------------+----------+\n",
            "|label|            features|       rawPrediction|         probability|prediction|\n",
            "+-----+--------------------+--------------------+--------------------+----------+\n",
            "|  0.0|(13424,[0,1,2,41,...|[-1058.9167940380...|[1.0,5.5985807605...|       0.0|\n",
            "|  0.0|(13424,[0,1,43,69...|[-616.04038306338...|[0.99960011990334...|       0.0|\n",
            "|  0.0|(13424,[0,1,46,17...|[-1138.7317512135...|[6.18289713080342...|       1.0|\n",
            "|  0.0|(13424,[0,1,498,5...|[-322.68679960841...|[0.99999999996447...|       0.0|\n",
            "|  0.0|(13424,[0,1,3657,...|[-128.14775659002...|[0.99997392865105...|       0.0|\n",
            "|  0.0|(13424,[0,2,3,5,3...|[-491.01721738697...|[1.0,1.8542919091...|       0.0|\n",
            "|  0.0|(13424,[0,2,4,7,2...|[-519.20910873634...|[1.0,4.4988356840...|       0.0|\n",
            "|  0.0|(13424,[0,2,4,25,...|[-440.01404086094...|[1.0,6.2376563134...|       0.0|\n",
            "|  0.0|(13424,[0,2,4,40,...|[-1582.8569850404...|[0.99998975317248...|       0.0|\n",
            "|  0.0|(13424,[0,2,7,8,1...|[-704.06579272840...|[1.0,2.0698677936...|       0.0|\n",
            "|  0.0|(13424,[0,2,7,8,3...|[-1153.4013019521...|[1.0,2.4149901115...|       0.0|\n",
            "|  0.0|(13424,[0,2,7,11,...|[-1403.3281153678...|[1.0,7.6063515404...|       0.0|\n",
            "|  0.0|(13424,[0,2,7,11,...|[-850.49479527357...|[1.0,1.1605300295...|       0.0|\n",
            "|  0.0|(13424,[0,2,7,27,...|[-473.15162451982...|[0.29764289348993...|       1.0|\n",
            "|  0.0|(13424,[0,2,7,114...|[-455.95779891119...|[1.0,2.9390543131...|       0.0|\n",
            "|  0.0|(13424,[0,2,7,128...|[-237.98801654565...|[1.0,2.9816012892...|       0.0|\n",
            "|  0.0|(13424,[0,2,8,12,...|[-1326.4662715616...|[1.0,4.3445278382...|       0.0|\n",
            "|  0.0|(13424,[0,2,8,14,...|[-494.51711765891...|[1.0,8.9931139800...|       0.0|\n",
            "|  0.0|(13424,[0,2,8,25,...|[-305.98186746422...|[1.0,1.1982790887...|       0.0|\n",
            "|  0.0|(13424,[0,2,8,27,...|[-1407.6744196501...|[1.0,9.6790674645...|       0.0|\n",
            "+-----+--------------------+--------------------+--------------------+----------+\n",
            "only showing top 20 rows\n",
            "\n"
          ]
        }
      ]
    },
    {
      "cell_type": "markdown",
      "metadata": {
        "id": "uxUiK74IAOWe"
      },
      "source": [
        "# Evaluation"
      ]
    },
    {
      "cell_type": "code",
      "metadata": {
        "id": "BvExZ7oU_l3W"
      },
      "source": [
        "from pyspark.ml.evaluation import MulticlassClassificationEvaluator"
      ],
      "execution_count": 30,
      "outputs": []
    },
    {
      "cell_type": "code",
      "metadata": {
        "id": "LzOyXDYV_u9t"
      },
      "source": [
        "acc_eval = MulticlassClassificationEvaluator()"
      ],
      "execution_count": 31,
      "outputs": []
    },
    {
      "cell_type": "code",
      "metadata": {
        "id": "oGqvRbd8_xCv"
      },
      "source": [
        "acc = acc_eval.evaluate(result)"
      ],
      "execution_count": 32,
      "outputs": []
    },
    {
      "cell_type": "code",
      "metadata": {
        "colab": {
          "base_uri": "https://localhost:8080/"
        },
        "id": "MVswTtrq_2tl",
        "outputId": "4a57026f-b1cc-4fa4-c711-979971e48725"
      },
      "source": [
        "print(f'Acc of NB Model: ',acc)"
      ],
      "execution_count": 33,
      "outputs": [
        {
          "output_type": "stream",
          "name": "stdout",
          "text": [
            "Acc of NB Model:  0.9242987690816107\n"
          ]
        }
      ]
    }
  ]
}