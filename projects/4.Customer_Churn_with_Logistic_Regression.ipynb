{
  "nbformat": 4,
  "nbformat_minor": 0,
  "metadata": {
    "colab": {
      "name": "4.Custumer_Churn_with_Logistic_Regression.ipynb",
      "provenance": [],
      "collapsed_sections": [],
      "authorship_tag": "ABX9TyNb4tr4VzOW0V9KziJswtu+",
      "include_colab_link": true
    },
    "kernelspec": {
      "name": "python3",
      "display_name": "Python 3"
    },
    "language_info": {
      "name": "python"
    }
  },
  "cells": [
    {
      "cell_type": "markdown",
      "metadata": {
        "id": "view-in-github",
        "colab_type": "text"
      },
      "source": [
        "<a href=\"https://colab.research.google.com/github/muhammetsnts/SPARK/blob/main/projects/4.Customer_Churn_with_Logistic_Regression.ipynb\" target=\"_parent\"><img src=\"https://colab.research.google.com/assets/colab-badge.svg\" alt=\"Open In Colab\"/></a>"
      ]
    },
    {
      "cell_type": "markdown",
      "metadata": {
        "id": "P_MZG1RxCLz6"
      },
      "source": [
        "# Project Info\n",
        "\n",
        "A marketing agency has many customers that use their service to produce ads for the clients/customer websites. They've noticed that they have quite a bit of churn in clients.\n",
        "\n",
        "The want to predict which customer will churn, so that they can correctly assign the customers most at risk to churn an account manager.\n",
        "\n",
        "We will create a classification algorithm by using `customer_churn.csv` dataset.Here are the fields and their definitions:\n",
        "\n",
        "    Name : Name of the latest contact at Company\n",
        "    Age: Customer Age\n",
        "    Total_Purchase: Total Ads Purchased\n",
        "    Account_Manager: Binary 0=No manager, 1= Account manager assigned\n",
        "    Years: Totaly Years as a customer\n",
        "    Num_sites: Number of websites that use the service.\n",
        "    Onboard_date: Date that the name of the latest contact was onboarded\n",
        "    Location: Client HQ Address\n",
        "    Company: Name of Client Company\n",
        "    \n",
        "\n",
        "NOTE: In dataset, Account Manager is assigned randomly to the customers!!!\n"
      ]
    },
    {
      "cell_type": "markdown",
      "metadata": {
        "id": "BpX2BaZyCsSg"
      },
      "source": [
        "# Setting Environment"
      ]
    },
    {
      "cell_type": "code",
      "metadata": {
        "id": "NZZ4nklL2ja4"
      },
      "source": [
        "# install Java8\n",
        "!apt-get -q install openjdk-8-jdk-headless -qq > /dev/null\n",
        "\n",
        "# download spark3.1.1\n",
        "!wget -q https://archive.apache.org/dist/spark/spark-3.1.1/spark-3.1.1-bin-hadoop2.7.tgz\n",
        "\n",
        "# unzip it\n",
        "!tar xf spark-3.1.1-bin-hadoop2.7.tgz\n",
        "\n",
        "# install findspark \n",
        "!pip install -q findspark\n",
        "\n",
        "\n",
        "import os\n",
        "os.environ[\"JAVA_HOME\"] = \"/usr/lib/jvm/java-8-openjdk-amd64\"\n",
        "os.environ[\"PATH\"] = os.environ[\"JAVA_HOME\"] + \"/bin:\" + os.environ[\"PATH\"]\n",
        "os.environ[\"SPARK_HOME\"] = \"/content/spark-3.1.1-bin-hadoop2.7\"\n",
        "\n",
        "\n",
        "import findspark\n",
        "findspark.init()\n",
        "from pyspark.sql import SparkSession\n",
        "spark = SparkSession.builder.master(\"local[*]\").getOrCreate()"
      ],
      "execution_count": 1,
      "outputs": []
    },
    {
      "cell_type": "markdown",
      "metadata": {
        "id": "yN-8VntoBnq0"
      },
      "source": [
        "# Download and Read the Data"
      ]
    },
    {
      "cell_type": "code",
      "metadata": {
        "id": "CZbo0ytzAEDc"
      },
      "source": [
        "!wget -q https://raw.githubusercontent.com/muhammetsnts/SPARK/main/data/customer_churn.csv"
      ],
      "execution_count": 2,
      "outputs": []
    },
    {
      "cell_type": "markdown",
      "metadata": {
        "id": "BqL_6ZWwBvGw"
      },
      "source": [
        "# Create Spark DataFrame"
      ]
    },
    {
      "cell_type": "code",
      "metadata": {
        "colab": {
          "base_uri": "https://localhost:8080/"
        },
        "id": "YecwC_GJBl0j",
        "outputId": "e0bb0a03-f7a0-4e7f-aea3-1865e8523c56"
      },
      "source": [
        "data = spark.read.csv('customer_churn.csv', inferSchema=True, header=True)\n",
        "data.show()"
      ],
      "execution_count": 3,
      "outputs": [
        {
          "output_type": "stream",
          "text": [
            "+-------------------+----+--------------+---------------+-----+---------+-------------------+--------------------+--------------------+-----+\n",
            "|              Names| Age|Total_Purchase|Account_Manager|Years|Num_Sites|       Onboard_date|            Location|             Company|Churn|\n",
            "+-------------------+----+--------------+---------------+-----+---------+-------------------+--------------------+--------------------+-----+\n",
            "|   Cameron Williams|42.0|       11066.8|              0| 7.22|      8.0|2013-08-30 07:00:40|10265 Elizabeth M...|          Harvey LLC|    1|\n",
            "|      Kevin Mueller|41.0|      11916.22|              0|  6.5|     11.0|2013-08-13 00:38:46|6157 Frank Garden...|          Wilson PLC|    1|\n",
            "|        Eric Lozano|38.0|      12884.75|              0| 6.67|     12.0|2016-06-29 06:20:07|1331 Keith Court ...|Miller, Johnson a...|    1|\n",
            "|      Phillip White|42.0|       8010.76|              0| 6.71|     10.0|2014-04-22 12:43:12|13120 Daniel Moun...|           Smith Inc|    1|\n",
            "|     Cynthia Norton|37.0|       9191.58|              0| 5.56|      9.0|2016-01-19 15:31:15|765 Tricia Row Ka...|          Love-Jones|    1|\n",
            "|   Jessica Williams|48.0|      10356.02|              0| 5.12|      8.0|2009-03-03 23:13:37|6187 Olson Mounta...|        Kelly-Warren|    1|\n",
            "|        Eric Butler|44.0|      11331.58|              1| 5.23|     11.0|2016-12-05 03:35:43|4846 Savannah Roa...|   Reynolds-Sheppard|    1|\n",
            "|      Zachary Walsh|32.0|       9885.12|              1| 6.92|      9.0|2006-03-09 14:50:20|25271 Roy Express...|          Singh-Cole|    1|\n",
            "|        Ashlee Carr|43.0|       14062.6|              1| 5.46|     11.0|2011-09-29 05:47:23|3725 Caroline Str...|           Lopez PLC|    1|\n",
            "|     Jennifer Lynch|40.0|       8066.94|              1| 7.11|     11.0|2006-03-28 15:42:45|363 Sandra Lodge ...|       Reed-Martinez|    1|\n",
            "|       Paula Harris|30.0|      11575.37|              1| 5.22|      8.0|2016-11-13 13:13:01|Unit 8120 Box 916...|Briggs, Lamb and ...|    1|\n",
            "|     Bruce Phillips|45.0|       8771.02|              1| 6.64|     11.0|2015-05-28 12:14:03|Unit 1895 Box 094...|    Figueroa-Maynard|    1|\n",
            "|       Craig Garner|45.0|       8988.67|              1| 4.84|     11.0|2011-02-16 08:10:47|897 Kelley Overpa...|     Abbott-Thompson|    1|\n",
            "|       Nicole Olson|40.0|       8283.32|              1|  5.1|     13.0|2012-11-22 05:35:03|11488 Weaver Cape...|Smith, Kim and Ma...|    1|\n",
            "|     Harold Griffin|41.0|       6569.87|              1|  4.3|     11.0|2015-03-28 02:13:44|1774 Peter Row Ap...|Snyder, Lee and M...|    1|\n",
            "|       James Wright|38.0|      10494.82|              1| 6.81|     12.0|2015-07-22 08:38:40|45408 David Path ...|      Sanders-Pierce|    1|\n",
            "|      Doris Wilkins|45.0|       8213.41|              1| 7.35|     11.0|2006-09-03 06:13:55|28216 Wright Moun...|Andrews, Adams an...|    1|\n",
            "|Katherine Carpenter|43.0|      11226.88|              0| 8.08|     12.0|2006-10-22 04:42:38|Unit 4948 Box 481...|Morgan, Phillips ...|    1|\n",
            "|     Lindsay Martin|53.0|       5515.09|              0| 6.85|      8.0|2015-10-07 00:27:10|69203 Crosby Divi...|      Villanueva LLC|    1|\n",
            "|        Kathy Curry|46.0|        8046.4|              1| 5.69|      8.0|2014-11-06 23:47:14|9569 Caldwell Cre...|Berry, Orr and Ca...|    1|\n",
            "+-------------------+----+--------------+---------------+-----+---------+-------------------+--------------------+--------------------+-----+\n",
            "only showing top 20 rows\n",
            "\n"
          ],
          "name": "stdout"
        }
      ]
    },
    {
      "cell_type": "code",
      "metadata": {
        "colab": {
          "base_uri": "https://localhost:8080/"
        },
        "id": "E966FBQZB9vu",
        "outputId": "a753cc2a-7844-4d9d-cc4e-02634e4ff5bd"
      },
      "source": [
        "data.printSchema()"
      ],
      "execution_count": 4,
      "outputs": [
        {
          "output_type": "stream",
          "text": [
            "root\n",
            " |-- Names: string (nullable = true)\n",
            " |-- Age: double (nullable = true)\n",
            " |-- Total_Purchase: double (nullable = true)\n",
            " |-- Account_Manager: integer (nullable = true)\n",
            " |-- Years: double (nullable = true)\n",
            " |-- Num_Sites: double (nullable = true)\n",
            " |-- Onboard_date: string (nullable = true)\n",
            " |-- Location: string (nullable = true)\n",
            " |-- Company: string (nullable = true)\n",
            " |-- Churn: integer (nullable = true)\n",
            "\n"
          ],
          "name": "stdout"
        }
      ]
    },
    {
      "cell_type": "code",
      "metadata": {
        "colab": {
          "base_uri": "https://localhost:8080/"
        },
        "id": "a8U7mMdJCIWk",
        "outputId": "fcd6b36c-0f6c-4ba6-e885-e495c8ab2f3d"
      },
      "source": [
        "data.describe().show()"
      ],
      "execution_count": 5,
      "outputs": [
        {
          "output_type": "stream",
          "text": [
            "+-------+-------------+-----------------+-----------------+------------------+-----------------+------------------+-------------------+--------------------+--------------------+-------------------+\n",
            "|summary|        Names|              Age|   Total_Purchase|   Account_Manager|            Years|         Num_Sites|       Onboard_date|            Location|             Company|              Churn|\n",
            "+-------+-------------+-----------------+-----------------+------------------+-----------------+------------------+-------------------+--------------------+--------------------+-------------------+\n",
            "|  count|          900|              900|              900|               900|              900|               900|                900|                 900|                 900|                900|\n",
            "|   mean|         null|41.81666666666667|10062.82403333334|0.4811111111111111| 5.27315555555555| 8.587777777777777|               null|                null|                null|0.16666666666666666|\n",
            "| stddev|         null|6.127560416916251|2408.644531858096|0.4999208935073339|1.274449013194616|1.7648355920350969|               null|                null|                null| 0.3728852122772358|\n",
            "|    min|   Aaron King|             22.0|            100.0|                 0|              1.0|               3.0|2006-01-02 04:16:13|00103 Jeffrey Cre...|     Abbott-Thompson|                  0|\n",
            "|    max|Zachary Walsh|             65.0|         18026.01|                 1|             9.15|              14.0|2016-12-28 04:07:38|Unit 9800 Box 287...|Zuniga, Clark and...|                  1|\n",
            "+-------+-------------+-----------------+-----------------+------------------+-----------------+------------------+-------------------+--------------------+--------------------+-------------------+\n",
            "\n"
          ],
          "name": "stdout"
        }
      ]
    },
    {
      "cell_type": "markdown",
      "metadata": {
        "id": "iZxenQZcEKR3"
      },
      "source": [
        "# Data Cleaning"
      ]
    },
    {
      "cell_type": "markdown",
      "metadata": {
        "id": "W1NpXTUSQwal"
      },
      "source": [
        "- There is no missing value.\n",
        "- Names of the customers won't be helpful for us. \n",
        "- Account Manager is assigned randomly, so we don't expect that it affects the result but, we will use this.\n",
        "- So, lets check the company column in data."
      ]
    },
    {
      "cell_type": "code",
      "metadata": {
        "colab": {
          "base_uri": "https://localhost:8080/"
        },
        "id": "-7E78GXZQ1cD",
        "outputId": "631b7194-0543-48d5-b8f8-4885e1cd7990"
      },
      "source": [
        "data.groupBy('Company').count().show()"
      ],
      "execution_count": 10,
      "outputs": [
        {
          "output_type": "stream",
          "text": [
            "+--------------------+-----+\n",
            "|             Company|count|\n",
            "+--------------------+-----+\n",
            "|Miller, Johnson a...|    1|\n",
            "|Hunter, Reyes and...|    1|\n",
            "|          Obrien PLC|    1|\n",
            "|            Soto PLC|    2|\n",
            "|            Todd LLC|    1|\n",
            "|Smith, Marshall a...|    1|\n",
            "|           Smith PLC|    1|\n",
            "|          Hall Group|    1|\n",
            "|Freeman, Lam and ...|    1|\n",
            "|       Smith-Carroll|    1|\n",
            "|Hall, Hernandez a...|    1|\n",
            "|          Cannon Inc|    1|\n",
            "|        White-Dennis|    1|\n",
            "|Wilson, Collins a...|    1|\n",
            "|Jennings, Gates a...|    1|\n",
            "|     Campbell-Willis|    1|\n",
            "|    Martinez-Roberts|    1|\n",
            "|        Robinson PLC|    1|\n",
            "|          Barton Inc|    1|\n",
            "|Hernandez, Middle...|    1|\n",
            "+--------------------+-----+\n",
            "only showing top 20 rows\n",
            "\n"
          ],
          "name": "stdout"
        }
      ]
    },
    {
      "cell_type": "code",
      "metadata": {
        "colab": {
          "base_uri": "https://localhost:8080/"
        },
        "id": "8m44wbUxdR6b",
        "outputId": "afa7911d-0429-4834-c7ba-7bf1c887c445"
      },
      "source": [
        "data.select('Company').distinct().count()"
      ],
      "execution_count": 13,
      "outputs": [
        {
          "output_type": "execute_result",
          "data": {
            "text/plain": [
              "873"
            ]
          },
          "metadata": {},
          "execution_count": 13
        }
      ]
    },
    {
      "cell_type": "markdown",
      "metadata": {
        "id": "ChQrw4j9EIMz"
      },
      "source": [
        "As you can see, there are 873 distict companies in Conpany column. So making one-hot encoding to them will be inaccurate.\n",
        "\n",
        "Lets take a look at the Location column."
      ]
    },
    {
      "cell_type": "code",
      "metadata": {
        "colab": {
          "base_uri": "https://localhost:8080/"
        },
        "id": "wN_kv7PkguPN",
        "outputId": "3d361508-97f2-4e1d-a56d-dd84aeda3517"
      },
      "source": [
        "data.limit(3).select('Location').show(truncate=False)"
      ],
      "execution_count": 16,
      "outputs": [
        {
          "output_type": "stream",
          "text": [
            "+--------------------------------------------------+\n",
            "|Location                                          |\n",
            "+--------------------------------------------------+\n",
            "|10265 Elizabeth Mission Barkerburgh, AK 89518     |\n",
            "|6157 Frank Gardens Suite 019 Carloshaven, RI 17756|\n",
            "|1331 Keith Court Alyssahaven, DE 90114            |\n",
            "+--------------------------------------------------+\n",
            "\n"
          ],
          "name": "stdout"
        }
      ]
    },
    {
      "cell_type": "markdown",
      "metadata": {
        "id": "rtZwx6QKhMYB"
      },
      "source": [
        "We can get the zipcodes and states from this column and make a deeper analysis but, in this example we won't do that."
      ]
    },
    {
      "cell_type": "markdown",
      "metadata": {
        "id": "CvoVTk2hKEIv"
      },
      "source": [
        "## Correlation Check"
      ]
    },
    {
      "cell_type": "code",
      "metadata": {
        "id": "VYHTDkSIKDV9"
      },
      "source": [
        "from pyspark.sql.functions import corr"
      ],
      "execution_count": null,
      "outputs": []
    },
    {
      "cell_type": "code",
      "metadata": {
        "colab": {
          "base_uri": "https://localhost:8080/"
        },
        "id": "j85dqaObKLoc",
        "outputId": "c0a087fa-3558-4619-c03e-1ebdbbd518a8"
      },
      "source": [
        "data.describe().show()"
      ],
      "execution_count": null,
      "outputs": [
        {
          "output_type": "stream",
          "text": [
            "+-------+-------------+-----------------+-----------------+------------------+-----------------+------------------+-------------------+--------------------+--------------------+-------------------+\n",
            "|summary|        Names|              Age|   Total_Purchase|   Account_Manager|            Years|         Num_Sites|       Onboard_date|            Location|             Company|              Churn|\n",
            "+-------+-------------+-----------------+-----------------+------------------+-----------------+------------------+-------------------+--------------------+--------------------+-------------------+\n",
            "|  count|          900|              900|              900|               900|              900|               900|                900|                 900|                 900|                900|\n",
            "|   mean|         null|41.81666666666667|10062.82403333334|0.4811111111111111| 5.27315555555555| 8.587777777777777|               null|                null|                null|0.16666666666666666|\n",
            "| stddev|         null|6.127560416916251|2408.644531858096|0.4999208935073339|1.274449013194616|1.7648355920350969|               null|                null|                null| 0.3728852122772358|\n",
            "|    min|   Aaron King|             22.0|            100.0|                 0|              1.0|               3.0|2006-01-02 04:16:13|00103 Jeffrey Cre...|     Abbott-Thompson|                  0|\n",
            "|    max|Zachary Walsh|             65.0|         18026.01|                 1|             9.15|              14.0|2016-12-28 04:07:38|Unit 9800 Box 287...|Zuniga, Clark and...|                  1|\n",
            "+-------+-------------+-----------------+-----------------+------------------+-----------------+------------------+-------------------+--------------------+--------------------+-------------------+\n",
            "\n"
          ],
          "name": "stdout"
        }
      ]
    },
    {
      "cell_type": "code",
      "metadata": {
        "colab": {
          "base_uri": "https://localhost:8080/"
        },
        "id": "KSi8BRMrLTqR",
        "outputId": "3e85bbb9-88d2-4e55-889a-71dc50b38c63"
      },
      "source": [
        "data.select(corr('Churn', 'Account_Manager')).show()"
      ],
      "execution_count": null,
      "outputs": [
        {
          "output_type": "stream",
          "text": [
            "+----------------------------+\n",
            "|corr(Churn, Account_Manager)|\n",
            "+----------------------------+\n",
            "|         0.07061077173214911|\n",
            "+----------------------------+\n",
            "\n"
          ],
          "name": "stdout"
        }
      ]
    },
    {
      "cell_type": "markdown",
      "metadata": {
        "id": "gjTkbI9tLD_W"
      },
      "source": [
        "As you can see the Account_Manager is not helpful for predicting Churn."
      ]
    },
    {
      "cell_type": "code",
      "metadata": {
        "colab": {
          "base_uri": "https://localhost:8080/"
        },
        "id": "kWYft2ibKOIU",
        "outputId": "180383bd-b115-4782-b6cd-a7c08adfe4f9"
      },
      "source": [
        "data.select(corr('Churn', 'Years')).show()"
      ],
      "execution_count": null,
      "outputs": [
        {
          "output_type": "stream",
          "text": [
            "+------------------+\n",
            "|corr(Churn, Years)|\n",
            "+------------------+\n",
            "|0.2143285801724283|\n",
            "+------------------+\n",
            "\n"
          ],
          "name": "stdout"
        }
      ]
    },
    {
      "cell_type": "code",
      "metadata": {
        "colab": {
          "base_uri": "https://localhost:8080/"
        },
        "id": "WJYLS9fvLi94",
        "outputId": "41b19ec0-6b10-496e-f73b-83c1b81bb5e1"
      },
      "source": [
        "data.select(corr('Churn', 'Num_Sites')).show()"
      ],
      "execution_count": null,
      "outputs": [
        {
          "output_type": "stream",
          "text": [
            "+----------------------+\n",
            "|corr(Churn, Num_Sites)|\n",
            "+----------------------+\n",
            "|    0.5253980778988574|\n",
            "+----------------------+\n",
            "\n"
          ],
          "name": "stdout"
        }
      ]
    },
    {
      "cell_type": "markdown",
      "metadata": {
        "id": "sC0bw-RPLb5_"
      },
      "source": [
        "# Preparing the Data For Model"
      ]
    },
    {
      "cell_type": "markdown",
      "metadata": {
        "id": "A7q6yS7ViG0m"
      },
      "source": [
        "We will use only the numeric columns."
      ]
    },
    {
      "cell_type": "code",
      "metadata": {
        "id": "1ApI3EMFLzwo"
      },
      "source": [
        "from pyspark.ml.linalg import Vectors\n",
        "from pyspark.ml.feature import VectorAssembler"
      ],
      "execution_count": 17,
      "outputs": []
    },
    {
      "cell_type": "code",
      "metadata": {
        "colab": {
          "base_uri": "https://localhost:8080/"
        },
        "id": "v59Ao4PWDbeo",
        "outputId": "a4cf6150-d900-421b-b49a-4191d54a769f"
      },
      "source": [
        "data.columns"
      ],
      "execution_count": 19,
      "outputs": [
        {
          "output_type": "execute_result",
          "data": {
            "text/plain": [
              "['Names',\n",
              " 'Age',\n",
              " 'Total_Purchase',\n",
              " 'Account_Manager',\n",
              " 'Years',\n",
              " 'Num_Sites',\n",
              " 'Onboard_date',\n",
              " 'Location',\n",
              " 'Company',\n",
              " 'Churn']"
            ]
          },
          "metadata": {},
          "execution_count": 19
        }
      ]
    },
    {
      "cell_type": "code",
      "metadata": {
        "id": "1ekugXN4L_Jv"
      },
      "source": [
        "assembler = VectorAssembler(inputCols=['Age',\n",
        "                                       'Total_Purchase',\n",
        "                                       'Account_Manager',\n",
        "                                       'Years',\n",
        "                                       'Num_Sites'], \n",
        "                            outputCol='features')"
      ],
      "execution_count": 20,
      "outputs": []
    },
    {
      "cell_type": "markdown",
      "metadata": {
        "id": "iHPpQDmgMg3g"
      },
      "source": [
        "We will transform our data before splitting."
      ]
    },
    {
      "cell_type": "code",
      "metadata": {
        "colab": {
          "base_uri": "https://localhost:8080/"
        },
        "id": "yWVKlKDfML78",
        "outputId": "c89dd69f-f32f-48f8-b8c4-0f0422bb28d8"
      },
      "source": [
        "output = assembler.transform(data)\n",
        "\n",
        "output.printSchema()"
      ],
      "execution_count": 21,
      "outputs": [
        {
          "output_type": "stream",
          "text": [
            "root\n",
            " |-- Names: string (nullable = true)\n",
            " |-- Age: double (nullable = true)\n",
            " |-- Total_Purchase: double (nullable = true)\n",
            " |-- Account_Manager: integer (nullable = true)\n",
            " |-- Years: double (nullable = true)\n",
            " |-- Num_Sites: double (nullable = true)\n",
            " |-- Onboard_date: string (nullable = true)\n",
            " |-- Location: string (nullable = true)\n",
            " |-- Company: string (nullable = true)\n",
            " |-- Churn: integer (nullable = true)\n",
            " |-- features: vector (nullable = true)\n",
            "\n"
          ],
          "name": "stdout"
        }
      ]
    },
    {
      "cell_type": "markdown",
      "metadata": {
        "id": "FOUFd59oM5Su"
      },
      "source": [
        "We will choose only `Churn` and `features` columns."
      ]
    },
    {
      "cell_type": "code",
      "metadata": {
        "colab": {
          "base_uri": "https://localhost:8080/"
        },
        "id": "PpB6ZDRBM2SY",
        "outputId": "27442515-0a46-4aee-8858-d03a9a1b3f2e"
      },
      "source": [
        "final_data = output.select('Churn', 'features')\n",
        "\n",
        "final_data.show()"
      ],
      "execution_count": 22,
      "outputs": [
        {
          "output_type": "stream",
          "text": [
            "+-----+--------------------+\n",
            "|Churn|            features|\n",
            "+-----+--------------------+\n",
            "|    1|[42.0,11066.8,0.0...|\n",
            "|    1|[41.0,11916.22,0....|\n",
            "|    1|[38.0,12884.75,0....|\n",
            "|    1|[42.0,8010.76,0.0...|\n",
            "|    1|[37.0,9191.58,0.0...|\n",
            "|    1|[48.0,10356.02,0....|\n",
            "|    1|[44.0,11331.58,1....|\n",
            "|    1|[32.0,9885.12,1.0...|\n",
            "|    1|[43.0,14062.6,1.0...|\n",
            "|    1|[40.0,8066.94,1.0...|\n",
            "|    1|[30.0,11575.37,1....|\n",
            "|    1|[45.0,8771.02,1.0...|\n",
            "|    1|[45.0,8988.67,1.0...|\n",
            "|    1|[40.0,8283.32,1.0...|\n",
            "|    1|[41.0,6569.87,1.0...|\n",
            "|    1|[38.0,10494.82,1....|\n",
            "|    1|[45.0,8213.41,1.0...|\n",
            "|    1|[43.0,11226.88,0....|\n",
            "|    1|[53.0,5515.09,0.0...|\n",
            "|    1|[46.0,8046.4,1.0,...|\n",
            "+-----+--------------------+\n",
            "only showing top 20 rows\n",
            "\n"
          ],
          "name": "stdout"
        }
      ]
    },
    {
      "cell_type": "markdown",
      "metadata": {
        "id": "HtbIpc_XNMRp"
      },
      "source": [
        "# Train-Test Split"
      ]
    },
    {
      "cell_type": "code",
      "metadata": {
        "id": "kMyBqxnINPeO"
      },
      "source": [
        "train_data, test_data = final_data.randomSplit([0.7,0.3])"
      ],
      "execution_count": 23,
      "outputs": []
    },
    {
      "cell_type": "code",
      "metadata": {
        "colab": {
          "base_uri": "https://localhost:8080/"
        },
        "id": "xuy_jAAjNYcv",
        "outputId": "e8ed78dc-e854-42eb-dbaa-80ba18ddb280"
      },
      "source": [
        "train_data.describe().show()"
      ],
      "execution_count": 24,
      "outputs": [
        {
          "output_type": "stream",
          "text": [
            "+-------+-------------------+\n",
            "|summary|              Churn|\n",
            "+-------+-------------------+\n",
            "|  count|                631|\n",
            "|   mean|0.17274167987321712|\n",
            "| stddev| 0.3783236979973365|\n",
            "|    min|                  0|\n",
            "|    max|                  1|\n",
            "+-------+-------------------+\n",
            "\n"
          ],
          "name": "stdout"
        }
      ]
    },
    {
      "cell_type": "code",
      "metadata": {
        "colab": {
          "base_uri": "https://localhost:8080/"
        },
        "id": "8GVOYJgaNd3n",
        "outputId": "09ff00ef-d158-4d0c-bbc0-177f93c12f99"
      },
      "source": [
        "test_data.describe().show()"
      ],
      "execution_count": 25,
      "outputs": [
        {
          "output_type": "stream",
          "text": [
            "+-------+-------------------+\n",
            "|summary|              Churn|\n",
            "+-------+-------------------+\n",
            "|  count|                269|\n",
            "|   mean| 0.1524163568773234|\n",
            "| stddev|0.36009394176469195|\n",
            "|    min|                  0|\n",
            "|    max|                  1|\n",
            "+-------+-------------------+\n",
            "\n"
          ],
          "name": "stdout"
        }
      ]
    },
    {
      "cell_type": "markdown",
      "metadata": {
        "id": "S7Gml-PVKlRV"
      },
      "source": [
        "# Modelling"
      ]
    },
    {
      "cell_type": "code",
      "metadata": {
        "id": "TqjUqbwUKX-U"
      },
      "source": [
        "from pyspark.ml.classification import LogisticRegression"
      ],
      "execution_count": 28,
      "outputs": []
    },
    {
      "cell_type": "code",
      "metadata": {
        "id": "rAtG5ll6Kxh-"
      },
      "source": [
        "lr = LogisticRegression(labelCol='Churn')"
      ],
      "execution_count": 29,
      "outputs": []
    },
    {
      "cell_type": "code",
      "metadata": {
        "id": "006gu8zOLFJx"
      },
      "source": [
        "lrModel = lr.fit(train_data)"
      ],
      "execution_count": 30,
      "outputs": []
    },
    {
      "cell_type": "markdown",
      "metadata": {
        "id": "Nyp3WJB7NvQx"
      },
      "source": [
        "# Evaluate Model"
      ]
    },
    {
      "cell_type": "code",
      "metadata": {
        "id": "udr8_2M9jzzR"
      },
      "source": [
        "training_sum = lrModel.summary"
      ],
      "execution_count": 31,
      "outputs": []
    },
    {
      "cell_type": "code",
      "metadata": {
        "colab": {
          "base_uri": "https://localhost:8080/"
        },
        "id": "D8QSmt-Oj5T8",
        "outputId": "4be51a81-9e6c-41c4-df0a-e5ca9a82ae8f"
      },
      "source": [
        "training_sum.predictions.describe().show()"
      ],
      "execution_count": 32,
      "outputs": [
        {
          "output_type": "stream",
          "text": [
            "+-------+-------------------+-------------------+\n",
            "|summary|              Churn|         prediction|\n",
            "+-------+-------------------+-------------------+\n",
            "|  count|                631|                631|\n",
            "|   mean|0.17274167987321712|0.13153724247226625|\n",
            "| stddev| 0.3783236979973365|  0.338255113817212|\n",
            "|    min|                0.0|                0.0|\n",
            "|    max|                1.0|                1.0|\n",
            "+-------+-------------------+-------------------+\n",
            "\n"
          ],
          "name": "stdout"
        }
      ]
    },
    {
      "cell_type": "code",
      "metadata": {
        "id": "_YESfzMFkLG_"
      },
      "source": [
        "pred_and_label = lrModel.evaluate(test_data)"
      ],
      "execution_count": 34,
      "outputs": []
    },
    {
      "cell_type": "code",
      "metadata": {
        "colab": {
          "base_uri": "https://localhost:8080/"
        },
        "id": "RlOy_-Vqk4JW",
        "outputId": "4e936fa9-e9e5-47fa-9a70-6caf4b2f7481"
      },
      "source": [
        "pred_and_label.predictions.show()"
      ],
      "execution_count": 36,
      "outputs": [
        {
          "output_type": "stream",
          "text": [
            "+-----+--------------------+--------------------+--------------------+----------+\n",
            "|Churn|            features|       rawPrediction|         probability|prediction|\n",
            "+-----+--------------------+--------------------+--------------------+----------+\n",
            "|    0|[26.0,8939.61,0.0...|[6.27004738245957...|[0.99811143450140...|       0.0|\n",
            "|    0|[27.0,8628.8,1.0,...|[5.35937599457367...|[0.99531818211028...|       0.0|\n",
            "|    0|[28.0,9090.43,1.0...|[1.56305181501164...|[0.82679083250873...|       0.0|\n",
            "|    0|[28.0,11128.95,1....|[4.24863886242493...|[0.98591748715031...|       0.0|\n",
            "|    0|[28.0,11204.23,0....|[2.0485303689569,...|[0.88579903643169...|       0.0|\n",
            "|    0|[29.0,5900.78,1.0...|[3.92844982012056...|[0.98070545630293...|       0.0|\n",
            "|    0|[29.0,9617.59,0.0...|[4.35637941000225...|[0.98733765444207...|       0.0|\n",
            "|    0|[29.0,13255.05,1....|[4.3249535352872,...|[0.98693869052088...|       0.0|\n",
            "|    0|[30.0,8403.78,1.0...|[5.88761969371315...|[0.99723410062391...|       0.0|\n",
            "|    0|[30.0,8677.28,1.0...|[3.96055585759483...|[0.98130369095875...|       0.0|\n",
            "|    0|[30.0,10183.98,1....|[2.96083649984261...|[0.95077315985125...|       0.0|\n",
            "|    0|[31.0,5387.75,0.0...|[2.27302546959056...|[0.90661824416907...|       0.0|\n",
            "|    0|[31.0,7073.61,0.0...|[2.93733471796068...|[0.94966146675368...|       0.0|\n",
            "|    0|[32.0,5756.12,0.0...|[3.93199279249740...|[0.98077238330744...|       0.0|\n",
            "|    0|[32.0,6367.22,1.0...|[3.08237208109060...|[0.95615972588302...|       0.0|\n",
            "|    0|[32.0,13630.93,0....|[2.53027526680326...|[0.92623716235014...|       0.0|\n",
            "|    0|[33.0,4711.89,0.0...|[5.59277313280852...|[0.99628913730790...|       0.0|\n",
            "|    0|[33.0,7492.9,0.0,...|[4.53496472973341...|[0.98938656774466...|       0.0|\n",
            "|    0|[33.0,7750.54,1.0...|[4.28466140153198...|[0.98640897499201...|       0.0|\n",
            "|    0|[33.0,8556.73,0.0...|[3.73575567379946...|[0.97670067114137...|       0.0|\n",
            "+-----+--------------------+--------------------+--------------------+----------+\n",
            "only showing top 20 rows\n",
            "\n"
          ],
          "name": "stdout"
        }
      ]
    },
    {
      "cell_type": "markdown",
      "metadata": {
        "id": "NcTyDEpelLqk"
      },
      "source": [
        "Lets check the AUC of ROC."
      ]
    },
    {
      "cell_type": "code",
      "metadata": {
        "id": "HSksPre3kGgD"
      },
      "source": [
        "from pyspark.ml.evaluation import BinaryClassificationEvaluator"
      ],
      "execution_count": 33,
      "outputs": []
    },
    {
      "cell_type": "code",
      "metadata": {
        "id": "AXH5K1dglRYe"
      },
      "source": [
        "churn_eval = BinaryClassificationEvaluator(labelCol='Churn', rawPredictionCol='prediction')"
      ],
      "execution_count": 37,
      "outputs": []
    },
    {
      "cell_type": "code",
      "metadata": {
        "id": "biIsrQrLleU9"
      },
      "source": [
        "auc = churn_eval.evaluate(pred_and_label.predictions)"
      ],
      "execution_count": 38,
      "outputs": []
    },
    {
      "cell_type": "code",
      "metadata": {
        "colab": {
          "base_uri": "https://localhost:8080/"
        },
        "id": "LXjjOc94mH7g",
        "outputId": "076432af-f441-49c3-d9e9-53533b4a6560"
      },
      "source": [
        "auc"
      ],
      "execution_count": 39,
      "outputs": [
        {
          "output_type": "execute_result",
          "data": {
            "text/plain": [
              "0.720742404792469"
            ]
          },
          "metadata": {},
          "execution_count": 39
        }
      ]
    },
    {
      "cell_type": "markdown",
      "metadata": {
        "id": "Wvf-9WzgmVTi"
      },
      "source": [
        "This is not so bad, area under the curve is over 0.5."
      ]
    },
    {
      "cell_type": "markdown",
      "metadata": {
        "id": "afMw4lhSnQqR"
      },
      "source": [
        "# Model Deploying"
      ]
    },
    {
      "cell_type": "markdown",
      "metadata": {
        "id": "JmOem4S_LoZf"
      },
      "source": [
        "Now we will try to predict the customer churn on new data. Before doing that, we will fit all the data to our model, not trainin or test, whole dataset."
      ]
    },
    {
      "cell_type": "code",
      "metadata": {
        "id": "QQclhnIFoU0e"
      },
      "source": [
        "final_model = lr.fit(final_data)"
      ],
      "execution_count": 51,
      "outputs": []
    },
    {
      "cell_type": "code",
      "metadata": {
        "id": "s66_pEpgnkVr"
      },
      "source": [
        "!wget -q https://raw.githubusercontent.com/muhammetsnts/SPARK/main/data/new_customers.csv"
      ],
      "execution_count": null,
      "outputs": []
    },
    {
      "cell_type": "code",
      "metadata": {
        "colab": {
          "base_uri": "https://localhost:8080/"
        },
        "id": "XEAyUOa5n4pr",
        "outputId": "b4ca9c81-b332-4f36-bcc6-f8d1daea5b2f"
      },
      "source": [
        "new_data = spark.read.csv('new_customers.csv', header=True, inferSchema=True)\n",
        "new_data.show()"
      ],
      "execution_count": 52,
      "outputs": [
        {
          "output_type": "stream",
          "text": [
            "+--------------+----+--------------+---------------+-----+---------+-------------------+--------------------+----------------+\n",
            "|         Names| Age|Total_Purchase|Account_Manager|Years|Num_Sites|       Onboard_date|            Location|         Company|\n",
            "+--------------+----+--------------+---------------+-----+---------+-------------------+--------------------+----------------+\n",
            "| Andrew Mccall|37.0|       9935.53|              1| 7.71|      8.0|2011-08-29 18:37:54|38612 Johnny Stra...|        King Ltd|\n",
            "|Michele Wright|23.0|       7526.94|              1| 9.28|     15.0|2013-07-22 18:19:54|21083 Nicole Junc...|   Cannon-Benson|\n",
            "|  Jeremy Chang|65.0|         100.0|              1|  1.0|     15.0|2006-12-11 07:48:13|085 Austin Views ...|Barron-Robertson|\n",
            "|Megan Ferguson|32.0|        6487.5|              0|  9.4|     14.0|2016-10-28 05:32:13|922 Wright Branch...|   Sexton-Golden|\n",
            "|  Taylor Young|32.0|      13147.71|              1| 10.0|      8.0|2012-03-20 00:36:46|Unit 0789 Box 073...|        Wood LLC|\n",
            "| Jessica Drake|22.0|       8445.26|              1| 3.46|     14.0|2011-02-04 19:29:27|1148 Tina Straven...|   Parks-Robbins|\n",
            "+--------------+----+--------------+---------------+-----+---------+-------------------+--------------------+----------------+\n",
            "\n"
          ],
          "name": "stdout"
        }
      ]
    },
    {
      "cell_type": "code",
      "metadata": {
        "colab": {
          "base_uri": "https://localhost:8080/"
        },
        "id": "UDhV3JU9sbgt",
        "outputId": "7e5fbd12-21da-4dd2-ebe9-678085031521"
      },
      "source": [
        "new_data.printSchema()"
      ],
      "execution_count": 53,
      "outputs": [
        {
          "output_type": "stream",
          "text": [
            "root\n",
            " |-- Names: string (nullable = true)\n",
            " |-- Age: double (nullable = true)\n",
            " |-- Total_Purchase: double (nullable = true)\n",
            " |-- Account_Manager: integer (nullable = true)\n",
            " |-- Years: double (nullable = true)\n",
            " |-- Num_Sites: double (nullable = true)\n",
            " |-- Onboard_date: string (nullable = true)\n",
            " |-- Location: string (nullable = true)\n",
            " |-- Company: string (nullable = true)\n",
            "\n"
          ],
          "name": "stdout"
        }
      ]
    },
    {
      "cell_type": "code",
      "metadata": {
        "id": "v6rhG1uDsiyF"
      },
      "source": [
        "test_new_customers = assembler.transform(new_data)"
      ],
      "execution_count": 55,
      "outputs": []
    },
    {
      "cell_type": "code",
      "metadata": {
        "colab": {
          "base_uri": "https://localhost:8080/"
        },
        "id": "x4nd6Y-Qspz9",
        "outputId": "1ffc4c5a-0147-42f8-8c1b-07d9026ffa59"
      },
      "source": [
        "test_new_customers.printSchema()"
      ],
      "execution_count": 56,
      "outputs": [
        {
          "output_type": "stream",
          "text": [
            "root\n",
            " |-- Names: string (nullable = true)\n",
            " |-- Age: double (nullable = true)\n",
            " |-- Total_Purchase: double (nullable = true)\n",
            " |-- Account_Manager: integer (nullable = true)\n",
            " |-- Years: double (nullable = true)\n",
            " |-- Num_Sites: double (nullable = true)\n",
            " |-- Onboard_date: string (nullable = true)\n",
            " |-- Location: string (nullable = true)\n",
            " |-- Company: string (nullable = true)\n",
            " |-- features: vector (nullable = true)\n",
            "\n"
          ],
          "name": "stdout"
        }
      ]
    },
    {
      "cell_type": "code",
      "metadata": {
        "id": "5i55-gt5szik"
      },
      "source": [
        "final_results = final_model.transform(test_new_customers)"
      ],
      "execution_count": 57,
      "outputs": []
    },
    {
      "cell_type": "code",
      "metadata": {
        "colab": {
          "base_uri": "https://localhost:8080/"
        },
        "id": "TQbFsN_-s_As",
        "outputId": "b04f6203-737d-4f71-97ac-3919eef81a4f"
      },
      "source": [
        "final_results.show()"
      ],
      "execution_count": 59,
      "outputs": [
        {
          "output_type": "stream",
          "text": [
            "+--------------+----+--------------+---------------+-----+---------+-------------------+--------------------+----------------+--------------------+--------------------+--------------------+----------+\n",
            "|         Names| Age|Total_Purchase|Account_Manager|Years|Num_Sites|       Onboard_date|            Location|         Company|            features|       rawPrediction|         probability|prediction|\n",
            "+--------------+----+--------------+---------------+-----+---------+-------------------+--------------------+----------------+--------------------+--------------------+--------------------+----------+\n",
            "| Andrew Mccall|37.0|       9935.53|              1| 7.71|      8.0|2011-08-29 18:37:54|38612 Johnny Stra...|        King Ltd|[37.0,9935.53,1.0...|[2.22168705251434...|[0.90218018099704...|       0.0|\n",
            "|Michele Wright|23.0|       7526.94|              1| 9.28|     15.0|2013-07-22 18:19:54|21083 Nicole Junc...|   Cannon-Benson|[23.0,7526.94,1.0...|[-6.2207530595013...|[0.00198380445829...|       1.0|\n",
            "|  Jeremy Chang|65.0|         100.0|              1|  1.0|     15.0|2006-12-11 07:48:13|085 Austin Views ...|Barron-Robertson|[65.0,100.0,1.0,1...|[-3.7691621189411...|[0.02255110110411...|       1.0|\n",
            "|Megan Ferguson|32.0|        6487.5|              0|  9.4|     14.0|2016-10-28 05:32:13|922 Wright Branch...|   Sexton-Golden|[32.0,6487.5,0.0,...|[-5.0956222016513...|[0.00608622642085...|       1.0|\n",
            "|  Taylor Young|32.0|      13147.71|              1| 10.0|      8.0|2012-03-20 00:36:46|Unit 0789 Box 073...|        Wood LLC|[32.0,13147.71,1....|[1.10475867224171...|[0.75115067517478...|       0.0|\n",
            "| Jessica Drake|22.0|       8445.26|              1| 3.46|     14.0|2011-02-04 19:29:27|1148 Tina Straven...|   Parks-Robbins|[22.0,8445.26,1.0...|[-1.6896019277060...|[0.15582819767641...|       1.0|\n",
            "+--------------+----+--------------+---------------+-----+---------+-------------------+--------------------+----------------+--------------------+--------------------+--------------------+----------+\n",
            "\n"
          ],
          "name": "stdout"
        }
      ]
    },
    {
      "cell_type": "code",
      "metadata": {
        "colab": {
          "base_uri": "https://localhost:8080/"
        },
        "id": "hjrzEaZstA7z",
        "outputId": "94c57659-1c84-454b-f866-ea5f3f8e5c22"
      },
      "source": [
        "final_results.select('Company', 'prediction').show()"
      ],
      "execution_count": 60,
      "outputs": [
        {
          "output_type": "stream",
          "text": [
            "+----------------+----------+\n",
            "|         Company|prediction|\n",
            "+----------------+----------+\n",
            "|        King Ltd|       0.0|\n",
            "|   Cannon-Benson|       1.0|\n",
            "|Barron-Robertson|       1.0|\n",
            "|   Sexton-Golden|       1.0|\n",
            "|        Wood LLC|       0.0|\n",
            "|   Parks-Robbins|       1.0|\n",
            "+----------------+----------+\n",
            "\n"
          ],
          "name": "stdout"
        }
      ]
    },
    {
      "cell_type": "code",
      "metadata": {
        "colab": {
          "base_uri": "https://localhost:8080/"
        },
        "id": "sPcgdP05tL60",
        "outputId": "c36b1ea3-4124-4916-8104-3a3a02cc3c0c"
      },
      "source": [
        "test_new_customers.describe().show()"
      ],
      "execution_count": 61,
      "outputs": [
        {
          "output_type": "stream",
          "text": [
            "+-------+-------------+------------------+-----------------+------------------+-----------------+------------------+-------------------+--------------------+----------------+\n",
            "|summary|        Names|               Age|   Total_Purchase|   Account_Manager|            Years|         Num_Sites|       Onboard_date|            Location|         Company|\n",
            "+-------+-------------+------------------+-----------------+------------------+-----------------+------------------+-------------------+--------------------+----------------+\n",
            "|  count|            6|                 6|                6|                 6|                6|                 6|                  6|                   6|               6|\n",
            "|   mean|         null|35.166666666666664|7607.156666666667|0.8333333333333334|6.808333333333334|12.333333333333334|               null|                null|            null|\n",
            "| stddev|         null| 15.71517313511584|4346.008232825459| 0.408248290463863|3.708737880555414|3.3862466931200785|               null|                null|            null|\n",
            "|    min|Andrew Mccall|              22.0|            100.0|                 0|              1.0|               8.0|2006-12-11 07:48:13|085 Austin Views ...|Barron-Robertson|\n",
            "|    max| Taylor Young|              65.0|         13147.71|                 1|             10.0|              15.0|2016-10-28 05:32:13|Unit 0789 Box 073...|        Wood LLC|\n",
            "+-------+-------------+------------------+-----------------+------------------+-----------------+------------------+-------------------+--------------------+----------------+\n",
            "\n"
          ],
          "name": "stdout"
        }
      ]
    }
  ]
}