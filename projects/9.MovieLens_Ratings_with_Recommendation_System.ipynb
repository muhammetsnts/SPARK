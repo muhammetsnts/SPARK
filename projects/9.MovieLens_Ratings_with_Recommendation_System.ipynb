{
  "nbformat": 4,
  "nbformat_minor": 0,
  "metadata": {
    "colab": {
      "name": "MovieLens_Ratings_with_Recommendation_System.ipynb",
      "provenance": [],
      "collapsed_sections": [],
      "authorship_tag": "ABX9TyOr+BwC93peTjEWq2SVZNz2",
      "include_colab_link": true
    },
    "kernelspec": {
      "name": "python3",
      "display_name": "Python 3"
    },
    "language_info": {
      "name": "python"
    }
  },
  "cells": [
    {
      "cell_type": "markdown",
      "metadata": {
        "id": "view-in-github",
        "colab_type": "text"
      },
      "source": [
        "<a href=\"https://colab.research.google.com/github/muhammetsnts/SPARK/blob/main/projects/9.MovieLens_Ratings_with_Recommendation_System.ipynb\" target=\"_parent\"><img src=\"https://colab.research.google.com/assets/colab-badge.svg\" alt=\"Open In Colab\"/></a>"
      ]
    },
    {
      "cell_type": "markdown",
      "metadata": {
        "id": "tDEiqqIHYxes"
      },
      "source": [
        "# Setup Environment"
      ]
    },
    {
      "cell_type": "code",
      "metadata": {
        "id": "NZZ4nklL2ja4"
      },
      "source": [
        "# install Java8\n",
        "!apt-get -q install openjdk-8-jdk-headless -qq > /dev/null\n",
        "\n",
        "# download spark3.1.1\n",
        "!wget -q https://archive.apache.org/dist/spark/spark-3.1.1/spark-3.1.1-bin-hadoop2.7.tgz\n",
        "\n",
        "# unzip it\n",
        "!tar xf spark-3.1.1-bin-hadoop2.7.tgz\n",
        "\n",
        "# install findspark \n",
        "!pip install -q findspark\n",
        "\n",
        "\n",
        "import os\n",
        "os.environ[\"JAVA_HOME\"] = \"/usr/lib/jvm/java-8-openjdk-amd64\"\n",
        "os.environ[\"PATH\"] = os.environ[\"JAVA_HOME\"] + \"/bin:\" + os.environ[\"PATH\"]\n",
        "os.environ[\"SPARK_HOME\"] = \"/content/spark-3.1.1-bin-hadoop2.7\"\n",
        "\n",
        "\n",
        "import findspark\n",
        "findspark.init()\n",
        "from pyspark.sql import SparkSession\n",
        "spark = SparkSession.builder.master(\"local[*]\").getOrCreate()"
      ],
      "execution_count": 1,
      "outputs": []
    },
    {
      "cell_type": "markdown",
      "metadata": {
        "id": "AXG-ZM1NU5ab"
      },
      "source": [
        "# Download and Read Dataset"
      ]
    },
    {
      "cell_type": "code",
      "metadata": {
        "id": "tq6kfdB-Tm6I"
      },
      "source": [
        "!wget -q https://raw.githubusercontent.com/muhammetsnts/SPARK/main/data/movielens_ratings.csv"
      ],
      "execution_count": 2,
      "outputs": []
    },
    {
      "cell_type": "code",
      "metadata": {
        "id": "kKoRh_Y2UYoF"
      },
      "source": [
        "data = spark.read.csv(\"movielens_ratings.csv\", header=True, inferSchema=True)"
      ],
      "execution_count": 3,
      "outputs": []
    },
    {
      "cell_type": "code",
      "metadata": {
        "colab": {
          "base_uri": "https://localhost:8080/"
        },
        "id": "oacEyRr9UhXK",
        "outputId": "c3698db5-6ce4-4897-bcda-50442c9b732f"
      },
      "source": [
        "data.show()"
      ],
      "execution_count": 4,
      "outputs": [
        {
          "output_type": "stream",
          "name": "stdout",
          "text": [
            "+-------+------+------+\n",
            "|movieId|rating|userId|\n",
            "+-------+------+------+\n",
            "|      2|   3.0|     0|\n",
            "|      3|   1.0|     0|\n",
            "|      5|   2.0|     0|\n",
            "|      9|   4.0|     0|\n",
            "|     11|   1.0|     0|\n",
            "|     12|   2.0|     0|\n",
            "|     15|   1.0|     0|\n",
            "|     17|   1.0|     0|\n",
            "|     19|   1.0|     0|\n",
            "|     21|   1.0|     0|\n",
            "|     23|   1.0|     0|\n",
            "|     26|   3.0|     0|\n",
            "|     27|   1.0|     0|\n",
            "|     28|   1.0|     0|\n",
            "|     29|   1.0|     0|\n",
            "|     30|   1.0|     0|\n",
            "|     31|   1.0|     0|\n",
            "|     34|   1.0|     0|\n",
            "|     37|   1.0|     0|\n",
            "|     41|   2.0|     0|\n",
            "+-------+------+------+\n",
            "only showing top 20 rows\n",
            "\n"
          ]
        }
      ]
    },
    {
      "cell_type": "code",
      "metadata": {
        "colab": {
          "base_uri": "https://localhost:8080/"
        },
        "id": "QxHQ5uKIVgiJ",
        "outputId": "63591658-8dc5-4062-b701-c43c1fab00d7"
      },
      "source": [
        "data.describe().show()"
      ],
      "execution_count": 8,
      "outputs": [
        {
          "output_type": "stream",
          "name": "stdout",
          "text": [
            "+-------+------------------+------------------+------------------+\n",
            "|summary|           movieId|            rating|            userId|\n",
            "+-------+------------------+------------------+------------------+\n",
            "|  count|              1501|              1501|              1501|\n",
            "|   mean| 49.40572951365756|1.7741505662891406|14.383744170552964|\n",
            "| stddev|28.937034065088994| 1.187276166124803| 8.591040424293272|\n",
            "|    min|                 0|               1.0|                 0|\n",
            "|    max|                99|               5.0|                29|\n",
            "+-------+------------------+------------------+------------------+\n",
            "\n"
          ]
        }
      ]
    },
    {
      "cell_type": "code",
      "metadata": {
        "colab": {
          "base_uri": "https://localhost:8080/"
        },
        "id": "n9eWE-5zVgX4",
        "outputId": "d891f11a-e826-4d21-c701-fdcda15888a7"
      },
      "source": [
        "data.printSchema()"
      ],
      "execution_count": 7,
      "outputs": [
        {
          "output_type": "stream",
          "name": "stdout",
          "text": [
            "root\n",
            " |-- movieId: integer (nullable = true)\n",
            " |-- rating: double (nullable = true)\n",
            " |-- userId: integer (nullable = true)\n",
            "\n"
          ]
        }
      ]
    },
    {
      "cell_type": "markdown",
      "metadata": {
        "id": "VLQs9dP3Vu0t"
      },
      "source": [
        "# Train-Test Split"
      ]
    },
    {
      "cell_type": "code",
      "metadata": {
        "id": "fcCSZ6wGVxR7"
      },
      "source": [
        "train_data, test_data = data.randomSplit([0.8,0.2])"
      ],
      "execution_count": 9,
      "outputs": []
    },
    {
      "cell_type": "markdown",
      "metadata": {
        "id": "O6_gpdDpV8jv"
      },
      "source": [
        "# Create Model"
      ]
    },
    {
      "cell_type": "code",
      "metadata": {
        "id": "ztTqA-F-Utgb"
      },
      "source": [
        "from pyspark.ml.recommendation import ALS\n",
        "from pyspark.ml.evaluation import RegressionEvaluator  # for evaluation"
      ],
      "execution_count": 5,
      "outputs": []
    },
    {
      "cell_type": "code",
      "metadata": {
        "id": "KD9dUwGSVf22"
      },
      "source": [
        "als = ALS(maxIter=5, regParam=0.01, userCol='userId', itemCol='movieId', ratingCol='rating')"
      ],
      "execution_count": 10,
      "outputs": []
    },
    {
      "cell_type": "code",
      "metadata": {
        "id": "wz1s8KodWSb0"
      },
      "source": [
        "model = als.fit(train_data)"
      ],
      "execution_count": 11,
      "outputs": []
    },
    {
      "cell_type": "code",
      "metadata": {
        "id": "1uYWZpmDWVUd"
      },
      "source": [
        "predictions = model.transform(test_data)"
      ],
      "execution_count": 15,
      "outputs": []
    },
    {
      "cell_type": "code",
      "metadata": {
        "colab": {
          "base_uri": "https://localhost:8080/"
        },
        "id": "WWuzu83WWZYM",
        "outputId": "a165d7e1-280a-42cd-8a4c-3a41722b7a14"
      },
      "source": [
        "predictions.show()"
      ],
      "execution_count": 16,
      "outputs": [
        {
          "output_type": "stream",
          "name": "stdout",
          "text": [
            "+-------+------+------+-----------+\n",
            "|movieId|rating|userId| prediction|\n",
            "+-------+------+------+-----------+\n",
            "|     31|   1.0|    13| 0.67219985|\n",
            "|     85|   1.0|    29|  0.7955177|\n",
            "|     65|   2.0|     3| -1.7422171|\n",
            "|     53|   5.0|     8|  1.5773742|\n",
            "|     53|   1.0|    23|-0.32910877|\n",
            "|     78|   1.0|    12|  1.0773535|\n",
            "|     78|   1.0|    13| 0.61468405|\n",
            "|     34|   1.0|    17|   -2.41009|\n",
            "|     34|   1.0|     4| 0.27035052|\n",
            "|     34|   1.0|     0|  2.1697016|\n",
            "|     81|   5.0|    28|  1.8757992|\n",
            "|     81|   1.0|    22| -0.2947706|\n",
            "|     81|   1.0|    16|  1.8840457|\n",
            "|     81|   2.0|     5| 0.96085626|\n",
            "|     81|   4.0|    11| 0.80889714|\n",
            "|     81|   3.0|    18| -1.4816947|\n",
            "|     28|   1.0|    10|0.051807664|\n",
            "|     76|   1.0|    20| 0.62976027|\n",
            "|     76|   1.0|    19| 0.56428397|\n",
            "|     26|   2.0|    25| 0.21175577|\n",
            "+-------+------+------+-----------+\n",
            "only showing top 20 rows\n",
            "\n"
          ]
        }
      ]
    },
    {
      "cell_type": "markdown",
      "metadata": {
        "id": "NIVZRukqWhTU"
      },
      "source": [
        "For example; in our dataset, user #13 gave 1 star to movie #31 and we predicted 0.67. If the dataset was a big one, we could get predictions much better."
      ]
    },
    {
      "cell_type": "code",
      "metadata": {
        "id": "KNhX3Zd4Wc_b"
      },
      "source": [
        "evaluator = RegressionEvaluator(metricName='rmse', labelCol='rating', predictionCol='prediction')"
      ],
      "execution_count": 17,
      "outputs": []
    },
    {
      "cell_type": "code",
      "metadata": {
        "id": "06Ppta0lXX8v"
      },
      "source": [
        "rmse = evaluator.evaluate(predictions)"
      ],
      "execution_count": 18,
      "outputs": []
    },
    {
      "cell_type": "code",
      "metadata": {
        "colab": {
          "base_uri": "https://localhost:8080/"
        },
        "id": "sTl4rgSnXboJ",
        "outputId": "5368c753-cff7-4c72-a146-d53027b5f7ad"
      },
      "source": [
        "print('RMSE :', rmse)"
      ],
      "execution_count": 19,
      "outputs": [
        {
          "output_type": "stream",
          "name": "stdout",
          "text": [
            "RMSE : 1.9482202566776712\n"
          ]
        }
      ]
    },
    {
      "cell_type": "markdown",
      "metadata": {
        "id": "bA69Rhi9YNJb"
      },
      "source": [
        "# Model Deploy"
      ]
    },
    {
      "cell_type": "code",
      "metadata": {
        "colab": {
          "base_uri": "https://localhost:8080/"
        },
        "id": "mdeIrAk1XfZB",
        "outputId": "6b5f497d-31f8-4779-9932-76780056b6e3"
      },
      "source": [
        "single_user = test_data.filter(test_data['userId']==11).select(['movieId','userId'])\n",
        "single_user.show()"
      ],
      "execution_count": 22,
      "outputs": [
        {
          "output_type": "stream",
          "name": "stdout",
          "text": [
            "+-------+------+\n",
            "|movieId|userId|\n",
            "+-------+------+\n",
            "|     16|    11|\n",
            "|     21|    11|\n",
            "|     23|    11|\n",
            "|     30|    11|\n",
            "|     36|    11|\n",
            "|     41|    11|\n",
            "|     48|    11|\n",
            "|     51|    11|\n",
            "|     64|    11|\n",
            "|     69|    11|\n",
            "|     75|    11|\n",
            "|     81|    11|\n",
            "|     89|    11|\n",
            "|     90|    11|\n",
            "+-------+------+\n",
            "\n"
          ]
        }
      ]
    },
    {
      "cell_type": "code",
      "metadata": {
        "colab": {
          "base_uri": "https://localhost:8080/"
        },
        "id": "rADKlq9EXu4S",
        "outputId": "2adb9b5f-f4fb-4e54-8009-260f816366b0"
      },
      "source": [
        "recommendations = model.transform(single_user)\n",
        "recommendations.orderBy('prediction', ascending=False).show()"
      ],
      "execution_count": 24,
      "outputs": [
        {
          "output_type": "stream",
          "name": "stdout",
          "text": [
            "+-------+------+-----------+\n",
            "|movieId|userId| prediction|\n",
            "+-------+------+-----------+\n",
            "|     30|    11|   3.605505|\n",
            "|     16|    11|  3.1629817|\n",
            "|     64|    11|  3.0595193|\n",
            "|     48|    11|  2.7807956|\n",
            "|     23|    11|  2.4031336|\n",
            "|     21|    11|  1.7254679|\n",
            "|     89|    11|  1.6147878|\n",
            "|     41|    11|  1.0666989|\n",
            "|     81|    11| 0.80889714|\n",
            "|     36|    11| 0.80128413|\n",
            "|     75|    11| 0.15030378|\n",
            "|     90|    11|-0.21517786|\n",
            "|     69|    11| -0.5421032|\n",
            "|     51|    11|  -4.051649|\n",
            "+-------+------+-----------+\n",
            "\n"
          ]
        }
      ]
    },
    {
      "cell_type": "markdown",
      "metadata": {
        "id": "JZgf_lvGYTkV"
      },
      "source": [
        "We can say to user #11 \"hey! watch the movie #30 and don't watch #51\"."
      ]
    }
  ]
}