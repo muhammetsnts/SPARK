{
  "nbformat": 4,
  "nbformat_minor": 0,
  "metadata": {
    "colab": {
      "name": "1.TreeMethods_Documentation_Example.ipynb",
      "provenance": [],
      "collapsed_sections": [],
      "authorship_tag": "ABX9TyPWx74HAteSV3cusTbFw/0H",
      "include_colab_link": true
    },
    "kernelspec": {
      "name": "python3",
      "display_name": "Python 3"
    },
    "language_info": {
      "name": "python"
    }
  },
  "cells": [
    {
      "cell_type": "markdown",
      "metadata": {
        "id": "view-in-github",
        "colab_type": "text"
      },
      "source": [
        "<a href=\"https://colab.research.google.com/github/muhammetsnts/SPARK/blob/main/2.ML_with_PySpark_MLlib/Tree_Methods/1.TreeMethods_Documentation_Example.ipynb\" target=\"_parent\"><img src=\"https://colab.research.google.com/assets/colab-badge.svg\" alt=\"Open In Colab\"/></a>"
      ]
    },
    {
      "cell_type": "markdown",
      "metadata": {
        "id": "Aetw2ehwnEOw"
      },
      "source": [
        "# Setup Environment"
      ]
    },
    {
      "cell_type": "code",
      "metadata": {
        "id": "NZZ4nklL2ja4"
      },
      "source": [
        "# install Java8\n",
        "!apt-get -q install openjdk-8-jdk-headless -qq > /dev/null\n",
        "\n",
        "# download spark3.1.1\n",
        "!wget -q https://archive.apache.org/dist/spark/spark-3.1.1/spark-3.1.1-bin-hadoop2.7.tgz\n",
        "\n",
        "# unzip it\n",
        "!tar xf spark-3.1.1-bin-hadoop2.7.tgz\n",
        "\n",
        "# install findspark \n",
        "!pip install -q findspark\n",
        "\n",
        "\n",
        "import os\n",
        "os.environ[\"JAVA_HOME\"] = \"/usr/lib/jvm/java-8-openjdk-amd64\"\n",
        "os.environ[\"PATH\"] = os.environ[\"JAVA_HOME\"] + \"/bin:\" + os.environ[\"PATH\"]\n",
        "os.environ[\"SPARK_HOME\"] = \"/content/spark-3.1.1-bin-hadoop2.7\"\n",
        "\n",
        "\n",
        "import findspark\n",
        "findspark.init()\n",
        "from pyspark.sql import SparkSession\n",
        "spark = SparkSession.builder.master(\"local[*]\").getOrCreate()\n",
        "#spark = SparkSession.builder.appName('ops').getOrCreate()"
      ],
      "execution_count": 1,
      "outputs": []
    },
    {
      "cell_type": "markdown",
      "metadata": {
        "id": "TTWbCzzdm5xh"
      },
      "source": [
        "# Download and Read the Data"
      ]
    },
    {
      "cell_type": "code",
      "metadata": {
        "id": "_pseR3Juhctq"
      },
      "source": [
        "!wget -q https://raw.githubusercontent.com/muhammetsnts/SPARK/main/data/sample_libsvm_data.txt"
      ],
      "execution_count": 2,
      "outputs": []
    },
    {
      "cell_type": "code",
      "metadata": {
        "id": "DJbrKT8Eh8kP"
      },
      "source": [
        "data = spark.read.format('libsvm').load('sample_libsvm_data.txt')"
      ],
      "execution_count": 3,
      "outputs": []
    },
    {
      "cell_type": "code",
      "metadata": {
        "colab": {
          "base_uri": "https://localhost:8080/"
        },
        "id": "-64Rv9jpiERA",
        "outputId": "92dcdad9-7830-451d-d959-418ea202ae99"
      },
      "source": [
        "data.show()"
      ],
      "execution_count": 4,
      "outputs": [
        {
          "output_type": "stream",
          "text": [
            "+-----+--------------------+\n",
            "|label|            features|\n",
            "+-----+--------------------+\n",
            "|  0.0|(692,[127,128,129...|\n",
            "|  1.0|(692,[158,159,160...|\n",
            "|  1.0|(692,[124,125,126...|\n",
            "|  1.0|(692,[152,153,154...|\n",
            "|  1.0|(692,[151,152,153...|\n",
            "|  0.0|(692,[129,130,131...|\n",
            "|  1.0|(692,[158,159,160...|\n",
            "|  1.0|(692,[99,100,101,...|\n",
            "|  0.0|(692,[154,155,156...|\n",
            "|  0.0|(692,[127,128,129...|\n",
            "|  1.0|(692,[154,155,156...|\n",
            "|  0.0|(692,[153,154,155...|\n",
            "|  0.0|(692,[151,152,153...|\n",
            "|  1.0|(692,[129,130,131...|\n",
            "|  0.0|(692,[154,155,156...|\n",
            "|  1.0|(692,[150,151,152...|\n",
            "|  0.0|(692,[124,125,126...|\n",
            "|  0.0|(692,[152,153,154...|\n",
            "|  1.0|(692,[97,98,99,12...|\n",
            "|  1.0|(692,[124,125,126...|\n",
            "+-----+--------------------+\n",
            "only showing top 20 rows\n",
            "\n"
          ],
          "name": "stdout"
        }
      ]
    },
    {
      "cell_type": "markdown",
      "metadata": {
        "id": "JC98pDK_myG0"
      },
      "source": [
        "# Train-Test Split"
      ]
    },
    {
      "cell_type": "code",
      "metadata": {
        "id": "pNKBb1A9iHIa"
      },
      "source": [
        "train_data, test_data = data.randomSplit([0.7,0.3])"
      ],
      "execution_count": 5,
      "outputs": []
    },
    {
      "cell_type": "markdown",
      "metadata": {
        "id": "3jubCF0Im01l"
      },
      "source": [
        "# Modelling"
      ]
    },
    {
      "cell_type": "code",
      "metadata": {
        "id": "JuOCuw6ZVAUh"
      },
      "source": [
        "from pyspark.ml import Pipeline\n",
        "from pyspark.ml.classification import RandomForestClassifier, GBTClassifier, DecisionTreeClassifier\n",
        "\n",
        "# For regression, we can use this;\n",
        "# from pyspark.ml.regression import ...."
      ],
      "execution_count": 6,
      "outputs": []
    },
    {
      "cell_type": "code",
      "metadata": {
        "id": "CQ_OB0i2iN3A"
      },
      "source": [
        "dtc = DecisionTreeClassifier() # will use default parameters\n",
        "rfc = RandomForestClassifier(numTrees=100)\n",
        "gbt = GBTClassifier()"
      ],
      "execution_count": 9,
      "outputs": []
    },
    {
      "cell_type": "code",
      "metadata": {
        "id": "o7sLTgbbi6VK"
      },
      "source": [
        "dtc_model = dtc.fit(train_data)\n",
        "rfc_model = rfc.fit(train_data)\n",
        "gbt_model = gbt.fit(train_data)"
      ],
      "execution_count": 10,
      "outputs": []
    },
    {
      "cell_type": "code",
      "metadata": {
        "id": "_NXhObRljFD2"
      },
      "source": [
        "dtc_preds = dtc_model.transform(test_data)\n",
        "rfc_preds = rfc_model.transform(test_data)\n",
        "gbt_preds = gbt_model.transform(test_data)"
      ],
      "execution_count": 11,
      "outputs": []
    },
    {
      "cell_type": "markdown",
      "metadata": {
        "id": "Ya3J1ie0msux"
      },
      "source": [
        "Lets show the predictions."
      ]
    },
    {
      "cell_type": "code",
      "metadata": {
        "colab": {
          "base_uri": "https://localhost:8080/"
        },
        "id": "Gn9tnyfAjXdk",
        "outputId": "97672fe9-bc23-48f0-91ff-b43aa97e295b"
      },
      "source": [
        "dtc_preds.show()"
      ],
      "execution_count": 12,
      "outputs": [
        {
          "output_type": "stream",
          "text": [
            "+-----+--------------------+-------------+-----------+----------+\n",
            "|label|            features|rawPrediction|probability|prediction|\n",
            "+-----+--------------------+-------------+-----------+----------+\n",
            "|  0.0|(692,[121,122,123...|   [34.0,0.0]|  [1.0,0.0]|       0.0|\n",
            "|  0.0|(692,[122,123,148...|   [34.0,0.0]|  [1.0,0.0]|       0.0|\n",
            "|  0.0|(692,[123,124,125...|   [34.0,0.0]|  [1.0,0.0]|       0.0|\n",
            "|  0.0|(692,[124,125,126...|   [34.0,0.0]|  [1.0,0.0]|       0.0|\n",
            "|  0.0|(692,[124,125,126...|   [34.0,0.0]|  [1.0,0.0]|       0.0|\n",
            "|  0.0|(692,[125,126,127...|   [34.0,0.0]|  [1.0,0.0]|       0.0|\n",
            "|  0.0|(692,[127,128,129...|   [34.0,0.0]|  [1.0,0.0]|       0.0|\n",
            "|  0.0|(692,[152,153,154...|   [34.0,0.0]|  [1.0,0.0]|       0.0|\n",
            "|  0.0|(692,[153,154,155...|   [34.0,0.0]|  [1.0,0.0]|       0.0|\n",
            "|  1.0|(692,[99,100,101,...|   [34.0,0.0]|  [1.0,0.0]|       0.0|\n",
            "|  1.0|(692,[100,101,102...|   [0.0,46.0]|  [0.0,1.0]|       1.0|\n",
            "|  1.0|(692,[123,124,125...|   [0.0,46.0]|  [0.0,1.0]|       1.0|\n",
            "|  1.0|(692,[128,129,130...|   [0.0,46.0]|  [0.0,1.0]|       1.0|\n",
            "|  1.0|(692,[128,129,130...|   [0.0,46.0]|  [0.0,1.0]|       1.0|\n",
            "|  1.0|(692,[129,130,131...|   [0.0,46.0]|  [0.0,1.0]|       1.0|\n",
            "|  1.0|(692,[129,130,131...|   [0.0,46.0]|  [0.0,1.0]|       1.0|\n",
            "|  1.0|(692,[130,131,132...|   [0.0,46.0]|  [0.0,1.0]|       1.0|\n",
            "|  1.0|(692,[151,152,153...|   [0.0,46.0]|  [0.0,1.0]|       1.0|\n",
            "|  1.0|(692,[156,157,158...|   [0.0,46.0]|  [0.0,1.0]|       1.0|\n",
            "|  1.0|(692,[158,159,160...|   [0.0,46.0]|  [0.0,1.0]|       1.0|\n",
            "+-----+--------------------+-------------+-----------+----------+\n",
            "\n"
          ],
          "name": "stdout"
        }
      ]
    },
    {
      "cell_type": "code",
      "metadata": {
        "colab": {
          "base_uri": "https://localhost:8080/"
        },
        "id": "0fmU5vC3jaF8",
        "outputId": "0878a802-94e2-4d2b-e673-a1dfb4e11311"
      },
      "source": [
        "rfc_preds.show()"
      ],
      "execution_count": 13,
      "outputs": [
        {
          "output_type": "stream",
          "text": [
            "+-----+--------------------+-------------+-----------+----------+\n",
            "|label|            features|rawPrediction|probability|prediction|\n",
            "+-----+--------------------+-------------+-----------+----------+\n",
            "|  0.0|(692,[121,122,123...|   [96.0,4.0]|[0.96,0.04]|       0.0|\n",
            "|  0.0|(692,[122,123,148...|  [83.0,17.0]|[0.83,0.17]|       0.0|\n",
            "|  0.0|(692,[123,124,125...|   [94.0,6.0]|[0.94,0.06]|       0.0|\n",
            "|  0.0|(692,[124,125,126...|   [91.0,9.0]|[0.91,0.09]|       0.0|\n",
            "|  0.0|(692,[124,125,126...|   [99.0,1.0]|[0.99,0.01]|       0.0|\n",
            "|  0.0|(692,[125,126,127...|  [89.0,11.0]|[0.89,0.11]|       0.0|\n",
            "|  0.0|(692,[127,128,129...|   [96.0,4.0]|[0.96,0.04]|       0.0|\n",
            "|  0.0|(692,[152,153,154...|   [93.0,7.0]|[0.93,0.07]|       0.0|\n",
            "|  0.0|(692,[153,154,155...|  [74.0,26.0]|[0.74,0.26]|       0.0|\n",
            "|  1.0|(692,[99,100,101,...|  [45.0,55.0]|[0.45,0.55]|       1.0|\n",
            "|  1.0|(692,[100,101,102...|   [2.0,98.0]|[0.02,0.98]|       1.0|\n",
            "|  1.0|(692,[123,124,125...|   [1.0,99.0]|[0.01,0.99]|       1.0|\n",
            "|  1.0|(692,[128,129,130...|   [2.0,98.0]|[0.02,0.98]|       1.0|\n",
            "|  1.0|(692,[128,129,130...|   [5.0,95.0]|[0.05,0.95]|       1.0|\n",
            "|  1.0|(692,[129,130,131...|   [1.0,99.0]|[0.01,0.99]|       1.0|\n",
            "|  1.0|(692,[129,130,131...|   [1.0,99.0]|[0.01,0.99]|       1.0|\n",
            "|  1.0|(692,[130,131,132...|   [5.0,95.0]|[0.05,0.95]|       1.0|\n",
            "|  1.0|(692,[151,152,153...|   [1.0,99.0]|[0.01,0.99]|       1.0|\n",
            "|  1.0|(692,[156,157,158...|   [1.0,99.0]|[0.01,0.99]|       1.0|\n",
            "|  1.0|(692,[158,159,160...|   [3.0,97.0]|[0.03,0.97]|       1.0|\n",
            "+-----+--------------------+-------------+-----------+----------+\n",
            "\n"
          ],
          "name": "stdout"
        }
      ]
    },
    {
      "cell_type": "code",
      "metadata": {
        "colab": {
          "base_uri": "https://localhost:8080/"
        },
        "id": "zzuczu0EjhFc",
        "outputId": "5e10c5d1-ef73-43ec-9fee-4dde7a69b244"
      },
      "source": [
        "gbt_preds.show()"
      ],
      "execution_count": 14,
      "outputs": [
        {
          "output_type": "stream",
          "text": [
            "+-----+--------------------+--------------------+--------------------+----------+\n",
            "|label|            features|       rawPrediction|         probability|prediction|\n",
            "+-----+--------------------+--------------------+--------------------+----------+\n",
            "|  0.0|(692,[121,122,123...|[1.54350200272498...|[0.95635347857270...|       0.0|\n",
            "|  0.0|(692,[122,123,148...|[1.54350200272498...|[0.95635347857270...|       0.0|\n",
            "|  0.0|(692,[123,124,125...|[1.54350200272498...|[0.95635347857270...|       0.0|\n",
            "|  0.0|(692,[124,125,126...|[1.54350200272498...|[0.95635347857270...|       0.0|\n",
            "|  0.0|(692,[124,125,126...|[1.54350200272498...|[0.95635347857270...|       0.0|\n",
            "|  0.0|(692,[125,126,127...|[1.54350200272498...|[0.95635347857270...|       0.0|\n",
            "|  0.0|(692,[127,128,129...|[1.54350200272498...|[0.95635347857270...|       0.0|\n",
            "|  0.0|(692,[152,153,154...|[1.54350200272498...|[0.95635347857270...|       0.0|\n",
            "|  0.0|(692,[153,154,155...|[1.54350200272498...|[0.95635347857270...|       0.0|\n",
            "|  1.0|(692,[99,100,101,...|[1.54350200272498...|[0.95635347857270...|       0.0|\n",
            "|  1.0|(692,[100,101,102...|[-1.5435020027249...|[0.04364652142729...|       1.0|\n",
            "|  1.0|(692,[123,124,125...|[-1.5435020027249...|[0.04364652142729...|       1.0|\n",
            "|  1.0|(692,[128,129,130...|[-1.5435020027249...|[0.04364652142729...|       1.0|\n",
            "|  1.0|(692,[128,129,130...|[-1.5435020027249...|[0.04364652142729...|       1.0|\n",
            "|  1.0|(692,[129,130,131...|[-1.5435020027249...|[0.04364652142729...|       1.0|\n",
            "|  1.0|(692,[129,130,131...|[-1.5435020027249...|[0.04364652142729...|       1.0|\n",
            "|  1.0|(692,[130,131,132...|[-1.5435020027249...|[0.04364652142729...|       1.0|\n",
            "|  1.0|(692,[151,152,153...|[-1.5435020027249...|[0.04364652142729...|       1.0|\n",
            "|  1.0|(692,[156,157,158...|[-1.5435020027249...|[0.04364652142729...|       1.0|\n",
            "|  1.0|(692,[158,159,160...|[-1.5435020027249...|[0.04364652142729...|       1.0|\n",
            "+-----+--------------------+--------------------+--------------------+----------+\n",
            "\n"
          ],
          "name": "stdout"
        }
      ]
    },
    {
      "cell_type": "markdown",
      "metadata": {
        "id": "q4f-nHmBlIC4"
      },
      "source": [
        "# Evaluation\n",
        "\n",
        "This is a binary classification task so we can use ROC or precision, recall etc. But Multiclassclassificationevaluator works even though this is a binary classification task."
      ]
    },
    {
      "cell_type": "code",
      "metadata": {
        "id": "DfD0CVY6jjZs"
      },
      "source": [
        "from pyspark.ml.evaluation import MulticlassClassificationEvaluator"
      ],
      "execution_count": 15,
      "outputs": []
    },
    {
      "cell_type": "code",
      "metadata": {
        "id": "ELBqS9KllssM"
      },
      "source": [
        "acc_eval = MulticlassClassificationEvaluator(metricName='accuracy')"
      ],
      "execution_count": 16,
      "outputs": []
    },
    {
      "cell_type": "code",
      "metadata": {
        "colab": {
          "base_uri": "https://localhost:8080/"
        },
        "id": "83CNRgPAl2PG",
        "outputId": "1c743070-8d6d-4803-9979-50623ee022de"
      },
      "source": [
        "print('DTC ACCURACY: ', acc_eval.evaluate(dtc_preds))"
      ],
      "execution_count": 20,
      "outputs": [
        {
          "output_type": "stream",
          "text": [
            "DTC ACCURACY:  0.95\n"
          ],
          "name": "stdout"
        }
      ]
    },
    {
      "cell_type": "code",
      "metadata": {
        "colab": {
          "base_uri": "https://localhost:8080/"
        },
        "id": "HbH8qR3jl8v2",
        "outputId": "2e8eb8c6-80c7-4ab3-b193-ee4592af8992"
      },
      "source": [
        "print('RFC ACCURACY: ', acc_eval.evaluate(rfc_preds))"
      ],
      "execution_count": 21,
      "outputs": [
        {
          "output_type": "stream",
          "text": [
            "RFC ACCURACY:  1.0\n"
          ],
          "name": "stdout"
        }
      ]
    },
    {
      "cell_type": "code",
      "metadata": {
        "colab": {
          "base_uri": "https://localhost:8080/"
        },
        "id": "_h0F-TWwmGAV",
        "outputId": "1de34cf0-8ba2-4d66-ca02-4a41a147e47e"
      },
      "source": [
        "print('GBT ACCURACY: ', acc_eval.evaluate(gbt_preds))"
      ],
      "execution_count": 22,
      "outputs": [
        {
          "output_type": "stream",
          "text": [
            "GBT ACCURACY:  0.95\n"
          ],
          "name": "stdout"
        }
      ]
    },
    {
      "cell_type": "markdown",
      "metadata": {
        "id": "CY3TszYKmMa-"
      },
      "source": [
        "# Feature Importance\n",
        "Higher the number is more important."
      ]
    },
    {
      "cell_type": "code",
      "metadata": {
        "colab": {
          "base_uri": "https://localhost:8080/"
        },
        "id": "uwcJQtarmOgc",
        "outputId": "bbdd4815-fec2-49cb-b108-7d9d44f7696f"
      },
      "source": [
        "rfc_model.featureImportances"
      ],
      "execution_count": 23,
      "outputs": [
        {
          "output_type": "execute_result",
          "data": {
            "text/plain": [
              "SparseVector(692, {102: 0.0006, 131: 0.0006, 155: 0.0004, 156: 0.0005, 176: 0.0005, 202: 0.0005, 204: 0.0005, 205: 0.0008, 213: 0.0005, 214: 0.0032, 231: 0.0011, 234: 0.0138, 236: 0.0009, 241: 0.0006, 242: 0.0004, 243: 0.0079, 260: 0.0005, 263: 0.0156, 264: 0.0041, 270: 0.0011, 271: 0.0086, 272: 0.0088, 273: 0.0174, 274: 0.0004, 290: 0.0172, 291: 0.0034, 299: 0.0012, 300: 0.0116, 301: 0.0239, 303: 0.0013, 317: 0.0345, 318: 0.0003, 322: 0.0009, 323: 0.0092, 327: 0.0006, 328: 0.0167, 331: 0.0006, 342: 0.0004, 346: 0.0005, 347: 0.0006, 350: 0.0083, 351: 0.0186, 353: 0.0004, 354: 0.0023, 355: 0.0048, 356: 0.0168, 357: 0.0093, 358: 0.0072, 369: 0.0015, 373: 0.0089, 374: 0.0075, 375: 0.0012, 377: 0.0051, 378: 0.0201, 379: 0.0122, 381: 0.0022, 385: 0.0071, 387: 0.0005, 397: 0.0014, 398: 0.0063, 400: 0.0149, 401: 0.0252, 402: 0.0009, 405: 0.0169, 406: 0.0812, 407: 0.0005, 409: 0.0012, 410: 0.0005, 412: 0.016, 426: 0.0004, 428: 0.0068, 429: 0.0081, 431: 0.0011, 433: 0.0329, 434: 0.0445, 435: 0.0108, 437: 0.0007, 438: 0.0005, 439: 0.0009, 440: 0.0205, 443: 0.0005, 453: 0.0009, 455: 0.0171, 456: 0.0087, 458: 0.0005, 461: 0.0388, 462: 0.0435, 463: 0.0085, 466: 0.0028, 467: 0.0047, 468: 0.0005, 469: 0.0077, 484: 0.0071, 485: 0.0015, 489: 0.0142, 490: 0.0604, 491: 0.0051, 495: 0.0003, 496: 0.0157, 508: 0.0006, 509: 0.0025, 511: 0.0366, 512: 0.0018, 514: 0.0014, 517: 0.0322, 518: 0.0003, 519: 0.0007, 522: 0.0022, 523: 0.0017, 539: 0.0085, 546: 0.0003, 549: 0.0007, 551: 0.0024, 552: 0.0004, 568: 0.0159, 569: 0.0024, 570: 0.0002, 576: 0.0011, 578: 0.0009, 582: 0.0006, 596: 0.0005, 601: 0.0002, 604: 0.0006, 606: 0.0004, 623: 0.0006, 624: 0.0005, 630: 0.0004, 632: 0.0017, 637: 0.0004, 650: 0.0005, 660: 0.0005, 682: 0.002, 685: 0.0009, 686: 0.0005})"
            ]
          },
          "metadata": {},
          "execution_count": 23
        }
      ]
    },
    {
      "cell_type": "code",
      "metadata": {
        "colab": {
          "base_uri": "https://localhost:8080/"
        },
        "id": "ayyIhbK4mRcW",
        "outputId": "9b26d6df-1ea6-4134-dd29-072c38041a02"
      },
      "source": [
        "dtc_model.featureImportances"
      ],
      "execution_count": 24,
      "outputs": [
        {
          "output_type": "execute_result",
          "data": {
            "text/plain": [
              "SparseVector(692, {434: 1.0})"
            ]
          },
          "metadata": {},
          "execution_count": 24
        }
      ]
    },
    {
      "cell_type": "code",
      "metadata": {
        "colab": {
          "base_uri": "https://localhost:8080/"
        },
        "id": "5JoASgV2ma18",
        "outputId": "360fc100-e7e3-4a09-ca16-68a59028ba9f"
      },
      "source": [
        "gbt_model.featureImportances"
      ],
      "execution_count": 25,
      "outputs": [
        {
          "output_type": "execute_result",
          "data": {
            "text/plain": [
              "SparseVector(692, {434: 0.5926, 462: 0.2651, 490: 0.1423})"
            ]
          },
          "metadata": {},
          "execution_count": 25
        }
      ]
    }
  ]
}