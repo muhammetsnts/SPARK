{
  "nbformat": 4,
  "nbformat_minor": 0,
  "metadata": {
    "colab": {
      "name": "1.Linear_Regression_Documentation_Example.ipynb",
      "provenance": [],
      "collapsed_sections": []
    },
    "kernelspec": {
      "name": "python3",
      "display_name": "Python 3"
    },
    "language_info": {
      "name": "python"
    }
  },
  "cells": [
    {
      "cell_type": "markdown",
      "metadata": {
        "id": "yM0g_oShSxec"
      },
      "source": [
        "# Setup Environment"
      ]
    },
    {
      "cell_type": "code",
      "metadata": {
        "id": "NZZ4nklL2ja4"
      },
      "source": [
        "# install Java8\n",
        "!apt-get -q install openjdk-8-jdk-headless -qq > /dev/null\n",
        "\n",
        "# download spark3.1.1\n",
        "!wget -q https://archive.apache.org/dist/spark/spark-3.1.1/spark-3.1.1-bin-hadoop2.7.tgz\n",
        "\n",
        "# unzip it\n",
        "!tar xf spark-3.1.1-bin-hadoop2.7.tgz\n",
        "\n",
        "# install findspark \n",
        "!pip install -q findspark\n",
        "\n",
        "\n",
        "import os\n",
        "os.environ[\"JAVA_HOME\"] = \"/usr/lib/jvm/java-8-openjdk-amd64\"\n",
        "os.environ[\"PATH\"] = os.environ[\"JAVA_HOME\"] + \"/bin:\" + os.environ[\"PATH\"]\n",
        "os.environ[\"SPARK_HOME\"] = \"/content/spark-3.1.1-bin-hadoop2.7\"\n",
        "\n",
        "\n",
        "import findspark\n",
        "findspark.init()\n",
        "from pyspark.sql import SparkSession\n",
        "spark = SparkSession.builder.master(\"local[*]\").getOrCreate()\n",
        "#spark = SparkSession.builder.appName('ops').getOrCreate()"
      ],
      "execution_count": null,
      "outputs": []
    },
    {
      "cell_type": "markdown",
      "metadata": {
        "id": "c5MaP25vM_GI"
      },
      "source": [
        "# Load Dataset"
      ]
    },
    {
      "cell_type": "code",
      "metadata": {
        "id": "xl6RIIlGMqsn"
      },
      "source": [
        "!wget -q https://raw.githubusercontent.com/muhammetsnts/SPARK/main/data/sample_linear_regression_data.txt"
      ],
      "execution_count": null,
      "outputs": []
    },
    {
      "cell_type": "code",
      "metadata": {
        "id": "9PCNYc2WFeCI"
      },
      "source": [
        "training = spark.read.format('libsvm').load('sample_linear_regression_data.txt')"
      ],
      "execution_count": null,
      "outputs": []
    },
    {
      "cell_type": "code",
      "metadata": {
        "colab": {
          "base_uri": "https://localhost:8080/"
        },
        "id": "c7IHfH_1GAdl",
        "outputId": "022a7e3c-c5c9-4856-b18a-b13c7fe394bf"
      },
      "source": [
        "training.show()"
      ],
      "execution_count": null,
      "outputs": [
        {
          "output_type": "stream",
          "text": [
            "+-------------------+--------------------+\n",
            "|              label|            features|\n",
            "+-------------------+--------------------+\n",
            "| -9.490009878824548|(10,[0,1,2,3,4,5,...|\n",
            "| 0.2577820163584905|(10,[0,1,2,3,4,5,...|\n",
            "| -4.438869807456516|(10,[0,1,2,3,4,5,...|\n",
            "|-19.782762789614537|(10,[0,1,2,3,4,5,...|\n",
            "| -7.966593841555266|(10,[0,1,2,3,4,5,...|\n",
            "| -7.896274316726144|(10,[0,1,2,3,4,5,...|\n",
            "| -8.464803554195287|(10,[0,1,2,3,4,5,...|\n",
            "| 2.1214592666251364|(10,[0,1,2,3,4,5,...|\n",
            "| 1.0720117616524107|(10,[0,1,2,3,4,5,...|\n",
            "|-13.772441561702871|(10,[0,1,2,3,4,5,...|\n",
            "| -5.082010756207233|(10,[0,1,2,3,4,5,...|\n",
            "|  7.887786536531237|(10,[0,1,2,3,4,5,...|\n",
            "| 14.323146365332388|(10,[0,1,2,3,4,5,...|\n",
            "|-20.057482615789212|(10,[0,1,2,3,4,5,...|\n",
            "|-0.8995693247765151|(10,[0,1,2,3,4,5,...|\n",
            "| -19.16829262296376|(10,[0,1,2,3,4,5,...|\n",
            "|  5.601801561245534|(10,[0,1,2,3,4,5,...|\n",
            "|-3.2256352187273354|(10,[0,1,2,3,4,5,...|\n",
            "| 1.5299675726687754|(10,[0,1,2,3,4,5,...|\n",
            "| -0.250102447941961|(10,[0,1,2,3,4,5,...|\n",
            "+-------------------+--------------------+\n",
            "only showing top 20 rows\n",
            "\n"
          ],
          "name": "stdout"
        }
      ]
    },
    {
      "cell_type": "markdown",
      "metadata": {
        "id": "V2HTtFIlHFYJ"
      },
      "source": [
        "# Creating and Training a LR Model"
      ]
    },
    {
      "cell_type": "markdown",
      "metadata": {
        "id": "5HvPgX9gHVXe"
      },
      "source": [
        "First we create a model."
      ]
    },
    {
      "cell_type": "code",
      "metadata": {
        "id": "CN99HMyvAAwr"
      },
      "source": [
        "from pyspark.ml.regression import LinearRegression"
      ],
      "execution_count": null,
      "outputs": []
    },
    {
      "cell_type": "code",
      "metadata": {
        "id": "JvS6wIHDGChH"
      },
      "source": [
        "# for more parameter. Shift + Tab\n",
        "\n",
        "lr = LinearRegression(featuresCol='features', labelCol='label', predictionCol='prediction') "
      ],
      "execution_count": null,
      "outputs": []
    },
    {
      "cell_type": "markdown",
      "metadata": {
        "id": "m75Nj7zWHX9a"
      },
      "source": [
        "Now we can fit our data to our model."
      ]
    },
    {
      "cell_type": "code",
      "metadata": {
        "id": "W6oxiN5zHEBd"
      },
      "source": [
        "lrModel = lr.fit(training)"
      ],
      "execution_count": null,
      "outputs": []
    },
    {
      "cell_type": "markdown",
      "metadata": {
        "id": "sDMo6CC2HgXF"
      },
      "source": [
        "Lets check some statistics."
      ]
    },
    {
      "cell_type": "code",
      "metadata": {
        "colab": {
          "base_uri": "https://localhost:8080/"
        },
        "id": "SZKdmelWHTjC",
        "outputId": "506707dc-5e18-43ce-9a41-e9d5b7a98e81"
      },
      "source": [
        "lrModel.coefficients"
      ],
      "execution_count": null,
      "outputs": [
        {
          "output_type": "execute_result",
          "data": {
            "text/plain": [
              "DenseVector([0.0073, 0.8314, -0.8095, 2.4412, 0.5192, 1.1535, -0.2989, -0.5129, -0.6197, 0.6956])"
            ]
          },
          "metadata": {},
          "execution_count": 9
        }
      ]
    },
    {
      "cell_type": "code",
      "metadata": {
        "colab": {
          "base_uri": "https://localhost:8080/"
        },
        "id": "TbB-y77HHe2k",
        "outputId": "2b94c919-9d56-4f60-8a6d-fb303d6dcd1c"
      },
      "source": [
        "lrModel.intercept"
      ],
      "execution_count": null,
      "outputs": [
        {
          "output_type": "execute_result",
          "data": {
            "text/plain": [
              "0.14228558260358093"
            ]
          },
          "metadata": {},
          "execution_count": 10
        }
      ]
    },
    {
      "cell_type": "markdown",
      "metadata": {
        "id": "NhQ8q5JFIDId"
      },
      "source": [
        "Lets check the summary attribute that contains even mre information."
      ]
    },
    {
      "cell_type": "code",
      "metadata": {
        "id": "ttmPCXg9HsmK"
      },
      "source": [
        "training_summary = lrModel.summary"
      ],
      "execution_count": null,
      "outputs": []
    },
    {
      "cell_type": "code",
      "metadata": {
        "colab": {
          "base_uri": "https://localhost:8080/"
        },
        "id": "FeQmXBY9H7tj",
        "outputId": "a7f4f333-e30b-4a76-e8f5-b6783ccbab17"
      },
      "source": [
        "training_summary.r2  # how much variance is explained by the model"
      ],
      "execution_count": null,
      "outputs": [
        {
          "output_type": "execute_result",
          "data": {
            "text/plain": [
              "0.027839179518600154"
            ]
          },
          "metadata": {},
          "execution_count": 14
        }
      ]
    },
    {
      "cell_type": "code",
      "metadata": {
        "colab": {
          "base_uri": "https://localhost:8080/"
        },
        "id": "YKh1ndZQIARC",
        "outputId": "cd745c9e-515c-48fe-ff79-54271d2ecf87"
      },
      "source": [
        "training_summary.rootMeanSquaredError"
      ],
      "execution_count": null,
      "outputs": [
        {
          "output_type": "execute_result",
          "data": {
            "text/plain": [
              "10.16309157133015"
            ]
          },
          "metadata": {},
          "execution_count": 15
        }
      ]
    },
    {
      "cell_type": "code",
      "metadata": {
        "colab": {
          "base_uri": "https://localhost:8080/"
        },
        "id": "e6gVuF6qIrFg",
        "outputId": "b4d05e2d-32f0-4233-c012-fc8f96c49368"
      },
      "source": [
        "training_summary.pValues"
      ],
      "execution_count": null,
      "outputs": [
        {
          "output_type": "execute_result",
          "data": {
            "text/plain": [
              "[0.9927505031240562,\n",
              " 0.30967074330990396,\n",
              " 0.3178269194409711,\n",
              " 0.003972477331573909,\n",
              " 0.5201486327242175,\n",
              " 0.16213017210149872,\n",
              " 0.7102819001865635,\n",
              " 0.5266812209137877,\n",
              " 0.46256007153356316,\n",
              " 0.37825808848978526,\n",
              " 0.7592692146070568]"
            ]
          },
          "metadata": {},
          "execution_count": 16
        }
      ]
    },
    {
      "cell_type": "markdown",
      "metadata": {
        "id": "si1ChuU7Jrx8"
      },
      "source": [
        "# Train-Test Split"
      ]
    },
    {
      "cell_type": "code",
      "metadata": {
        "id": "Ab-95lAYIxaO"
      },
      "source": [
        "all_data = spark.read.format('libsvm').load('sample_linear_regression_data.txt')"
      ],
      "execution_count": null,
      "outputs": []
    },
    {
      "cell_type": "code",
      "metadata": {
        "colab": {
          "base_uri": "https://localhost:8080/"
        },
        "id": "D6TwOvTmJDjv",
        "outputId": "f93bd40e-f68b-4d17-ce45-c810d9a89292"
      },
      "source": [
        "# there are two kind of dataframe \n",
        "# first one is 0.7 of the data and the second one is 0.3\n",
        "\n",
        "split_object = all_data.randomSplit([0.7, 0.3])\n",
        "split_object"
      ],
      "execution_count": null,
      "outputs": [
        {
          "output_type": "execute_result",
          "data": {
            "text/plain": [
              "[DataFrame[label: double, features: vector],\n",
              " DataFrame[label: double, features: vector]]"
            ]
          },
          "metadata": {},
          "execution_count": 19
        }
      ]
    },
    {
      "cell_type": "markdown",
      "metadata": {
        "id": "MA--qZ-fJgFj"
      },
      "source": [
        "But we generally refer this one."
      ]
    },
    {
      "cell_type": "code",
      "metadata": {
        "id": "rmFiKFi-JPft"
      },
      "source": [
        "train_data, test_data = all_data.randomSplit([0.7, 0.3])"
      ],
      "execution_count": null,
      "outputs": []
    },
    {
      "cell_type": "code",
      "metadata": {
        "colab": {
          "base_uri": "https://localhost:8080/"
        },
        "id": "YLpRPjshJqPE",
        "outputId": "44b62ce2-d9d4-4f78-e2aa-69e2afb75196"
      },
      "source": [
        "train_data.show()"
      ],
      "execution_count": null,
      "outputs": [
        {
          "output_type": "stream",
          "text": [
            "+-------------------+--------------------+\n",
            "|              label|            features|\n",
            "+-------------------+--------------------+\n",
            "|-28.046018037776633|(10,[0,1,2,3,4,5,...|\n",
            "|-26.736207182601724|(10,[0,1,2,3,4,5,...|\n",
            "| -23.51088409032297|(10,[0,1,2,3,4,5,...|\n",
            "|-23.487440120936512|(10,[0,1,2,3,4,5,...|\n",
            "|-22.949825936196074|(10,[0,1,2,3,4,5,...|\n",
            "|-22.837460416919342|(10,[0,1,2,3,4,5,...|\n",
            "|-21.432387764165806|(10,[0,1,2,3,4,5,...|\n",
            "|-20.057482615789212|(10,[0,1,2,3,4,5,...|\n",
            "|-19.872991038068406|(10,[0,1,2,3,4,5,...|\n",
            "| -19.66731861537172|(10,[0,1,2,3,4,5,...|\n",
            "|-19.402336030214553|(10,[0,1,2,3,4,5,...|\n",
            "|-18.845922472898582|(10,[0,1,2,3,4,5,...|\n",
            "|-17.494200356883344|(10,[0,1,2,3,4,5,...|\n",
            "|-17.428674570939506|(10,[0,1,2,3,4,5,...|\n",
            "| -17.32672073267595|(10,[0,1,2,3,4,5,...|\n",
            "|-17.065399625876015|(10,[0,1,2,3,4,5,...|\n",
            "|-17.026492264209548|(10,[0,1,2,3,4,5,...|\n",
            "| -16.26143027545273|(10,[0,1,2,3,4,5,...|\n",
            "|-16.151349351277112|(10,[0,1,2,3,4,5,...|\n",
            "| -16.08565904102149|(10,[0,1,2,3,4,5,...|\n",
            "+-------------------+--------------------+\n",
            "only showing top 20 rows\n",
            "\n"
          ],
          "name": "stdout"
        }
      ]
    },
    {
      "cell_type": "code",
      "metadata": {
        "colab": {
          "base_uri": "https://localhost:8080/"
        },
        "id": "-7v6zYdeJ5bM",
        "outputId": "0459ac51-1db1-4a3d-f935-d5fb04f4b867"
      },
      "source": [
        "test_data.show()"
      ],
      "execution_count": null,
      "outputs": [
        {
          "output_type": "stream",
          "text": [
            "+-------------------+--------------------+\n",
            "|              label|            features|\n",
            "+-------------------+--------------------+\n",
            "|-28.571478869743427|(10,[0,1,2,3,4,5,...|\n",
            "|-26.805483428483072|(10,[0,1,2,3,4,5,...|\n",
            "|-20.212077258958672|(10,[0,1,2,3,4,5,...|\n",
            "|-19.884560774273424|(10,[0,1,2,3,4,5,...|\n",
            "|-19.782762789614537|(10,[0,1,2,3,4,5,...|\n",
            "| -19.16829262296376|(10,[0,1,2,3,4,5,...|\n",
            "| -18.27521356600463|(10,[0,1,2,3,4,5,...|\n",
            "|-17.803626188664516|(10,[0,1,2,3,4,5,...|\n",
            "| -16.71909683360509|(10,[0,1,2,3,4,5,...|\n",
            "|-16.692207021311106|(10,[0,1,2,3,4,5,...|\n",
            "| -15.86200932757056|(10,[0,1,2,3,4,5,...|\n",
            "|-15.732088272239245|(10,[0,1,2,3,4,5,...|\n",
            "| -15.72351561304857|(10,[0,1,2,3,4,5,...|\n",
            "|-15.334767479922341|(10,[0,1,2,3,4,5,...|\n",
            "|-15.310980589416289|(10,[0,1,2,3,4,5,...|\n",
            "|-15.056482974542433|(10,[0,1,2,3,4,5,...|\n",
            "|-14.762758252931127|(10,[0,1,2,3,4,5,...|\n",
            "|-13.976130931152703|(10,[0,1,2,3,4,5,...|\n",
            "|-13.867087895158768|(10,[0,1,2,3,4,5,...|\n",
            "| -13.15333560636553|(10,[0,1,2,3,4,5,...|\n",
            "+-------------------+--------------------+\n",
            "only showing top 20 rows\n",
            "\n"
          ],
          "name": "stdout"
        }
      ]
    },
    {
      "cell_type": "code",
      "metadata": {
        "colab": {
          "base_uri": "https://localhost:8080/"
        },
        "id": "UeVkh_7cJ75L",
        "outputId": "6c44de7e-3031-4917-dd39-a22dc7c4e821"
      },
      "source": [
        "test_data.describe().show()"
      ],
      "execution_count": null,
      "outputs": [
        {
          "output_type": "stream",
          "text": [
            "+-------+-------------------+\n",
            "|summary|              label|\n",
            "+-------+-------------------+\n",
            "|  count|                148|\n",
            "|   mean|-0.9088682857352514|\n",
            "| stddev| 10.342590885962913|\n",
            "|    min|-28.571478869743427|\n",
            "|    max| 24.290551295953957|\n",
            "+-------+-------------------+\n",
            "\n"
          ],
          "name": "stdout"
        }
      ]
    },
    {
      "cell_type": "markdown",
      "metadata": {
        "id": "eyn-Op9-K4Xj"
      },
      "source": [
        "# Evaluate Model"
      ]
    },
    {
      "cell_type": "code",
      "metadata": {
        "id": "7VVajDIlJ_Vz"
      },
      "source": [
        "correct_model = lr.fit(train_data)"
      ],
      "execution_count": null,
      "outputs": []
    },
    {
      "cell_type": "code",
      "metadata": {
        "id": "1TIrSMdAKNHb"
      },
      "source": [
        "test_results = correct_model.evaluate(test_data)"
      ],
      "execution_count": null,
      "outputs": []
    },
    {
      "cell_type": "code",
      "metadata": {
        "colab": {
          "base_uri": "https://localhost:8080/"
        },
        "id": "OO1lcqKcKR7d",
        "outputId": "8b72b185-f132-4e26-862e-314aab7216d7"
      },
      "source": [
        "test_results.rootMeanSquaredError"
      ],
      "execution_count": null,
      "outputs": [
        {
          "output_type": "execute_result",
          "data": {
            "text/plain": [
              "10.70132357350396"
            ]
          },
          "metadata": {},
          "execution_count": 27
        }
      ]
    },
    {
      "cell_type": "code",
      "metadata": {
        "colab": {
          "base_uri": "https://localhost:8080/"
        },
        "id": "7hRKnB1qK_vP",
        "outputId": "f18c08ae-4883-4166-a28b-d9eec16076f7"
      },
      "source": [
        "test_results.residuals.show()"
      ],
      "execution_count": null,
      "outputs": [
        {
          "output_type": "stream",
          "text": [
            "+-------------------+\n",
            "|          residuals|\n",
            "+-------------------+\n",
            "|-28.949955352611447|\n",
            "|  -29.9599462749756|\n",
            "|-22.338769093200554|\n",
            "|-21.247229601601216|\n",
            "|-21.340785497565232|\n",
            "|  -17.4733219348941|\n",
            "|-18.531849277768732|\n",
            "|-15.235795799393944|\n",
            "|-17.309094908162105|\n",
            "| -17.11448518904557|\n",
            "| -18.75048204406387|\n",
            "|-15.055586480022734|\n",
            "|-20.539072887323467|\n",
            "| -16.49709477556081|\n",
            "|-12.350619305341677|\n",
            "|-18.579267763348717|\n",
            "| -16.35578187170862|\n",
            "|-14.223857979504098|\n",
            "|-11.049621880112518|\n",
            "|-12.552441642925524|\n",
            "+-------------------+\n",
            "only showing top 20 rows\n",
            "\n"
          ],
          "name": "stdout"
        }
      ]
    },
    {
      "cell_type": "markdown",
      "metadata": {
        "id": "2ziEw4oTLRCH"
      },
      "source": [
        "# Deploying Model"
      ]
    },
    {
      "cell_type": "markdown",
      "metadata": {
        "id": "1vJwigYSLWXL"
      },
      "source": [
        "Lets create a unlabeled data from test data."
      ]
    },
    {
      "cell_type": "code",
      "metadata": {
        "colab": {
          "base_uri": "https://localhost:8080/"
        },
        "id": "6sikCui5KVUS",
        "outputId": "2d212614-e5b9-408f-cab6-87afb0111d48"
      },
      "source": [
        "unlabeled_data = test_data.select('features')\n",
        "unlabeled_data.show()"
      ],
      "execution_count": null,
      "outputs": [
        {
          "output_type": "stream",
          "text": [
            "+--------------------+\n",
            "|            features|\n",
            "+--------------------+\n",
            "|(10,[0,1,2,3,4,5,...|\n",
            "|(10,[0,1,2,3,4,5,...|\n",
            "|(10,[0,1,2,3,4,5,...|\n",
            "|(10,[0,1,2,3,4,5,...|\n",
            "|(10,[0,1,2,3,4,5,...|\n",
            "|(10,[0,1,2,3,4,5,...|\n",
            "|(10,[0,1,2,3,4,5,...|\n",
            "|(10,[0,1,2,3,4,5,...|\n",
            "|(10,[0,1,2,3,4,5,...|\n",
            "|(10,[0,1,2,3,4,5,...|\n",
            "|(10,[0,1,2,3,4,5,...|\n",
            "|(10,[0,1,2,3,4,5,...|\n",
            "|(10,[0,1,2,3,4,5,...|\n",
            "|(10,[0,1,2,3,4,5,...|\n",
            "|(10,[0,1,2,3,4,5,...|\n",
            "|(10,[0,1,2,3,4,5,...|\n",
            "|(10,[0,1,2,3,4,5,...|\n",
            "|(10,[0,1,2,3,4,5,...|\n",
            "|(10,[0,1,2,3,4,5,...|\n",
            "|(10,[0,1,2,3,4,5,...|\n",
            "+--------------------+\n",
            "only showing top 20 rows\n",
            "\n"
          ],
          "name": "stdout"
        }
      ]
    },
    {
      "cell_type": "markdown",
      "metadata": {
        "id": "fpcBaDZ7Lq-v"
      },
      "source": [
        "Lets transform our unlabeled data and get predictions."
      ]
    },
    {
      "cell_type": "code",
      "metadata": {
        "id": "gIV41YWsKsGJ"
      },
      "source": [
        "predictions = correct_model.transform(unlabeled_data)"
      ],
      "execution_count": null,
      "outputs": []
    },
    {
      "cell_type": "code",
      "metadata": {
        "colab": {
          "base_uri": "https://localhost:8080/"
        },
        "id": "BuJJuOZELfbf",
        "outputId": "7e1fec95-ae35-444f-f039-57174dda8e16"
      },
      "source": [
        "predictions.show()"
      ],
      "execution_count": null,
      "outputs": [
        {
          "output_type": "stream",
          "text": [
            "+--------------------+-------------------+\n",
            "|            features|         prediction|\n",
            "+--------------------+-------------------+\n",
            "|(10,[0,1,2,3,4,5,...|0.37847648286801994|\n",
            "|(10,[0,1,2,3,4,5,...| 3.1544628464925264|\n",
            "|(10,[0,1,2,3,4,5,...|  2.126691834241883|\n",
            "|(10,[0,1,2,3,4,5,...| 1.3626688273277918|\n",
            "|(10,[0,1,2,3,4,5,...| 1.5580227079506948|\n",
            "|(10,[0,1,2,3,4,5,...|-1.6949706880696627|\n",
            "|(10,[0,1,2,3,4,5,...| 0.2566357117640999|\n",
            "|(10,[0,1,2,3,4,5,...|-2.5678303892705725|\n",
            "|(10,[0,1,2,3,4,5,...| 0.5899980745570164|\n",
            "|(10,[0,1,2,3,4,5,...|0.42227816773446536|\n",
            "|(10,[0,1,2,3,4,5,...| 2.8884727164933084|\n",
            "|(10,[0,1,2,3,4,5,...|-0.6765017922165105|\n",
            "|(10,[0,1,2,3,4,5,...|  4.815557274274899|\n",
            "|(10,[0,1,2,3,4,5,...|  1.162327295638471|\n",
            "|(10,[0,1,2,3,4,5,...| -2.960361284074611|\n",
            "|(10,[0,1,2,3,4,5,...| 3.5227847888062858|\n",
            "|(10,[0,1,2,3,4,5,...|  1.593023618777492|\n",
            "|(10,[0,1,2,3,4,5,...|0.24772704835139592|\n",
            "|(10,[0,1,2,3,4,5,...| -2.817466015046249|\n",
            "|(10,[0,1,2,3,4,5,...|-0.6008939634400053|\n",
            "+--------------------+-------------------+\n",
            "only showing top 20 rows\n",
            "\n"
          ],
          "name": "stdout"
        }
      ]
    }
  ]
}