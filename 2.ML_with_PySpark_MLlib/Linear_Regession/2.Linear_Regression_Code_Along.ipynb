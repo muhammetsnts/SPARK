{
  "nbformat": 4,
  "nbformat_minor": 0,
  "metadata": {
    "colab": {
      "name": "2.Linear_Regression_Code_Along.ipynb",
      "provenance": [],
      "collapsed_sections": []
    },
    "kernelspec": {
      "name": "python3",
      "display_name": "Python 3"
    },
    "language_info": {
      "name": "python"
    }
  },
  "cells": [
    {
      "cell_type": "markdown",
      "metadata": {
        "id": "skdNXGufUQrE"
      },
      "source": [
        "# Setup Environment"
      ]
    },
    {
      "cell_type": "code",
      "metadata": {
        "id": "NZZ4nklL2ja4"
      },
      "source": [
        "# install Java8\n",
        "!apt-get -q install openjdk-8-jdk-headless -qq > /dev/null\n",
        "\n",
        "# download spark3.1.1\n",
        "!wget -q https://archive.apache.org/dist/spark/spark-3.1.1/spark-3.1.1-bin-hadoop2.7.tgz\n",
        "\n",
        "# unzip it\n",
        "!tar xf spark-3.1.1-bin-hadoop2.7.tgz\n",
        "\n",
        "# install findspark \n",
        "!pip install -q findspark\n",
        "\n",
        "\n",
        "import os\n",
        "os.environ[\"JAVA_HOME\"] = \"/usr/lib/jvm/java-8-openjdk-amd64\"\n",
        "os.environ[\"PATH\"] = os.environ[\"JAVA_HOME\"] + \"/bin:\" + os.environ[\"PATH\"]\n",
        "os.environ[\"SPARK_HOME\"] = \"/content/spark-3.1.1-bin-hadoop2.7\"\n",
        "\n",
        "\n",
        "import findspark\n",
        "findspark.init()\n",
        "from pyspark.sql import SparkSession\n",
        "spark = SparkSession.builder.master(\"local[*]\").getOrCreate()\n",
        "#spark = SparkSession.builder.appName('lr').getOrCreate()"
      ],
      "execution_count": null,
      "outputs": []
    },
    {
      "cell_type": "markdown",
      "metadata": {
        "id": "f_sH6XguU3-o"
      },
      "source": [
        "# Download and Read the Data"
      ]
    },
    {
      "cell_type": "code",
      "metadata": {
        "id": "bfKWSW-06LEW"
      },
      "source": [
        "!wget -q https://raw.githubusercontent.com/muhammetsnts/SPARK/main/data/Ecommerce_Customers.csv"
      ],
      "execution_count": null,
      "outputs": []
    },
    {
      "cell_type": "code",
      "metadata": {
        "id": "mni4iBs4nhmt"
      },
      "source": [
        "data = spark.read.csv(\"Ecommerce_Customers.csv\", inferSchema=True, header=True)"
      ],
      "execution_count": null,
      "outputs": []
    },
    {
      "cell_type": "code",
      "metadata": {
        "colab": {
          "base_uri": "https://localhost:8080/"
        },
        "id": "Qc67Xgernvgp",
        "outputId": "2564e00f-877d-4a1c-bfff-511a963406e8"
      },
      "source": [
        "data.printSchema()"
      ],
      "execution_count": null,
      "outputs": [
        {
          "output_type": "stream",
          "text": [
            "root\n",
            " |-- Email: string (nullable = true)\n",
            " |-- Address: string (nullable = true)\n",
            " |-- Avatar: string (nullable = true)\n",
            " |-- Avg Session Length: double (nullable = true)\n",
            " |-- Time on App: double (nullable = true)\n",
            " |-- Time on Website: double (nullable = true)\n",
            " |-- Length of Membership: double (nullable = true)\n",
            " |-- Yearly Amount Spent: double (nullable = true)\n",
            "\n"
          ],
          "name": "stdout"
        }
      ]
    },
    {
      "cell_type": "code",
      "metadata": {
        "colab": {
          "base_uri": "https://localhost:8080/"
        },
        "id": "M2xDTXEZoHSQ",
        "outputId": "43a4be9a-b5c2-4b61-83ed-d4c8f9001db9"
      },
      "source": [
        "data.show()"
      ],
      "execution_count": null,
      "outputs": [
        {
          "output_type": "stream",
          "text": [
            "+--------------------+--------------------+----------------+------------------+------------------+------------------+--------------------+-------------------+\n",
            "|               Email|             Address|          Avatar|Avg Session Length|       Time on App|   Time on Website|Length of Membership|Yearly Amount Spent|\n",
            "+--------------------+--------------------+----------------+------------------+------------------+------------------+--------------------+-------------------+\n",
            "|mstephenson@ferna...|835 Frank TunnelW...|          Violet| 34.49726772511229| 12.65565114916675| 39.57766801952616|  4.0826206329529615|  587.9510539684005|\n",
            "|   hduke@hotmail.com|4547 Archer Commo...|       DarkGreen| 31.92627202636016|11.109460728682564|37.268958868297744|    2.66403418213262|  392.2049334443264|\n",
            "|    pallen@yahoo.com|24645 Valerie Uni...|          Bisque|33.000914755642675|11.330278057777512|37.110597442120856|   4.104543202376424| 487.54750486747207|\n",
            "|riverarebecca@gma...|1414 David Throug...|     SaddleBrown| 34.30555662975554|13.717513665142507| 36.72128267790313|   3.120178782748092|  581.8523440352177|\n",
            "|mstephens@davidso...|14023 Rodriguez P...|MediumAquaMarine| 33.33067252364639|12.795188551078114| 37.53665330059473|   4.446308318351434|  599.4060920457634|\n",
            "|alvareznancy@luca...|645 Martha Park A...|     FloralWhite|33.871037879341976|12.026925339755056| 34.47687762925054|   5.493507201364199|   637.102447915074|\n",
            "|katherine20@yahoo...|68388 Reyes Light...|   DarkSlateBlue| 32.02159550138701|11.366348309710526| 36.68377615286961|   4.685017246570912|  521.5721747578274|\n",
            "|  awatkins@yahoo.com|Unit 6538 Box 898...|            Aqua|32.739142938380326| 12.35195897300293| 37.37335885854755|  4.4342734348999375|  549.9041461052942|\n",
            "|vchurch@walter-ma...|860 Lee KeyWest D...|          Salmon| 33.98777289568564|13.386235275676436|37.534497341555735|  3.2734335777477144|  570.2004089636196|\n",
            "|    bonnie69@lin.biz|PSC 2734, Box 525...|           Brown|31.936548618448917|11.814128294972196| 37.14516822352819|   3.202806071553459|  427.1993848953282|\n",
            "|andrew06@peterson...|26104 Alexander G...|          Tomato|33.992572774953736|13.338975447662113| 37.22580613162114|   2.482607770510596|  492.6060127179966|\n",
            "|ryanwerner@freema...|Unit 2413 Box 034...|          Tomato| 33.87936082480498|11.584782999535266| 37.08792607098381|    3.71320920294043|  522.3374046069357|\n",
            "|   knelson@gmail.com|6705 Miller Orcha...|       RoyalBlue|29.532428967057943|10.961298400154098| 37.42021557502538|   4.046423164299585|  408.6403510726275|\n",
            "|wrightpeter@yahoo...|05302 Dunlap Ferr...|          Bisque| 33.19033404372265|12.959226091609382|36.144666700041924|   3.918541839158999|  573.4158673313865|\n",
            "|taylormason@gmail...|7773 Powell Sprin...|        DarkBlue|32.387975853153876|13.148725692056516| 36.61995708279922|   2.494543646659249|  470.4527333009554|\n",
            "| jstark@anderson.com|49558 Ramirez Roa...|            Peru|30.737720372628182|12.636606052000127|36.213763093698624|  3.3578468423262944|  461.7807421962299|\n",
            "| wjennings@gmail.com|6362 Wilson Mount...|      PowderBlue| 32.12538689728784|11.733861690857394|  34.8940927514398|  3.1361327164897803| 457.84769594494855|\n",
            "|rebecca45@hale-ba...|8982 Burton RowWi...|       OliveDrab|32.338899323067196|12.013194694014402| 38.38513659413844|   2.420806160901484| 407.70454754954415|\n",
            "|alejandro75@hotma...|64475 Andre Club ...|            Cyan|32.187812045932155|  14.7153875441565| 38.24411459434352|   1.516575580831944|  452.3156754800354|\n",
            "|samuel46@love-wes...|544 Alexander Hei...|   LightSeaGreen| 32.61785606282345|13.989592555825254|37.190503800397956|   4.064548550437977|   605.061038804892|\n",
            "+--------------------+--------------------+----------------+------------------+------------------+------------------+--------------------+-------------------+\n",
            "only showing top 20 rows\n",
            "\n"
          ],
          "name": "stdout"
        }
      ]
    },
    {
      "cell_type": "code",
      "metadata": {
        "colab": {
          "base_uri": "https://localhost:8080/"
        },
        "id": "UuBZTrPmoTPH",
        "outputId": "d7582cf7-5de4-4063-951d-0ee166c67d92"
      },
      "source": [
        "for item in data.head(1)[0]:\n",
        "  print(item)"
      ],
      "execution_count": null,
      "outputs": [
        {
          "output_type": "stream",
          "text": [
            "mstephenson@fernandez.com\n",
            "835 Frank TunnelWrightmouth, MI 82180-9605\n",
            "Violet\n",
            "34.49726772511229\n",
            "12.65565114916675\n",
            "39.57766801952616\n",
            "4.0826206329529615\n",
            "587.9510539684005\n"
          ],
          "name": "stdout"
        }
      ]
    },
    {
      "cell_type": "code",
      "metadata": {
        "id": "slM1rgAqoaBv"
      },
      "source": [
        "from pyspark.ml.linalg import Vectors\n",
        "from pyspark.ml.feature import VectorAssembler"
      ],
      "execution_count": null,
      "outputs": []
    },
    {
      "cell_type": "markdown",
      "metadata": {
        "id": "3gJybausqESW"
      },
      "source": [
        "We will work with the numerical data. Also we want to predict the 'Yearly Amount Spent' column. We will use the `VectorAssembler` to get a one single vector to predict it. We will name the output column as `features`."
      ]
    },
    {
      "cell_type": "code",
      "metadata": {
        "colab": {
          "base_uri": "https://localhost:8080/"
        },
        "id": "s3XvmlWjp7LV",
        "outputId": "100fe615-e3a3-42f0-9d72-cb34796ede1e"
      },
      "source": [
        "data.columns"
      ],
      "execution_count": null,
      "outputs": [
        {
          "output_type": "execute_result",
          "data": {
            "text/plain": [
              "['Email',\n",
              " 'Address',\n",
              " 'Avatar',\n",
              " 'Avg Session Length',\n",
              " 'Time on App',\n",
              " 'Time on Website',\n",
              " 'Length of Membership',\n",
              " 'Yearly Amount Spent']"
            ]
          },
          "metadata": {},
          "execution_count": 9
        }
      ]
    },
    {
      "cell_type": "code",
      "metadata": {
        "id": "XplLlTqqqKb6"
      },
      "source": [
        "assembler = VectorAssembler(inputCols=['Avg Session Length',\n",
        "                                       'Time on App',\n",
        "                                      'Time on Website',\n",
        "                                       'Length of Membership'],\n",
        "                            outputCol='features')"
      ],
      "execution_count": null,
      "outputs": []
    },
    {
      "cell_type": "markdown",
      "metadata": {
        "id": "GavnX3XRr05C"
      },
      "source": [
        "We will transform all our data before train-test split."
      ]
    },
    {
      "cell_type": "code",
      "metadata": {
        "id": "jc-qMt_grqGI"
      },
      "source": [
        "# transform data\n",
        "\n",
        "output = assembler.transform(data)"
      ],
      "execution_count": null,
      "outputs": []
    },
    {
      "cell_type": "code",
      "metadata": {
        "colab": {
          "base_uri": "https://localhost:8080/"
        },
        "id": "W_o_TtgKr7O8",
        "outputId": "d7166ce9-1103-44ba-c9b6-21988881ac4a"
      },
      "source": [
        "# new features column\n",
        "\n",
        "output.printSchema()"
      ],
      "execution_count": null,
      "outputs": [
        {
          "output_type": "stream",
          "text": [
            "root\n",
            " |-- Email: string (nullable = true)\n",
            " |-- Address: string (nullable = true)\n",
            " |-- Avatar: string (nullable = true)\n",
            " |-- Avg Session Length: double (nullable = true)\n",
            " |-- Time on App: double (nullable = true)\n",
            " |-- Time on Website: double (nullable = true)\n",
            " |-- Length of Membership: double (nullable = true)\n",
            " |-- Yearly Amount Spent: double (nullable = true)\n",
            " |-- features: vector (nullable = true)\n",
            "\n"
          ],
          "name": "stdout"
        }
      ]
    },
    {
      "cell_type": "code",
      "metadata": {
        "colab": {
          "base_uri": "https://localhost:8080/"
        },
        "id": "9JZCinpnr9de",
        "outputId": "bf2fcb4c-e368-48e6-8f6b-eb9a66039280"
      },
      "source": [
        "output.head(1)"
      ],
      "execution_count": null,
      "outputs": [
        {
          "output_type": "execute_result",
          "data": {
            "text/plain": [
              "[Row(Email='mstephenson@fernandez.com', Address='835 Frank TunnelWrightmouth, MI 82180-9605', Avatar='Violet', Avg Session Length=34.49726772511229, Time on App=12.65565114916675, Time on Website=39.57766801952616, Length of Membership=4.0826206329529615, Yearly Amount Spent=587.9510539684005, features=DenseVector([34.4973, 12.6557, 39.5777, 4.0826]))]"
            ]
          },
          "metadata": {},
          "execution_count": 13
        }
      ]
    },
    {
      "cell_type": "code",
      "metadata": {
        "colab": {
          "base_uri": "https://localhost:8080/"
        },
        "id": "v5butcTjsGh8",
        "outputId": "f2821793-805f-4e6d-cb99-3ac10d6edc79"
      },
      "source": [
        "final_data = output.select(\"features\", \"Yearly Amount Spent\")\n",
        "final_data.show()"
      ],
      "execution_count": null,
      "outputs": [
        {
          "output_type": "stream",
          "text": [
            "+--------------------+-------------------+\n",
            "|            features|Yearly Amount Spent|\n",
            "+--------------------+-------------------+\n",
            "|[34.4972677251122...|  587.9510539684005|\n",
            "|[31.9262720263601...|  392.2049334443264|\n",
            "|[33.0009147556426...| 487.54750486747207|\n",
            "|[34.3055566297555...|  581.8523440352177|\n",
            "|[33.3306725236463...|  599.4060920457634|\n",
            "|[33.8710378793419...|   637.102447915074|\n",
            "|[32.0215955013870...|  521.5721747578274|\n",
            "|[32.7391429383803...|  549.9041461052942|\n",
            "|[33.9877728956856...|  570.2004089636196|\n",
            "|[31.9365486184489...|  427.1993848953282|\n",
            "|[33.9925727749537...|  492.6060127179966|\n",
            "|[33.8793608248049...|  522.3374046069357|\n",
            "|[29.5324289670579...|  408.6403510726275|\n",
            "|[33.1903340437226...|  573.4158673313865|\n",
            "|[32.3879758531538...|  470.4527333009554|\n",
            "|[30.7377203726281...|  461.7807421962299|\n",
            "|[32.1253868972878...| 457.84769594494855|\n",
            "|[32.3388993230671...| 407.70454754954415|\n",
            "|[32.1878120459321...|  452.3156754800354|\n",
            "|[32.6178560628234...|   605.061038804892|\n",
            "+--------------------+-------------------+\n",
            "only showing top 20 rows\n",
            "\n"
          ],
          "name": "stdout"
        }
      ]
    },
    {
      "cell_type": "markdown",
      "metadata": {
        "id": "Br0PAWgUsTPt"
      },
      "source": [
        "## Train-Test Split"
      ]
    },
    {
      "cell_type": "code",
      "metadata": {
        "id": "YKvYbZL2sSRM"
      },
      "source": [
        "train_data, test_data = final_data.randomSplit([0.7, 0.3])"
      ],
      "execution_count": null,
      "outputs": []
    },
    {
      "cell_type": "code",
      "metadata": {
        "colab": {
          "base_uri": "https://localhost:8080/"
        },
        "id": "QGTVd0eytEUH",
        "outputId": "b9bd8c7f-0609-4814-fb90-d5bffe2f1530"
      },
      "source": [
        "train_data.describe().show()"
      ],
      "execution_count": null,
      "outputs": [
        {
          "output_type": "stream",
          "text": [
            "+-------+-------------------+\n",
            "|summary|Yearly Amount Spent|\n",
            "+-------+-------------------+\n",
            "|  count|                360|\n",
            "|   mean| 497.07698395042723|\n",
            "| stddev|  82.10089106218331|\n",
            "|    min| 256.67058229005585|\n",
            "|    max|  765.5184619388373|\n",
            "+-------+-------------------+\n",
            "\n"
          ],
          "name": "stdout"
        }
      ]
    },
    {
      "cell_type": "code",
      "metadata": {
        "colab": {
          "base_uri": "https://localhost:8080/"
        },
        "id": "sjBFZgWWtWh5",
        "outputId": "6e36308a-c8dd-462b-e092-0fdee46efe1b"
      },
      "source": [
        "test_data.describe().show()"
      ],
      "execution_count": null,
      "outputs": [
        {
          "output_type": "stream",
          "text": [
            "+-------+-------------------+\n",
            "|summary|Yearly Amount Spent|\n",
            "+-------+-------------------+\n",
            "|  count|                140|\n",
            "|   mean|  505.0664636224398|\n",
            "| stddev|  71.61208908607843|\n",
            "|    min|  304.1355915788555|\n",
            "|    max|  700.9170916173961|\n",
            "+-------+-------------------+\n",
            "\n"
          ],
          "name": "stdout"
        }
      ]
    },
    {
      "cell_type": "markdown",
      "metadata": {
        "id": "4EeL3Lp9thho"
      },
      "source": [
        "## Create LR Model"
      ]
    },
    {
      "cell_type": "code",
      "metadata": {
        "id": "vwgnHBOUmo50"
      },
      "source": [
        "from pyspark.ml.regression import LinearRegression"
      ],
      "execution_count": null,
      "outputs": []
    },
    {
      "cell_type": "code",
      "metadata": {
        "id": "OcF7sKkttbFS"
      },
      "source": [
        "lr = LinearRegression(labelCol='Yearly Amount Spent')"
      ],
      "execution_count": null,
      "outputs": []
    },
    {
      "cell_type": "code",
      "metadata": {
        "id": "f-RTy2NYtxFC"
      },
      "source": [
        "lr_model = lr.fit(train_data)"
      ],
      "execution_count": null,
      "outputs": []
    },
    {
      "cell_type": "markdown",
      "metadata": {
        "id": "D7p92s0at36f"
      },
      "source": [
        "## Evaluate Model"
      ]
    },
    {
      "cell_type": "code",
      "metadata": {
        "id": "Ot2Ykdlht1Qg"
      },
      "source": [
        "test_results = lr_model.evaluate(test_data)"
      ],
      "execution_count": null,
      "outputs": []
    },
    {
      "cell_type": "code",
      "metadata": {
        "colab": {
          "base_uri": "https://localhost:8080/"
        },
        "id": "umhhdHIAt_IP",
        "outputId": "dd36dc4a-1131-40fd-b656-4e97f4732817"
      },
      "source": [
        "# residuals shows the diference between predicted value and the actual label from the test_data\n",
        "\n",
        "test_results.residuals.show()"
      ],
      "execution_count": null,
      "outputs": [
        {
          "output_type": "stream",
          "text": [
            "+-------------------+\n",
            "|          residuals|\n",
            "+-------------------+\n",
            "|  0.274132954258846|\n",
            "|-6.3856027805509825|\n",
            "| -22.07052082488792|\n",
            "|   -4.6967026202135|\n",
            "| 19.739400513402472|\n",
            "|  3.533434427863426|\n",
            "| 0.8103254793752512|\n",
            "| -7.742201099352428|\n",
            "| 16.712083423533215|\n",
            "|-26.411709143245275|\n",
            "|  1.130990120183526|\n",
            "| -11.98225544959223|\n",
            "|  -3.41307405005972|\n",
            "|  -2.38501149444528|\n",
            "| -5.579456031794621|\n",
            "|  5.792247742635595|\n",
            "|-3.5215118449870033|\n",
            "| -9.347277947264047|\n",
            "|  5.870965793483151|\n",
            "|  5.582262602704418|\n",
            "+-------------------+\n",
            "only showing top 20 rows\n",
            "\n"
          ],
          "name": "stdout"
        }
      ]
    },
    {
      "cell_type": "markdown",
      "metadata": {
        "id": "v1VIvoEmugYw"
      },
      "source": [
        "## Regression Evaluation Metrics"
      ]
    },
    {
      "cell_type": "code",
      "metadata": {
        "colab": {
          "base_uri": "https://localhost:8080/"
        },
        "id": "JQlmgecjuBbg",
        "outputId": "d0067362-945e-4ccc-c8cc-803b96b92057"
      },
      "source": [
        "# rootMeanSquaredError is about 10$\n",
        "\n",
        "test_results.rootMeanSquaredError"
      ],
      "execution_count": null,
      "outputs": [
        {
          "output_type": "execute_result",
          "data": {
            "text/plain": [
              "10.049945736306762"
            ]
          },
          "metadata": {},
          "execution_count": 32
        }
      ]
    },
    {
      "cell_type": "code",
      "metadata": {
        "colab": {
          "base_uri": "https://localhost:8080/"
        },
        "id": "HMd-k1v8uoRp",
        "outputId": "ea7aaf17-87d7-490a-d3c1-e59d4ab6932c"
      },
      "source": [
        "test_results.r2"
      ],
      "execution_count": null,
      "outputs": [
        {
          "output_type": "execute_result",
          "data": {
            "text/plain": [
              "0.9801633658989495"
            ]
          },
          "metadata": {},
          "execution_count": 30
        }
      ]
    },
    {
      "cell_type": "code",
      "metadata": {
        "colab": {
          "base_uri": "https://localhost:8080/"
        },
        "id": "1U8xpHyTuq8l",
        "outputId": "3a037b08-9c52-4038-9b7f-d48488ed86e2"
      },
      "source": [
        "final_data.describe().show()"
      ],
      "execution_count": null,
      "outputs": [
        {
          "output_type": "stream",
          "text": [
            "+-------+-------------------+\n",
            "|summary|Yearly Amount Spent|\n",
            "+-------+-------------------+\n",
            "|  count|                500|\n",
            "|   mean|  499.3140382585909|\n",
            "| stddev|   79.3147815497068|\n",
            "|    min| 256.67058229005585|\n",
            "|    max|  765.5184619388373|\n",
            "+-------+-------------------+\n",
            "\n"
          ],
          "name": "stdout"
        }
      ]
    },
    {
      "cell_type": "markdown",
      "metadata": {
        "id": "6Qo5VggxvvgO"
      },
      "source": [
        "## Revealing The Results\n",
        "\n",
        "As you can see in the results the values of rootMeanSquaredError and r2 values are meaningless by themselves. When we compare the results with our main data, we can see that 10\\$ error is pretty good, because the mean of the YAS col is 499\\$. \n",
        "\n",
        "Also r2 value says, our model explains %98 percent of the variance in the data."
      ]
    },
    {
      "cell_type": "markdown",
      "metadata": {
        "id": "Cfh8IrMpxTGS"
      },
      "source": [
        "## Deploying Model\n",
        "\n",
        "Lets assume we have some customer features and we don't have how much they can spent in a year and try to predict that."
      ]
    },
    {
      "cell_type": "code",
      "metadata": {
        "id": "haFNuKz3u_iM"
      },
      "source": [
        "unlabeled_data = test_data.select('features')"
      ],
      "execution_count": null,
      "outputs": []
    },
    {
      "cell_type": "code",
      "metadata": {
        "colab": {
          "base_uri": "https://localhost:8080/"
        },
        "id": "ueJThYTpxrTV",
        "outputId": "b35a406a-afa1-4f59-f585-274d8947c825"
      },
      "source": [
        "unlabeled_data.show()"
      ],
      "execution_count": null,
      "outputs": [
        {
          "output_type": "stream",
          "text": [
            "+--------------------+\n",
            "|            features|\n",
            "+--------------------+\n",
            "|[30.5743636841713...|\n",
            "|[31.0613251567161...|\n",
            "|[31.1239743499119...|\n",
            "|[31.2681042107507...|\n",
            "|[31.3123495994443...|\n",
            "|[31.3662121671876...|\n",
            "|[31.3895854806643...|\n",
            "|[31.4474464941278...|\n",
            "|[31.6098395733896...|\n",
            "|[31.6739155032749...|\n",
            "|[31.7366356860502...|\n",
            "|[31.8093003166791...|\n",
            "|[31.8186165667690...|\n",
            "|[31.8530748017465...|\n",
            "|[31.9453957483445...|\n",
            "|[31.9480174211613...|\n",
            "|[31.9673209478824...|\n",
            "|[32.0085045178551...|\n",
            "|[32.0305497162129...|\n",
            "|[32.0478009788678...|\n",
            "+--------------------+\n",
            "only showing top 20 rows\n",
            "\n"
          ],
          "name": "stdout"
        }
      ]
    },
    {
      "cell_type": "code",
      "metadata": {
        "id": "xhXkSpdzxs1t"
      },
      "source": [
        "predictions = lr_model.transform(unlabeled_data)"
      ],
      "execution_count": null,
      "outputs": []
    },
    {
      "cell_type": "code",
      "metadata": {
        "colab": {
          "base_uri": "https://localhost:8080/"
        },
        "id": "3JmFYVF5xx0k",
        "outputId": "ce69f7e3-bef9-4583-d654-c7c53cbc0e46"
      },
      "source": [
        "predictions.show()"
      ],
      "execution_count": null,
      "outputs": [
        {
          "output_type": "stream",
          "text": [
            "+--------------------+------------------+\n",
            "|            features|        prediction|\n",
            "+--------------------+------------------+\n",
            "|[30.5743636841713...| 441.7902808038068|\n",
            "|[31.0613251567161...| 493.9410608384526|\n",
            "|[31.1239743499119...| 509.0175746646537|\n",
            "|[31.2681042107507...| 428.1672357940374|\n",
            "|[31.3123495994443...|443.85201751453815|\n",
            "|[31.3662121671876...| 427.0554481286215|\n",
            "|[31.3895854806643...|409.25928558060764|\n",
            "|[31.4474464941278...|426.34494319457644|\n",
            "|[31.6098395733896...|427.83346622757495|\n",
            "|[31.6739155032749...| 502.1367770531265|\n",
            "|[31.7366356860502...| 495.8024561353484|\n",
            "|[31.8093003166791...| 548.7541548124334|\n",
            "|[31.8186165667690...|449.83174742019537|\n",
            "|[31.8530748017465...|461.67013495679726|\n",
            "|[31.9453957483445...| 662.5993799694465|\n",
            "|[31.9480174211613...| 456.1286291502622|\n",
            "|[31.9673209478824...|449.27135308463926|\n",
            "|[32.0085045178551...|452.54449897601944|\n",
            "|[32.0305497162129...| 588.4035176251286|\n",
            "|[32.0478009788678...|507.86830858339204|\n",
            "+--------------------+------------------+\n",
            "only showing top 20 rows\n",
            "\n"
          ],
          "name": "stdout"
        }
      ]
    },
    {
      "cell_type": "markdown",
      "metadata": {
        "id": "il6fE6W1x1L1"
      },
      "source": [
        "We predicted the first customer will spent 441\\$, and the second one 493\\$."
      ]
    },
    {
      "cell_type": "code",
      "metadata": {
        "colab": {
          "base_uri": "https://localhost:8080/"
        },
        "id": "Trpd3sW2yRwz",
        "outputId": "9d687bdb-8263-421b-c0ce-8c7bb40bf50a"
      },
      "source": [
        "pred_results = predictions.join(test_data, predictions.features==test_data.features, how='inner').drop('features')\n",
        "pred_results.show()"
      ],
      "execution_count": null,
      "outputs": [
        {
          "output_type": "stream",
          "text": [
            "+------------------+-------------------+\n",
            "|        prediction|Yearly Amount Spent|\n",
            "+------------------+-------------------+\n",
            "| 441.7902808038068| 442.06441375806565|\n",
            "| 493.9410608384526|  487.5554580579016|\n",
            "| 509.0175746646537|  486.9470538397658|\n",
            "| 428.1672357940374|  423.4705331738239|\n",
            "|443.85201751453815|  463.5914180279406|\n",
            "| 427.0554481286215|  430.5888825564849|\n",
            "|409.25928558060764|  410.0696110599829|\n",
            "|426.34494319457644|   418.602742095224|\n",
            "|427.83346622757495| 444.54554965110816|\n",
            "| 502.1367770531265|  475.7250679098812|\n",
            "| 495.8024561353484|  496.9334462555319|\n",
            "| 548.7541548124334|  536.7718993628412|\n",
            "|449.83174742019537| 446.41867337013565|\n",
            "|461.67013495679726|   459.285123462352|\n",
            "| 662.5993799694465|  657.0199239376519|\n",
            "| 456.1286291502622|  461.9208768928978|\n",
            "|449.27135308463926| 445.74984123965226|\n",
            "|452.54449897601944|  443.1972210287554|\n",
            "| 588.4035176251286|  594.2744834186118|\n",
            "|507.86830858339204|  513.4505711860965|\n",
            "+------------------+-------------------+\n",
            "only showing top 20 rows\n",
            "\n"
          ],
          "name": "stdout"
        }
      ]
    },
    {
      "cell_type": "code",
      "metadata": {
        "colab": {
          "base_uri": "https://localhost:8080/"
        },
        "id": "N7UWqrs9yklq",
        "outputId": "e3dc70c7-9491-4fa4-96f9-9ee1f811b881"
      },
      "source": [
        "pred_results = pred_results.withColumn('difference', pred_results['prediction']-pred_results['Yearly Amount Spent'])\n",
        "pred_results.show()"
      ],
      "execution_count": null,
      "outputs": [
        {
          "output_type": "stream",
          "text": [
            "+------------------+-------------------+-------------------+\n",
            "|        prediction|Yearly Amount Spent|         difference|\n",
            "+------------------+-------------------+-------------------+\n",
            "| 441.7902808038068| 442.06441375806565| -0.274132954258846|\n",
            "| 493.9410608384526|  487.5554580579016| 6.3856027805509825|\n",
            "| 509.0175746646537|  486.9470538397658|  22.07052082488792|\n",
            "| 428.1672357940374|  423.4705331738239|    4.6967026202135|\n",
            "|443.85201751453815|  463.5914180279406|-19.739400513402472|\n",
            "| 427.0554481286215|  430.5888825564849| -3.533434427863426|\n",
            "|409.25928558060764|  410.0696110599829|-0.8103254793752512|\n",
            "|426.34494319457644|   418.602742095224|  7.742201099352428|\n",
            "|427.83346622757495| 444.54554965110816|-16.712083423533215|\n",
            "| 502.1367770531265|  475.7250679098812| 26.411709143245275|\n",
            "| 495.8024561353484|  496.9334462555319| -1.130990120183526|\n",
            "| 548.7541548124334|  536.7718993628412|  11.98225544959223|\n",
            "|449.83174742019537| 446.41867337013565|   3.41307405005972|\n",
            "|461.67013495679726|   459.285123462352|   2.38501149444528|\n",
            "| 662.5993799694465|  657.0199239376519|  5.579456031794621|\n",
            "| 456.1286291502622|  461.9208768928978| -5.792247742635595|\n",
            "|449.27135308463926| 445.74984123965226| 3.5215118449870033|\n",
            "|452.54449897601944|  443.1972210287554|  9.347277947264047|\n",
            "| 588.4035176251286|  594.2744834186118| -5.870965793483151|\n",
            "|507.86830858339204|  513.4505711860965| -5.582262602704418|\n",
            "+------------------+-------------------+-------------------+\n",
            "only showing top 20 rows\n",
            "\n"
          ],
          "name": "stdout"
        }
      ]
    },
    {
      "cell_type": "code",
      "metadata": {
        "colab": {
          "base_uri": "https://localhost:8080/"
        },
        "id": "WAvQUEYi39nj",
        "outputId": "975c212c-e833-432f-e267-6ce7090f8fee"
      },
      "source": [
        "pred_results.describe().show()"
      ],
      "execution_count": null,
      "outputs": [
        {
          "output_type": "stream",
          "text": [
            "+-------+------------------+-------------------+-------------------+\n",
            "|summary|        prediction|Yearly Amount Spent|         difference|\n",
            "+-------+------------------+-------------------+-------------------+\n",
            "|  count|               140|                140|                140|\n",
            "|   mean| 507.0939265007919|  505.0664636224398| 2.0274628783518613|\n",
            "| stddev| 70.58574827888118|  71.61208908607843|  9.878656777137072|\n",
            "|    min|315.16673276205256|  304.1355915788555|-24.256367823362552|\n",
            "|    max| 703.7530108495523|  700.9170916173961|  27.37718634776138|\n",
            "+-------+------------------+-------------------+-------------------+\n",
            "\n"
          ],
          "name": "stdout"
        }
      ]
    }
  ]
}